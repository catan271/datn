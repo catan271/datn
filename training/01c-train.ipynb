{
    "cells": [
        {
            "cell_type": "code",
            "execution_count": 1,
            "metadata": {},
            "outputs": [
                {
                    "data": {
                        "text/plain": [
                            "True"
                        ]
                    },
                    "execution_count": 1,
                    "metadata": {},
                    "output_type": "execute_result"
                }
            ],
            "source": [
                "%load_ext autoreload\n",
                "%autoreload 2\n",
                "\n",
                "from dotenv import load_dotenv\n",
                "import pandas as pd\n",
                "import numpy as np\n",
                "import os\n",
                "import sys\n",
                "import datetime\n",
                "\n",
                "root_path = os.path.abspath(os.path.join('..'))\n",
                "if root_path not in sys.path:\n",
                "    sys.path.append(root_path)\n",
                "    \n",
                "load_dotenv()"
            ]
        },
        {
            "cell_type": "code",
            "execution_count": 2,
            "metadata": {},
            "outputs": [
                {
                    "data": {
                        "text/plain": [
                            "((1598125, 1, 4),\n",
                            " (1598125, 7, 4),\n",
                            " (1598125, 4),\n",
                            " (263845, 1, 4),\n",
                            " (263845, 7, 4),\n",
                            " (263845, 4))"
                        ]
                    },
                    "execution_count": 2,
                    "metadata": {},
                    "output_type": "execute_result"
                }
            ],
            "source": [
                "# load datasets\n",
                "from utils.utils import date_range, preprocess_c\n",
                "\n",
                "df_train = pd.concat([\n",
                "    pd.read_csv(f'../datasets/d{d.strftime(\"%Y-%m-%d\")}.csv') for d in date_range(\n",
                "        datetime.date(2019, 11, 1), \n",
                "        datetime.date(2020, 2, 1),\n",
                "        datetime.timedelta(days=1),\n",
                "    )\n",
                "])\n",
                "df_val = pd.concat([\n",
                "    pd.read_csv(f'../datasets/d{d.strftime(\"%Y-%m-%d\")}.csv') for d in date_range(\n",
                "        datetime.date(2020, 2, 1), \n",
                "        datetime.date(2020, 2, 15),\n",
                "        datetime.timedelta(days=1),\n",
                "    )\n",
                "])\n",
                "\n",
                "X1_train, X2_train, y_train = preprocess_c(df_train)\n",
                "X1_val, X2_val, y_val = preprocess_c(df_val)\n",
                "\n",
                "X1_train.shape, X2_train.shape, y_train.shape, X1_val.shape, X2_val.shape, y_val.shape"
            ]
        },
        {
            "cell_type": "code",
            "execution_count": 3,
            "metadata": {},
            "outputs": [
                {
                    "name": "stdout",
                    "output_type": "stream",
                    "text": [
                        "Model: \"model\"\n",
                        "__________________________________________________________________________________________________\n",
                        " Layer (type)                   Output Shape         Param #     Connected to                     \n",
                        "==================================================================================================\n",
                        " input_1 (InputLayer)           [(None, 1, 4)]       0           []                               \n",
                        "                                                                                                  \n",
                        " input_2 (InputLayer)           [(None, 7, 4)]       0           []                               \n",
                        "                                                                                                  \n",
                        " dense (Dense)                  (None, 1, 32)        160         ['input_1[0][0]']                \n",
                        "                                                                                                  \n",
                        " conv1d (Conv1D)                (None, 5, 32)        416         ['input_2[0][0]']                \n",
                        "                                                                                                  \n",
                        " dense_1 (Dense)                (None, 1, 64)        2112        ['dense[0][0]']                  \n",
                        "                                                                                                  \n",
                        " max_pooling1d (MaxPooling1D)   (None, 2, 32)        0           ['conv1d[0][0]']                 \n",
                        "                                                                                                  \n",
                        " flatten (Flatten)              (None, 64)           0           ['dense_1[0][0]']                \n",
                        "                                                                                                  \n",
                        " flatten_1 (Flatten)            (None, 64)           0           ['max_pooling1d[0][0]']          \n",
                        "                                                                                                  \n",
                        " concatenate (Concatenate)      (None, 128)          0           ['flatten[0][0]',                \n",
                        "                                                                  'flatten_1[0][0]']              \n",
                        "                                                                                                  \n",
                        " dense_2 (Dense)                (None, 8)            1032        ['concatenate[0][0]']            \n",
                        "                                                                                                  \n",
                        " dense_3 (Dense)                (None, 1)            9           ['dense_2[0][0]']                \n",
                        "                                                                                                  \n",
                        "==================================================================================================\n",
                        "Total params: 3,729\n",
                        "Trainable params: 3,729\n",
                        "Non-trainable params: 0\n",
                        "__________________________________________________________________________________________________\n"
                    ]
                }
            ],
            "source": [
                "# model structure\n",
                "from keras.models import Model, clone_model\n",
                "from keras.layers import *\n",
                "from keras.callbacks import ModelCheckpoint\n",
                "from keras.losses import MeanSquaredError\n",
                "from keras.metrics import RootMeanSquaredError\n",
                "from keras.optimizers import Adam\n",
                "\n",
                "prev_days = int(os.getenv('PREV_DAYS'))\n",
                "\n",
                "visible1 = Input(shape=(1, 4))\n",
                "branch1 = Dense(32, activation='sigmoid')(visible1)\n",
                "branch1 = Dense(64, activation='sigmoid')(branch1)\n",
                "branch1 = Flatten()(branch1)\n",
                "\n",
                "visible2 = Input(shape=(prev_days, 4))\n",
                "cnn2 = Conv1D(filters=32, kernel_size=3, activation='sigmoid')(visible2)\n",
                "cnn2 = MaxPooling1D(pool_size=2)(cnn2)\n",
                "cnn2 = Flatten()(cnn2)\n",
                "\n",
                "merge = concatenate([branch1, cnn2])\n",
                "dense = Dense(8, activation='relu')(merge)\n",
                "output = Dense(1, activation=LeakyReLU(alpha=0.01))(dense)\n",
                "model = Model(inputs=[visible1, visible2], outputs=output)\n",
                "\n",
                "model.summary()"
            ]
        },
        {
            "cell_type": "code",
            "execution_count": 4,
            "metadata": {},
            "outputs": [
                {
                    "data": {
                        "image/png": "[encoded data removed]",
                        "text/plain": [
                            "<IPython.core.display.Image object>"
                        ]
                    },
                    "execution_count": 4,
                    "metadata": {},
                    "output_type": "execute_result"
                }
            ],
            "source": [
                "# plot model\n",
                "from keras.utils import plot_model\n",
                "\n",
                "plot_model(model,to_file='../.data/model_c.png', show_layer_activations=True, show_shapes=True, show_layer_names=True)"
            ]
        },
        {
            "cell_type": "code",
            "execution_count": 5,
            "metadata": {},
            "outputs": [
                {
                    "name": "stdout",
                    "output_type": "stream",
                    "text": [
                        "Epoch 1/10\n",
                        "49942/49942 [==============================] - 84s 2ms/step - loss: 6.3984e-06 - root_mean_squared_error: 0.0025 - val_loss: 8.4363e-06 - val_root_mean_squared_error: 0.0029\n",
                        "Epoch 2/10\n",
                        "49942/49942 [==============================] - 87s 2ms/step - loss: 4.3922e-06 - root_mean_squared_error: 0.0021 - val_loss: 8.0842e-06 - val_root_mean_squared_error: 0.0028\n",
                        "Epoch 3/10\n",
                        "49942/49942 [==============================] - 90s 2ms/step - loss: 3.7579e-06 - root_mean_squared_error: 0.0019 - val_loss: 9.0038e-06 - val_root_mean_squared_error: 0.0030\n",
                        "Epoch 4/10\n",
                        "49942/49942 [==============================] - 90s 2ms/step - loss: 3.1556e-06 - root_mean_squared_error: 0.0018 - val_loss: 7.5939e-06 - val_root_mean_squared_error: 0.0028\n",
                        "Epoch 5/10\n",
                        "49942/49942 [==============================] - 90s 2ms/step - loss: 2.7441e-06 - root_mean_squared_error: 0.0017 - val_loss: 7.1395e-06 - val_root_mean_squared_error: 0.0027\n",
                        "Epoch 6/10\n",
                        "49942/49942 [==============================] - 89s 2ms/step - loss: 2.3406e-06 - root_mean_squared_error: 0.0015 - val_loss: 6.9615e-06 - val_root_mean_squared_error: 0.0026\n",
                        "Epoch 7/10\n",
                        "49942/49942 [==============================] - 89s 2ms/step - loss: 2.1107e-06 - root_mean_squared_error: 0.0015 - val_loss: 6.8460e-06 - val_root_mean_squared_error: 0.0026\n",
                        "Epoch 8/10\n",
                        "49942/49942 [==============================] - 91s 2ms/step - loss: 1.9531e-06 - root_mean_squared_error: 0.0014 - val_loss: 7.0832e-06 - val_root_mean_squared_error: 0.0027\n",
                        "Epoch 9/10\n",
                        "49942/49942 [==============================] - 90s 2ms/step - loss: 1.7784e-06 - root_mean_squared_error: 0.0013 - val_loss: 6.8345e-06 - val_root_mean_squared_error: 0.0026\n",
                        "Epoch 10/10\n",
                        "49942/49942 [==============================] - 90s 2ms/step - loss: 1.7547e-06 - root_mean_squared_error: 0.0013 - val_loss: 6.5786e-06 - val_root_mean_squared_error: 0.0026\n"
                    ]
                },
                {
                    "data": {
                        "text/plain": [
                            "<keras.callbacks.History at 0x164092433a0>"
                        ]
                    },
                    "execution_count": 5,
                    "metadata": {},
                    "output_type": "execute_result"
                }
            ],
            "source": [
                "# train view\n",
                "model_view = clone_model(model)\n",
                "cp_view = ModelCheckpoint('../model/c-view.keras', save_best_only=True)\n",
                "model_view.compile(loss=MeanSquaredError(), optimizer=Adam(learning_rate=0.0001), metrics=[RootMeanSquaredError()])\n",
                "model_view.fit([X1_train, X2_train], y_train[:, 0], validation_data=([X1_val, X2_val], y_val[:, 0]), epochs=10, callbacks=[cp_view])"
            ]
        },
        {
            "cell_type": "code",
            "execution_count": 6,
            "metadata": {},
            "outputs": [
                {
                    "name": "stdout",
                    "output_type": "stream",
                    "text": [
                        "Epoch 1/10\n",
                        "49942/49942 [==============================] - 94s 2ms/step - loss: 1.8203e-05 - root_mean_squared_error: 0.0043 - val_loss: 1.9795e-05 - val_root_mean_squared_error: 0.0044\n",
                        "Epoch 2/10\n",
                        "49942/49942 [==============================] - 86s 2ms/step - loss: 1.5117e-05 - root_mean_squared_error: 0.0039 - val_loss: 2.1033e-05 - val_root_mean_squared_error: 0.0046\n",
                        "Epoch 3/10\n",
                        "49942/49942 [==============================] - 74s 1ms/step - loss: 1.4534e-05 - root_mean_squared_error: 0.0038 - val_loss: 1.4858e-05 - val_root_mean_squared_error: 0.0039\n",
                        "Epoch 4/10\n",
                        "49942/49942 [==============================] - 74s 1ms/step - loss: 1.3139e-05 - root_mean_squared_error: 0.0036 - val_loss: 1.2912e-05 - val_root_mean_squared_error: 0.0036\n",
                        "Epoch 5/10\n",
                        "49942/49942 [==============================] - 74s 1ms/step - loss: 1.2312e-05 - root_mean_squared_error: 0.0035 - val_loss: 1.1907e-05 - val_root_mean_squared_error: 0.0035\n",
                        "Epoch 6/10\n",
                        "49942/49942 [==============================] - 75s 2ms/step - loss: 1.1700e-05 - root_mean_squared_error: 0.0034 - val_loss: 1.1938e-05 - val_root_mean_squared_error: 0.0035\n",
                        "Epoch 7/10\n",
                        "49942/49942 [==============================] - 75s 2ms/step - loss: 1.1272e-05 - root_mean_squared_error: 0.0034 - val_loss: 1.8159e-05 - val_root_mean_squared_error: 0.0043\n",
                        "Epoch 8/10\n",
                        "49942/49942 [==============================] - 81s 2ms/step - loss: 1.0921e-05 - root_mean_squared_error: 0.0033 - val_loss: 1.7252e-05 - val_root_mean_squared_error: 0.0042\n",
                        "Epoch 9/10\n",
                        "49942/49942 [==============================] - 86s 2ms/step - loss: 1.0516e-05 - root_mean_squared_error: 0.0032 - val_loss: 1.2146e-05 - val_root_mean_squared_error: 0.0035\n",
                        "Epoch 10/10\n",
                        "49942/49942 [==============================] - 88s 2ms/step - loss: 1.0412e-05 - root_mean_squared_error: 0.0032 - val_loss: 1.1582e-05 - val_root_mean_squared_error: 0.0034\n"
                    ]
                },
                {
                    "data": {
                        "text/plain": [
                            "<keras.callbacks.History at 0x1641348ca60>"
                        ]
                    },
                    "execution_count": 6,
                    "metadata": {},
                    "output_type": "execute_result"
                }
            ],
            "source": [
                "# train cart\n",
                "model_cart = clone_model(model)\n",
                "cp_cart = ModelCheckpoint('../model/c-cart.keras', save_best_only=True)\n",
                "model_cart.compile(loss=MeanSquaredError(), optimizer=Adam(learning_rate=0.0001), metrics=[RootMeanSquaredError()])\n",
                "model_cart.fit([X1_train, X2_train], y_train[:, 1], validation_data=([X1_val, X2_val], y_val[:, 1]), epochs=10, callbacks=[cp_cart])"
            ]
        },
        {
            "cell_type": "code",
            "execution_count": 7,
            "metadata": {},
            "outputs": [
                {
                    "name": "stdout",
                    "output_type": "stream",
                    "text": [
                        "Epoch 1/10\n",
                        "49942/49942 [==============================] - 83s 2ms/step - loss: 1.0875e-04 - root_mean_squared_error: 0.0104 - val_loss: 1.0646e-04 - val_root_mean_squared_error: 0.0103\n",
                        "Epoch 2/10\n",
                        "49942/49942 [==============================] - 79s 2ms/step - loss: 9.5352e-05 - root_mean_squared_error: 0.0098 - val_loss: 9.9285e-05 - val_root_mean_squared_error: 0.0100\n",
                        "Epoch 3/10\n",
                        "49942/49942 [==============================] - 80s 2ms/step - loss: 9.3745e-05 - root_mean_squared_error: 0.0097 - val_loss: 9.9275e-05 - val_root_mean_squared_error: 0.0100\n",
                        "Epoch 4/10\n",
                        "49942/49942 [==============================] - 80s 2ms/step - loss: 9.2114e-05 - root_mean_squared_error: 0.0096 - val_loss: 9.9745e-05 - val_root_mean_squared_error: 0.0100\n",
                        "Epoch 5/10\n",
                        "49942/49942 [==============================] - 87s 2ms/step - loss: 9.1199e-05 - root_mean_squared_error: 0.0095 - val_loss: 1.0800e-04 - val_root_mean_squared_error: 0.0104\n",
                        "Epoch 6/10\n",
                        "49942/49942 [==============================] - 80s 2ms/step - loss: 9.0944e-05 - root_mean_squared_error: 0.0095 - val_loss: 1.1145e-04 - val_root_mean_squared_error: 0.0106\n",
                        "Epoch 7/10\n",
                        "49942/49942 [==============================] - 90s 2ms/step - loss: 8.9873e-05 - root_mean_squared_error: 0.0095 - val_loss: 1.1625e-04 - val_root_mean_squared_error: 0.0108\n",
                        "Epoch 8/10\n",
                        "49942/49942 [==============================] - 90s 2ms/step - loss: 8.9086e-05 - root_mean_squared_error: 0.0094 - val_loss: 1.0098e-04 - val_root_mean_squared_error: 0.0100\n",
                        "Epoch 9/10\n",
                        "49942/49942 [==============================] - 91s 2ms/step - loss: 8.7894e-05 - root_mean_squared_error: 0.0094 - val_loss: 1.0006e-04 - val_root_mean_squared_error: 0.0100\n",
                        "Epoch 10/10\n",
                        "49942/49942 [==============================] - 91s 2ms/step - loss: 8.7444e-05 - root_mean_squared_error: 0.0094 - val_loss: 9.8541e-05 - val_root_mean_squared_error: 0.0099\n"
                    ]
                },
                {
                    "data": {
                        "text/plain": [
                            "<keras.callbacks.History at 0x16413555580>"
                        ]
                    },
                    "execution_count": 7,
                    "metadata": {},
                    "output_type": "execute_result"
                }
            ],
            "source": [
                "# train remove_from_cart\n",
                "model_remove_from_cart = clone_model(model)\n",
                "cp_remove_from_cart = ModelCheckpoint('../model/c-remove_from_cart.keras', save_best_only=True)\n",
                "model_remove_from_cart.compile(loss=MeanSquaredError(), optimizer=Adam(learning_rate=0.0001), metrics=[RootMeanSquaredError()])\n",
                "model_remove_from_cart.fit([X1_train, X2_train], y_train[:, 2], validation_data=([X1_val, X2_val], y_val[:, 2]), epochs=10, callbacks=[cp_remove_from_cart])"
            ]
        },
        {
            "cell_type": "code",
            "execution_count": 8,
            "metadata": {},
            "outputs": [
                {
                    "name": "stdout",
                    "output_type": "stream",
                    "text": [
                        "Epoch 1/10\n",
                        "49942/49942 [==============================] - 90s 2ms/step - loss: 5.5001e-05 - root_mean_squared_error: 0.0074 - val_loss: 2.6820e-05 - val_root_mean_squared_error: 0.0052\n",
                        "Epoch 2/10\n",
                        "49942/49942 [==============================] - 94s 2ms/step - loss: 4.0229e-05 - root_mean_squared_error: 0.0063 - val_loss: 2.9641e-05 - val_root_mean_squared_error: 0.0054\n",
                        "Epoch 3/10\n",
                        "49942/49942 [==============================] - 85s 2ms/step - loss: 3.8937e-05 - root_mean_squared_error: 0.0062 - val_loss: 3.8967e-05 - val_root_mean_squared_error: 0.0062\n",
                        "Epoch 4/10\n",
                        "49942/49942 [==============================] - 87s 2ms/step - loss: 3.8059e-05 - root_mean_squared_error: 0.0062 - val_loss: 2.6947e-05 - val_root_mean_squared_error: 0.0052\n",
                        "Epoch 5/10\n",
                        "49942/49942 [==============================] - 94s 2ms/step - loss: 3.7390e-05 - root_mean_squared_error: 0.0061 - val_loss: 2.6878e-05 - val_root_mean_squared_error: 0.0052\n",
                        "Epoch 6/10\n",
                        "49942/49942 [==============================] - 91s 2ms/step - loss: 3.6673e-05 - root_mean_squared_error: 0.0061 - val_loss: 2.9421e-05 - val_root_mean_squared_error: 0.0054\n",
                        "Epoch 7/10\n",
                        "49942/49942 [==============================] - 89s 2ms/step - loss: 3.6128e-05 - root_mean_squared_error: 0.0060 - val_loss: 2.8036e-05 - val_root_mean_squared_error: 0.0053\n",
                        "Epoch 8/10\n",
                        "49942/49942 [==============================] - 101s 2ms/step - loss: 3.5897e-05 - root_mean_squared_error: 0.0060 - val_loss: 2.6639e-05 - val_root_mean_squared_error: 0.0052\n",
                        "Epoch 9/10\n",
                        "49942/49942 [==============================] - 101s 2ms/step - loss: 3.5586e-05 - root_mean_squared_error: 0.0060 - val_loss: 2.6300e-05 - val_root_mean_squared_error: 0.0051\n",
                        "Epoch 10/10\n",
                        "49942/49942 [==============================] - 86s 2ms/step - loss: 3.5266e-05 - root_mean_squared_error: 0.0059 - val_loss: 2.6321e-05 - val_root_mean_squared_error: 0.0051\n"
                    ]
                },
                {
                    "data": {
                        "text/plain": [
                            "<keras.callbacks.History at 0x16414623100>"
                        ]
                    },
                    "execution_count": 8,
                    "metadata": {},
                    "output_type": "execute_result"
                }
            ],
            "source": [
                "# train purchase\n",
                "model_purchase = clone_model(model)\n",
                "cp_purchase = ModelCheckpoint('../model/c-purchase.keras', save_best_only=True)\n",
                "model_purchase.compile(loss=MeanSquaredError(), optimizer=Adam(learning_rate=0.0001), metrics=[RootMeanSquaredError()])\n",
                "model_purchase.fit([X1_train, X2_train], y_train[:, 3], validation_data=([X1_val, X2_val], y_val[:, 3]), epochs=10, callbacks=[cp_purchase])"
            ]
        }
    ],
    "metadata": {
        "kernelspec": {
            "display_name": "datn2",
            "language": "python",
            "name": "python3"
        },
        "language_info": {
            "codemirror_mode": {
                "name": "ipython",
                "version": 3
            },
            "file_extension": ".py",
            "mimetype": "text/x-python",
            "name": "python",
            "nbconvert_exporter": "python",
            "pygments_lexer": "ipython3",
            "version": "3.9.19"
        }
    },
    "nbformat": 4,
    "nbformat_minor": 2
}
