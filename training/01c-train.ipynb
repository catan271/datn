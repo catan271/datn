{
    "cells": [
        {
            "cell_type": "code",
            "execution_count": 1,
            "metadata": {},
            "outputs": [
                {
                    "data": {
                        "text/plain": [
                            "True"
                        ]
                    },
                    "execution_count": 1,
                    "metadata": {},
                    "output_type": "execute_result"
                }
            ],
            "source": [
                "%load_ext autoreload\n",
                "%autoreload 2\n",
                "\n",
                "from dotenv import load_dotenv\n",
                "import pandas as pd\n",
                "import numpy as np\n",
                "import os\n",
                "import sys\n",
                "import datetime\n",
                "\n",
                "root_path = os.path.abspath(os.path.join('..'))\n",
                "if root_path not in sys.path:\n",
                "    sys.path.append(root_path)\n",
                "    \n",
                "load_dotenv()"
            ]
        },
        {
            "cell_type": "code",
            "execution_count": 2,
            "metadata": {},
            "outputs": [
                {
                    "data": {
                        "text/plain": [
                            "((1598125, 1, 4),\n",
                            " (1598125, 30, 4),\n",
                            " (1598125, 4),\n",
                            " (263845, 1, 4),\n",
                            " (263845, 30, 4),\n",
                            " (263845, 4))"
                        ]
                    },
                    "execution_count": 2,
                    "metadata": {},
                    "output_type": "execute_result"
                }
            ],
            "source": [
                "# load datasets\n",
                "from utils.utils import date_range, preprocess_c\n",
                "\n",
                "df_train = pd.concat([\n",
                "    pd.read_csv(f'../datasets/d{d.strftime(\"%Y-%m-%d\")}.csv') for d in date_range(\n",
                "        datetime.date(2019, 11, 1), \n",
                "        datetime.date(2020, 2, 1),\n",
                "        datetime.timedelta(days=1),\n",
                "    )\n",
                "])\n",
                "df_val = pd.concat([\n",
                "    pd.read_csv(f'../datasets/d{d.strftime(\"%Y-%m-%d\")}.csv') for d in date_range(\n",
                "        datetime.date(2020, 2, 1), \n",
                "        datetime.date(2020, 2, 15),\n",
                "        datetime.timedelta(days=1),\n",
                "    )\n",
                "])\n",
                "\n",
                "X1_train, X2_train, y_train = preprocess_c(df_train)\n",
                "X1_val, X2_val, y_val = preprocess_c(df_val)\n",
                "\n",
                "X1_train.shape, X2_train.shape, y_train.shape, X1_val.shape, X2_val.shape, y_val.shape"
            ]
        },
        {
            "cell_type": "code",
            "execution_count": 3,
            "metadata": {},
            "outputs": [
                {
                    "name": "stdout",
                    "output_type": "stream",
                    "text": [
                        "Model: \"model\"\n",
                        "__________________________________________________________________________________________________\n",
                        " Layer (type)                   Output Shape         Param #     Connected to                     \n",
                        "==================================================================================================\n",
                        " input_1 (InputLayer)           [(None, 1, 4)]       0           []                               \n",
                        "                                                                                                  \n",
                        " input_2 (InputLayer)           [(None, 30, 4)]      0           []                               \n",
                        "                                                                                                  \n",
                        " conv1d (Conv1D)                (None, 1, 64)        320         ['input_1[0][0]']                \n",
                        "                                                                                                  \n",
                        " conv1d_1 (Conv1D)              (None, 28, 64)       832         ['input_2[0][0]']                \n",
                        "                                                                                                  \n",
                        " max_pooling1d (MaxPooling1D)   (None, 1, 64)        0           ['conv1d[0][0]']                 \n",
                        "                                                                                                  \n",
                        " max_pooling1d_1 (MaxPooling1D)  (None, 14, 64)      0           ['conv1d_1[0][0]']               \n",
                        "                                                                                                  \n",
                        " flatten (Flatten)              (None, 64)           0           ['max_pooling1d[0][0]']          \n",
                        "                                                                                                  \n",
                        " flatten_1 (Flatten)            (None, 896)          0           ['max_pooling1d_1[0][0]']        \n",
                        "                                                                                                  \n",
                        " concatenate (Concatenate)      (None, 960)          0           ['flatten[0][0]',                \n",
                        "                                                                  'flatten_1[0][0]']              \n",
                        "                                                                                                  \n",
                        " dense (Dense)                  (None, 8)            7688        ['concatenate[0][0]']            \n",
                        "                                                                                                  \n",
                        " dense_1 (Dense)                (None, 1)            9           ['dense[0][0]']                  \n",
                        "                                                                                                  \n",
                        "==================================================================================================\n",
                        "Total params: 8,849\n",
                        "Trainable params: 8,849\n",
                        "Non-trainable params: 0\n",
                        "__________________________________________________________________________________________________\n"
                    ]
                }
            ],
            "source": [
                "# model structure\n",
                "from keras.models import Model, clone_model\n",
                "from keras.layers import *\n",
                "from keras.callbacks import ModelCheckpoint\n",
                "from keras.losses import MeanSquaredError\n",
                "from keras.metrics import RootMeanSquaredError\n",
                "from keras.optimizers import Adam\n",
                "\n",
                "prev_days = int(os.getenv('PREV_DAYS'))\n",
                "\n",
                "visible1 = Input(shape=(1, 4))\n",
                "cnn1 = Conv1D(filters=64, kernel_size=1, activation='relu')(visible1)\n",
                "cnn1 = MaxPooling1D(pool_size=1)(cnn1)\n",
                "cnn1 = Flatten()(cnn1)\n",
                "\n",
                "visible2 = Input(shape=(prev_days, 4))\n",
                "cnn2 = Conv1D(filters=64, kernel_size=3, activation='relu')(visible2)\n",
                "cnn2 = MaxPooling1D(pool_size=2)(cnn2)\n",
                "cnn2 = Flatten()(cnn2)\n",
                "\n",
                "merge = concatenate([cnn1, cnn2])\n",
                "dense = Dense(8, activation='relu')(merge)\n",
                "output = Dense(1, activation=LeakyReLU(alpha=0.01))(dense)\n",
                "model = Model(inputs=[visible1, visible2], outputs=output)\n",
                "\n",
                "model.summary()"
            ]
        },
        {
            "cell_type": "code",
            "execution_count": 4,
            "metadata": {},
            "outputs": [
                {
                    "data": {
                        "image/png": "[encoded data removed]",
                        "text/plain": [
                            "<IPython.core.display.Image object>"
                        ]
                    },
                    "execution_count": 4,
                    "metadata": {},
                    "output_type": "execute_result"
                }
            ],
            "source": [
                "# plot model\n",
                "from keras.utils import plot_model\n",
                "\n",
                "plot_model(model,to_file='../.data/model_c.png', show_layer_activations=True, show_shapes=True, show_layer_names=True)"
            ]
        },
        {
            "cell_type": "code",
            "execution_count": 5,
            "metadata": {},
            "outputs": [
                {
                    "name": "stdout",
                    "output_type": "stream",
                    "text": [
                        "Epoch 1/10\n",
                        "49942/49942 [==============================] - 136s 3ms/step - loss: 1.7179e-06 - root_mean_squared_error: 0.0013 - val_loss: 7.3629e-06 - val_root_mean_squared_error: 0.0027\n",
                        "Epoch 2/10\n",
                        "49942/49942 [==============================] - 120s 2ms/step - loss: 1.2490e-06 - root_mean_squared_error: 0.0011 - val_loss: 6.3424e-06 - val_root_mean_squared_error: 0.0025\n",
                        "Epoch 3/10\n",
                        "49942/49942 [==============================] - 118s 2ms/step - loss: 1.1679e-06 - root_mean_squared_error: 0.0011 - val_loss: 6.3562e-06 - val_root_mean_squared_error: 0.0025\n",
                        "Epoch 4/10\n",
                        "49942/49942 [==============================] - 117s 2ms/step - loss: 1.1318e-06 - root_mean_squared_error: 0.0011 - val_loss: 6.1709e-06 - val_root_mean_squared_error: 0.0025\n",
                        "Epoch 5/10\n",
                        "49942/49942 [==============================] - 119s 2ms/step - loss: 1.0934e-06 - root_mean_squared_error: 0.0010 - val_loss: 6.0499e-06 - val_root_mean_squared_error: 0.0025\n",
                        "Epoch 6/10\n",
                        "49942/49942 [==============================] - 118s 2ms/step - loss: 1.0703e-06 - root_mean_squared_error: 0.0010 - val_loss: 5.9563e-06 - val_root_mean_squared_error: 0.0024\n",
                        "Epoch 7/10\n",
                        "49942/49942 [==============================] - 117s 2ms/step - loss: 1.0592e-06 - root_mean_squared_error: 0.0010 - val_loss: 6.1457e-06 - val_root_mean_squared_error: 0.0025\n",
                        "Epoch 8/10\n",
                        "49942/49942 [==============================] - 118s 2ms/step - loss: 1.0421e-06 - root_mean_squared_error: 0.0010 - val_loss: 5.9526e-06 - val_root_mean_squared_error: 0.0024\n",
                        "Epoch 9/10\n",
                        "49942/49942 [==============================] - 118s 2ms/step - loss: 1.0273e-06 - root_mean_squared_error: 0.0010 - val_loss: 6.0171e-06 - val_root_mean_squared_error: 0.0025\n",
                        "Epoch 10/10\n",
                        "49942/49942 [==============================] - 117s 2ms/step - loss: 1.0079e-06 - root_mean_squared_error: 0.0010 - val_loss: 5.8174e-06 - val_root_mean_squared_error: 0.0024\n"
                    ]
                },
                {
                    "data": {
                        "text/plain": [
                            "<keras.callbacks.History at 0x29a9031c2b0>"
                        ]
                    },
                    "execution_count": 5,
                    "metadata": {},
                    "output_type": "execute_result"
                }
            ],
            "source": [
                "# train view\n",
                "model_view = clone_model(model)\n",
                "cp_view = ModelCheckpoint('../model/c-view.keras', save_best_only=True)\n",
                "model_view.compile(loss=MeanSquaredError(), optimizer=Adam(learning_rate=0.0001), metrics=[RootMeanSquaredError()])\n",
                "model_view.fit([X1_train, X2_train], y_train[:, 0], validation_data=([X1_val, X2_val], y_val[:, 0]), epochs=10, callbacks=[cp_view])"
            ]
        },
        {
            "cell_type": "code",
            "execution_count": 6,
            "metadata": {},
            "outputs": [
                {
                    "name": "stdout",
                    "output_type": "stream",
                    "text": [
                        "Epoch 1/10\n",
                        "49942/49942 [==============================] - 123s 2ms/step - loss: 9.4423e-06 - root_mean_squared_error: 0.0031 - val_loss: 1.0485e-05 - val_root_mean_squared_error: 0.0032\n",
                        "Epoch 2/10\n",
                        "49942/49942 [==============================] - 122s 2ms/step - loss: 8.2036e-06 - root_mean_squared_error: 0.0029 - val_loss: 1.1436e-05 - val_root_mean_squared_error: 0.0034\n",
                        "Epoch 3/10\n",
                        "49942/49942 [==============================] - 128s 3ms/step - loss: 7.9076e-06 - root_mean_squared_error: 0.0028 - val_loss: 1.1373e-05 - val_root_mean_squared_error: 0.0034\n",
                        "Epoch 4/10\n",
                        "49942/49942 [==============================] - 123s 2ms/step - loss: 7.7301e-06 - root_mean_squared_error: 0.0028 - val_loss: 1.1649e-05 - val_root_mean_squared_error: 0.0034\n",
                        "Epoch 5/10\n",
                        "49942/49942 [==============================] - 124s 2ms/step - loss: 7.6486e-06 - root_mean_squared_error: 0.0028 - val_loss: 1.1558e-05 - val_root_mean_squared_error: 0.0034\n",
                        "Epoch 6/10\n",
                        "49942/49942 [==============================] - 124s 2ms/step - loss: 7.4861e-06 - root_mean_squared_error: 0.0027 - val_loss: 1.1718e-05 - val_root_mean_squared_error: 0.0034\n",
                        "Epoch 7/10\n",
                        "49942/49942 [==============================] - 124s 2ms/step - loss: 7.3886e-06 - root_mean_squared_error: 0.0027 - val_loss: 1.2295e-05 - val_root_mean_squared_error: 0.0035\n",
                        "Epoch 8/10\n",
                        "49942/49942 [==============================] - 120s 2ms/step - loss: 7.3361e-06 - root_mean_squared_error: 0.0027 - val_loss: 1.2165e-05 - val_root_mean_squared_error: 0.0035\n",
                        "Epoch 9/10\n",
                        "49942/49942 [==============================] - 120s 2ms/step - loss: 7.2566e-06 - root_mean_squared_error: 0.0027 - val_loss: 1.2103e-05 - val_root_mean_squared_error: 0.0035\n",
                        "Epoch 10/10\n",
                        "49942/49942 [==============================] - 124s 2ms/step - loss: 7.2331e-06 - root_mean_squared_error: 0.0027 - val_loss: 1.2693e-05 - val_root_mean_squared_error: 0.0036\n"
                    ]
                },
                {
                    "data": {
                        "text/plain": [
                            "<keras.callbacks.History at 0x29a93987dc0>"
                        ]
                    },
                    "execution_count": 6,
                    "metadata": {},
                    "output_type": "execute_result"
                }
            ],
            "source": [
                "# train cart\n",
                "model_cart = clone_model(model)\n",
                "cp_cart = ModelCheckpoint('../model/c-cart.keras', save_best_only=True)\n",
                "model_cart.compile(loss=MeanSquaredError(), optimizer=Adam(learning_rate=0.0001), metrics=[RootMeanSquaredError()])\n",
                "model_cart.fit([X1_train, X2_train], y_train[:, 1], validation_data=([X1_val, X2_val], y_val[:, 1]), epochs=10, callbacks=[cp_cart])"
            ]
        },
        {
            "cell_type": "code",
            "execution_count": 7,
            "metadata": {},
            "outputs": [
                {
                    "name": "stdout",
                    "output_type": "stream",
                    "text": [
                        "Epoch 1/10\n",
                        "49942/49942 [==============================] - 135s 3ms/step - loss: 8.2587e-05 - root_mean_squared_error: 0.0091 - val_loss: 9.5689e-05 - val_root_mean_squared_error: 0.0098\n",
                        "Epoch 2/10\n",
                        "49942/49942 [==============================] - 125s 2ms/step - loss: 7.8527e-05 - root_mean_squared_error: 0.0089 - val_loss: 9.8838e-05 - val_root_mean_squared_error: 0.0099\n",
                        "Epoch 3/10\n",
                        "49942/49942 [==============================] - 130s 3ms/step - loss: 7.7236e-05 - root_mean_squared_error: 0.0088 - val_loss: 1.0195e-04 - val_root_mean_squared_error: 0.0101\n",
                        "Epoch 4/10\n",
                        "49942/49942 [==============================] - 147s 3ms/step - loss: 7.6552e-05 - root_mean_squared_error: 0.0087 - val_loss: 9.7084e-05 - val_root_mean_squared_error: 0.0099\n",
                        "Epoch 5/10\n",
                        "49942/49942 [==============================] - 149s 3ms/step - loss: 7.5923e-05 - root_mean_squared_error: 0.0087 - val_loss: 9.8905e-05 - val_root_mean_squared_error: 0.0099\n",
                        "Epoch 6/10\n",
                        "49942/49942 [==============================] - 146s 3ms/step - loss: 7.5505e-05 - root_mean_squared_error: 0.0087 - val_loss: 9.6479e-05 - val_root_mean_squared_error: 0.0098\n",
                        "Epoch 7/10\n",
                        "49942/49942 [==============================] - 143s 3ms/step - loss: 7.5208e-05 - root_mean_squared_error: 0.0087 - val_loss: 1.0262e-04 - val_root_mean_squared_error: 0.0101\n",
                        "Epoch 8/10\n",
                        "49942/49942 [==============================] - 146s 3ms/step - loss: 7.4911e-05 - root_mean_squared_error: 0.0087 - val_loss: 1.0116e-04 - val_root_mean_squared_error: 0.0101\n",
                        "Epoch 9/10\n",
                        "49942/49942 [==============================] - 141s 3ms/step - loss: 7.4652e-05 - root_mean_squared_error: 0.0086 - val_loss: 9.5224e-05 - val_root_mean_squared_error: 0.0098\n",
                        "Epoch 10/10\n",
                        "49942/49942 [==============================] - 145s 3ms/step - loss: 7.4330e-05 - root_mean_squared_error: 0.0086 - val_loss: 9.8704e-05 - val_root_mean_squared_error: 0.0099\n"
                    ]
                },
                {
                    "data": {
                        "text/plain": [
                            "<keras.callbacks.History at 0x29a9385eac0>"
                        ]
                    },
                    "execution_count": 7,
                    "metadata": {},
                    "output_type": "execute_result"
                }
            ],
            "source": [
                "# train remove_from_cart\n",
                "model_remove_from_cart = clone_model(model)\n",
                "cp_remove_from_cart = ModelCheckpoint('../model/c-remove_from_cart.keras', save_best_only=True)\n",
                "model_remove_from_cart.compile(loss=MeanSquaredError(), optimizer=Adam(learning_rate=0.0001), metrics=[RootMeanSquaredError()])\n",
                "model_remove_from_cart.fit([X1_train, X2_train], y_train[:, 2], validation_data=([X1_val, X2_val], y_val[:, 2]), epochs=10, callbacks=[cp_remove_from_cart])"
            ]
        },
        {
            "cell_type": "code",
            "execution_count": 8,
            "metadata": {},
            "outputs": [
                {
                    "name": "stdout",
                    "output_type": "stream",
                    "text": [
                        "Epoch 1/10\n",
                        "49942/49942 [==============================] - 147s 3ms/step - loss: 3.4971e-05 - root_mean_squared_error: 0.0059 - val_loss: 2.6359e-05 - val_root_mean_squared_error: 0.0051\n",
                        "Epoch 2/10\n",
                        "49942/49942 [==============================] - 143s 3ms/step - loss: 3.1138e-05 - root_mean_squared_error: 0.0056 - val_loss: 2.5910e-05 - val_root_mean_squared_error: 0.0051\n",
                        "Epoch 3/10\n",
                        "49942/49942 [==============================] - 139s 3ms/step - loss: 3.0555e-05 - root_mean_squared_error: 0.0055 - val_loss: 2.6861e-05 - val_root_mean_squared_error: 0.0052\n",
                        "Epoch 4/10\n",
                        "49942/49942 [==============================] - 136s 3ms/step - loss: 3.0146e-05 - root_mean_squared_error: 0.0055 - val_loss: 2.8067e-05 - val_root_mean_squared_error: 0.0053\n",
                        "Epoch 5/10\n",
                        "49942/49942 [==============================] - 134s 3ms/step - loss: 2.9796e-05 - root_mean_squared_error: 0.0055 - val_loss: 2.4686e-05 - val_root_mean_squared_error: 0.0050\n",
                        "Epoch 6/10\n",
                        "49942/49942 [==============================] - 131s 3ms/step - loss: 2.9546e-05 - root_mean_squared_error: 0.0054 - val_loss: 2.6043e-05 - val_root_mean_squared_error: 0.0051\n",
                        "Epoch 7/10\n",
                        "49942/49942 [==============================] - 135s 3ms/step - loss: 2.9410e-05 - root_mean_squared_error: 0.0054 - val_loss: 2.6388e-05 - val_root_mean_squared_error: 0.0051\n",
                        "Epoch 8/10\n",
                        "49942/49942 [==============================] - 134s 3ms/step - loss: 2.9330e-05 - root_mean_squared_error: 0.0054 - val_loss: 2.5266e-05 - val_root_mean_squared_error: 0.0050\n",
                        "Epoch 9/10\n",
                        "49942/49942 [==============================] - 135s 3ms/step - loss: 2.9135e-05 - root_mean_squared_error: 0.0054 - val_loss: 2.7843e-05 - val_root_mean_squared_error: 0.0053\n",
                        "Epoch 10/10\n",
                        "49942/49942 [==============================] - 134s 3ms/step - loss: 2.8867e-05 - root_mean_squared_error: 0.0054 - val_loss: 2.8524e-05 - val_root_mean_squared_error: 0.0053\n"
                    ]
                },
                {
                    "data": {
                        "text/plain": [
                            "<keras.callbacks.History at 0x29a9415adc0>"
                        ]
                    },
                    "execution_count": 8,
                    "metadata": {},
                    "output_type": "execute_result"
                }
            ],
            "source": [
                "# train purchase\n",
                "model_purchase = clone_model(model)\n",
                "cp_purchase = ModelCheckpoint('../model/c-purchase.keras', save_best_only=True)\n",
                "model_purchase.compile(loss=MeanSquaredError(), optimizer=Adam(learning_rate=0.0001), metrics=[RootMeanSquaredError()])\n",
                "model_purchase.fit([X1_train, X2_train], y_train[:, 3], validation_data=([X1_val, X2_val], y_val[:, 3]), epochs=10, callbacks=[cp_purchase])"
            ]
        }
    ],
    "metadata": {
        "kernelspec": {
            "display_name": "datn2",
            "language": "python",
            "name": "python3"
        },
        "language_info": {
            "codemirror_mode": {
                "name": "ipython",
                "version": 3
            },
            "file_extension": ".py",
            "mimetype": "text/x-python",
            "name": "python",
            "nbconvert_exporter": "python",
            "pygments_lexer": "ipython3",
            "version": "3.9.19"
        }
    },
    "nbformat": 4,
    "nbformat_minor": 2
}
