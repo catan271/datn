{
 "cells": [
  {
   "cell_type": "code",
   "execution_count": 1,
   "metadata": {},
   "outputs": [
    {
     "data": {
      "text/plain": [
       "True"
      ]
     },
     "execution_count": 1,
     "metadata": {},
     "output_type": "execute_result"
    }
   ],
   "source": [
    "%load_ext autoreload\n",
    "%autoreload 2\n",
    "\n",
    "from dotenv import load_dotenv\n",
    "import pandas as pd\n",
    "import numpy as np\n",
    "import os\n",
    "import sys\n",
    "import datetime\n",
    "\n",
    "root_path = os.path.abspath(os.path.join('..'))\n",
    "if root_path not in sys.path:\n",
    "    sys.path.append(root_path)\n",
    "    \n",
    "load_dotenv()"
   ]
  },
  {
   "cell_type": "code",
   "execution_count": 2,
   "metadata": {},
   "outputs": [
    {
     "data": {
      "text/plain": [
       "((1598125, 1, 4),\n",
       " (1598125, 14, 4),\n",
       " (1598125, 4),\n",
       " (263845, 1, 4),\n",
       " (263845, 14, 4),\n",
       " (263845, 4))"
      ]
     },
     "execution_count": 2,
     "metadata": {},
     "output_type": "execute_result"
    }
   ],
   "source": [
    "# load datasets\n",
    "from training.utils import date_range, preprocess_c\n",
    "\n",
    "df_train = pd.concat([\n",
    "    pd.read_csv(f'../datasets/d{d.strftime(\"%Y-%m-%d\")}.csv') for d in date_range(\n",
    "        datetime.date(2019, 11, 1), \n",
    "        datetime.date(2020, 2, 1),\n",
    "        datetime.timedelta(days=1),\n",
    "    )\n",
    "])\n",
    "df_val = pd.concat([\n",
    "    pd.read_csv(f'../datasets/d{d.strftime(\"%Y-%m-%d\")}.csv') for d in date_range(\n",
    "        datetime.date(2020, 2, 1), \n",
    "        datetime.date(2020, 2, 15),\n",
    "        datetime.timedelta(days=1),\n",
    "    )\n",
    "])\n",
    "\n",
    "X1_train, X2_train, y_train = preprocess_c(df_train)\n",
    "X1_val, X2_val, y_val = preprocess_c(df_val)\n",
    "\n",
    "X1_train.shape, X2_train.shape, y_train.shape, X1_val.shape, X2_val.shape, y_val.shape"
   ]
  },
  {
   "cell_type": "code",
   "execution_count": 3,
   "metadata": {},
   "outputs": [
    {
     "name": "stdout",
     "output_type": "stream",
     "text": [
      "Model: \"model\"\n",
      "__________________________________________________________________________________________________\n",
      " Layer (type)                   Output Shape         Param #     Connected to                     \n",
      "==================================================================================================\n",
      " input_1 (InputLayer)           [(None, 1, 4)]       0           []                               \n",
      "                                                                                                  \n",
      " input_2 (InputLayer)           [(None, 14, 4)]      0           []                               \n",
      "                                                                                                  \n",
      " conv1d (Conv1D)                (None, 1, 64)        320         ['input_1[0][0]']                \n",
      "                                                                                                  \n",
      " conv1d_1 (Conv1D)              (None, 12, 64)       832         ['input_2[0][0]']                \n",
      "                                                                                                  \n",
      " max_pooling1d (MaxPooling1D)   (None, 1, 64)        0           ['conv1d[0][0]']                 \n",
      "                                                                                                  \n",
      " max_pooling1d_1 (MaxPooling1D)  (None, 6, 64)       0           ['conv1d_1[0][0]']               \n",
      "                                                                                                  \n",
      " flatten (Flatten)              (None, 64)           0           ['max_pooling1d[0][0]']          \n",
      "                                                                                                  \n",
      " flatten_1 (Flatten)            (None, 384)          0           ['max_pooling1d_1[0][0]']        \n",
      "                                                                                                  \n",
      " concatenate (Concatenate)      (None, 448)          0           ['flatten[0][0]',                \n",
      "                                                                  'flatten_1[0][0]']              \n",
      "                                                                                                  \n",
      " dense (Dense)                  (None, 8)            3592        ['concatenate[0][0]']            \n",
      "                                                                                                  \n",
      " dense_1 (Dense)                (None, 1)            9           ['dense[0][0]']                  \n",
      "                                                                                                  \n",
      "==================================================================================================\n",
      "Total params: 4,753\n",
      "Trainable params: 4,753\n",
      "Non-trainable params: 0\n",
      "__________________________________________________________________________________________________\n"
     ]
    }
   ],
   "source": [
    "# model structure\n",
    "from keras.models import Model, clone_model\n",
    "from keras.layers import *\n",
    "from keras.callbacks import ModelCheckpoint\n",
    "from keras.losses import MeanSquaredError\n",
    "from keras.metrics import RootMeanSquaredError\n",
    "from keras.optimizers import Adam\n",
    "\n",
    "prev_days = int(os.getenv('PREV_DAYS'))\n",
    "\n",
    "visible1 = Input(shape=(1, 4))\n",
    "cnn1 = Conv1D(filters=64, kernel_size=1, activation='relu')(visible1)\n",
    "cnn1 = MaxPooling1D(pool_size=1)(cnn1)\n",
    "cnn1 = Flatten()(cnn1)\n",
    "\n",
    "visible2 = Input(shape=(prev_days, 4))\n",
    "cnn2 = Conv1D(filters=64, kernel_size=3, activation='relu')(visible2)\n",
    "cnn2 = MaxPooling1D(pool_size=2)(cnn2)\n",
    "cnn2 = Flatten()(cnn2)\n",
    "\n",
    "merge = concatenate([cnn1, cnn2])\n",
    "dense = Dense(8, activation='relu')(merge)\n",
    "output = Dense(1, activation=LeakyReLU(alpha=0.01))(dense)\n",
    "model = Model(inputs=[visible1, visible2], outputs=output)\n",
    "\n",
    "model.summary()"
   ]
  },
  {
   "cell_type": "code",
   "execution_count": 4,
   "metadata": {},
   "outputs": [
    {
     "data": {
      "image/png": "[encoded data removed]",
      "text/plain": [
       "<IPython.core.display.Image object>"
      ]
     },
     "execution_count": 4,
     "metadata": {},
     "output_type": "execute_result"
    }
   ],
   "source": [
    "# plot model\n",
    "from keras.utils import plot_model\n",
    "\n",
    "plot_model(model,to_file='../.data/model_c.png', show_layer_activations=True, show_shapes=True, show_layer_names=True)"
   ]
  },
  {
   "cell_type": "code",
   "execution_count": 5,
   "metadata": {},
   "outputs": [
    {
     "name": "stdout",
     "output_type": "stream",
     "text": [
      "Epoch 1/4\n",
      "49942/49942 [==============================] - 105s 2ms/step - loss: 0.2186 - root_mean_squared_error: 0.4676 - val_loss: 0.9945 - val_root_mean_squared_error: 0.9973\n",
      "Epoch 2/4\n",
      "49942/49942 [==============================] - 97s 2ms/step - loss: 0.1854 - root_mean_squared_error: 0.4306 - val_loss: 0.9789 - val_root_mean_squared_error: 0.9894\n",
      "Epoch 3/4\n",
      "49942/49942 [==============================] - 101s 2ms/step - loss: 0.1750 - root_mean_squared_error: 0.4183 - val_loss: 0.9475 - val_root_mean_squared_error: 0.9734\n",
      "Epoch 4/4\n",
      "49942/49942 [==============================] - 100s 2ms/step - loss: 0.1699 - root_mean_squared_error: 0.4122 - val_loss: 0.9335 - val_root_mean_squared_error: 0.9662\n"
     ]
    },
    {
     "data": {
      "text/plain": [
       "<keras.callbacks.History at 0x19ab59adfd0>"
      ]
     },
     "execution_count": 5,
     "metadata": {},
     "output_type": "execute_result"
    }
   ],
   "source": [
    "# train view\n",
    "model_view = clone_model(model)\n",
    "cp_view = ModelCheckpoint('../model/c-view.keras', save_best_only=True)\n",
    "model_view.compile(loss=MeanSquaredError(), optimizer=Adam(learning_rate=0.0001), metrics=[RootMeanSquaredError()])\n",
    "model_view.fit([X1_train, X2_train], y_train[:, 0], validation_data=([X1_val, X2_val], y_val[:, 0]), epochs=4, callbacks=[cp_view])"
   ]
  },
  {
   "cell_type": "code",
   "execution_count": 6,
   "metadata": {},
   "outputs": [
    {
     "name": "stdout",
     "output_type": "stream",
     "text": [
      "Epoch 1/4\n",
      "49942/49942 [==============================] - 115s 2ms/step - loss: 0.3362 - root_mean_squared_error: 0.5798 - val_loss: 0.4095 - val_root_mean_squared_error: 0.6399\n",
      "Epoch 2/4\n",
      "49942/49942 [==============================] - 103s 2ms/step - loss: 0.3016 - root_mean_squared_error: 0.5492 - val_loss: 0.4072 - val_root_mean_squared_error: 0.6381\n",
      "Epoch 3/4\n",
      "49942/49942 [==============================] - 99s 2ms/step - loss: 0.2935 - root_mean_squared_error: 0.5417 - val_loss: 0.4417 - val_root_mean_squared_error: 0.6646\n",
      "Epoch 4/4\n",
      "49942/49942 [==============================] - 102s 2ms/step - loss: 0.2877 - root_mean_squared_error: 0.5364 - val_loss: 0.4155 - val_root_mean_squared_error: 0.6446\n"
     ]
    },
    {
     "data": {
      "text/plain": [
       "<keras.callbacks.History at 0x19ab5f58310>"
      ]
     },
     "execution_count": 6,
     "metadata": {},
     "output_type": "execute_result"
    }
   ],
   "source": [
    "# train cart\n",
    "model_cart = clone_model(model)\n",
    "cp_cart = ModelCheckpoint('../model/c-cart.keras', save_best_only=True)\n",
    "model_cart.compile(loss=MeanSquaredError(), optimizer=Adam(learning_rate=0.0001), metrics=[RootMeanSquaredError()])\n",
    "model_cart.fit([X1_train, X2_train], y_train[:, 1], validation_data=([X1_val, X2_val], y_val[:, 1]), epochs=4, callbacks=[cp_cart])"
   ]
  },
  {
   "cell_type": "code",
   "execution_count": 7,
   "metadata": {},
   "outputs": [
    {
     "name": "stdout",
     "output_type": "stream",
     "text": [
      "Epoch 1/4\n",
      "49942/49942 [==============================] - 114s 2ms/step - loss: 0.4715 - root_mean_squared_error: 0.6867 - val_loss: 0.5625 - val_root_mean_squared_error: 0.7500\n",
      "Epoch 2/4\n",
      "49942/49942 [==============================] - 112s 2ms/step - loss: 0.4355 - root_mean_squared_error: 0.6599 - val_loss: 0.5479 - val_root_mean_squared_error: 0.7402\n",
      "Epoch 3/4\n",
      "49942/49942 [==============================] - 103s 2ms/step - loss: 0.4293 - root_mean_squared_error: 0.6552 - val_loss: 0.5480 - val_root_mean_squared_error: 0.7402\n",
      "Epoch 4/4\n",
      "49942/49942 [==============================] - 104s 2ms/step - loss: 0.4267 - root_mean_squared_error: 0.6532 - val_loss: 0.5514 - val_root_mean_squared_error: 0.7425\n"
     ]
    },
    {
     "data": {
      "text/plain": [
       "<keras.callbacks.History at 0x19ab5fb6d00>"
      ]
     },
     "execution_count": 7,
     "metadata": {},
     "output_type": "execute_result"
    }
   ],
   "source": [
    "# train remove_from_cart\n",
    "model_remove_from_cart = clone_model(model)\n",
    "cp_remove_from_cart = ModelCheckpoint('../model/c-remove_from_cart.keras', save_best_only=True)\n",
    "model_remove_from_cart.compile(loss=MeanSquaredError(), optimizer=Adam(learning_rate=0.0001), metrics=[RootMeanSquaredError()])\n",
    "model_remove_from_cart.fit([X1_train, X2_train], y_train[:, 2], validation_data=([X1_val, X2_val], y_val[:, 2]), epochs=4, callbacks=[cp_remove_from_cart])"
   ]
  },
  {
   "cell_type": "code",
   "execution_count": 8,
   "metadata": {},
   "outputs": [
    {
     "name": "stdout",
     "output_type": "stream",
     "text": [
      "Epoch 1/4\n",
      "49942/49942 [==============================] - 106s 2ms/step - loss: 0.4636 - root_mean_squared_error: 0.6809 - val_loss: 0.3378 - val_root_mean_squared_error: 0.5812\n",
      "Epoch 2/4\n",
      "49942/49942 [==============================] - 100s 2ms/step - loss: 0.4325 - root_mean_squared_error: 0.6576 - val_loss: 0.3507 - val_root_mean_squared_error: 0.5922\n",
      "Epoch 3/4\n",
      "49942/49942 [==============================] - 104s 2ms/step - loss: 0.4242 - root_mean_squared_error: 0.6513 - val_loss: 0.4085 - val_root_mean_squared_error: 0.6391\n",
      "Epoch 4/4\n",
      "49942/49942 [==============================] - 103s 2ms/step - loss: 0.4185 - root_mean_squared_error: 0.6469 - val_loss: 0.3558 - val_root_mean_squared_error: 0.5965\n"
     ]
    },
    {
     "data": {
      "text/plain": [
       "<keras.callbacks.History at 0x19ac7761310>"
      ]
     },
     "execution_count": 8,
     "metadata": {},
     "output_type": "execute_result"
    }
   ],
   "source": [
    "# train purchase\n",
    "model_purchase = clone_model(model)\n",
    "cp_purchase = ModelCheckpoint('../model/c-purchase.keras', save_best_only=True)\n",
    "model_purchase.compile(loss=MeanSquaredError(), optimizer=Adam(learning_rate=0.0001), metrics=[RootMeanSquaredError()])\n",
    "model_purchase.fit([X1_train, X2_train], y_train[:, 3], validation_data=([X1_val, X2_val], y_val[:, 3]), epochs=4, callbacks=[cp_purchase])"
   ]
  }
 ],
 "metadata": {
  "kernelspec": {
   "display_name": "datn2",
   "language": "python",
   "name": "python3"
  },
  "language_info": {
   "codemirror_mode": {
    "name": "ipython",
    "version": 3
   },
   "file_extension": ".py",
   "mimetype": "text/x-python",
   "name": "python",
   "nbconvert_exporter": "python",
   "pygments_lexer": "ipython3",
   "version": "3.9.19"
  }
 },
 "nbformat": 4,
 "nbformat_minor": 2
}
