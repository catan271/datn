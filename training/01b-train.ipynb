{
 "cells": [
  {
   "cell_type": "code",
   "execution_count": 1,
   "metadata": {
    "metadata": {}
   },
   "outputs": [
    {
     "data": {
      "text/plain": [
       "True"
      ]
     },
     "execution_count": 1,
     "metadata": {},
     "output_type": "execute_result"
    }
   ],
   "source": [
    "%load_ext autoreload\n",
    "%autoreload 2\n",
    "\n",
    "from dotenv import load_dotenv\n",
    "import pandas as pd\n",
    "import os\n",
    "import sys\n",
    "import datetime\n",
    "\n",
    "root_path = os.path.abspath(os.path.join('..'))\n",
    "if root_path not in sys.path:\n",
    "    sys.path.append(root_path)\n",
    "    \n",
    "load_dotenv()"
   ]
  },
  {
   "cell_type": "code",
   "execution_count": 2,
   "metadata": {
    "metadata": {}
   },
   "outputs": [
    {
     "data": {
      "text/plain": [
       "('2.10.1', [])"
      ]
     },
     "execution_count": 2,
     "metadata": {},
     "output_type": "execute_result"
    }
   ],
   "source": [
    "import tensorflow as tf\n",
    "tf.__version__, tf.config.list_physical_devices('GPU')"
   ]
  },
  {
   "cell_type": "code",
   "execution_count": 3,
   "metadata": {
    "metadata": {}
   },
   "outputs": [
    {
     "data": {
      "text/plain": [
       "((1861099, 124), (1861099, 4), (316407, 124), (316407, 4))"
      ]
     },
     "execution_count": 3,
     "metadata": {},
     "output_type": "execute_result"
    }
   ],
   "source": [
    "from training.utils import date_range, df_to_X_y\n",
    "\n",
    "df_train = pd.concat([\n",
    "    pd.read_csv(f'../datasets/d{d.strftime(\"%Y-%m-%d\")}.csv') for d in date_range(\n",
    "        datetime.date(2019, 11, 1), \n",
    "        datetime.date(2020, 2, 1),\n",
    "        datetime.timedelta(days=1),\n",
    "    )\n",
    "])\n",
    "df_val = pd.concat([\n",
    "    pd.read_csv(f'../datasets/d{d.strftime(\"%Y-%m-%d\")}.csv') for d in date_range(\n",
    "        datetime.date(2020, 2, 1), \n",
    "        datetime.date(2020, 2, 15),\n",
    "        datetime.timedelta(days=1),\n",
    "    )\n",
    "])\n",
    "\n",
    "X_train, y_train = df_to_X_y(df_train)\n",
    "X_val, y_val = df_to_X_y(df_val)\n",
    "\n",
    "X_train.shape, y_train.shape, X_val.shape, y_val.shape"
   ]
  },
  {
   "cell_type": "code",
   "execution_count": 4,
   "metadata": {
    "metadata": {}
   },
   "outputs": [
    {
     "name": "stdout",
     "output_type": "stream",
     "text": [
      "Model: \"sequential\"\n",
      "_________________________________________________________________\n",
      " Layer (type)                Output Shape              Param #   \n",
      "=================================================================\n",
      " conv1d (Conv1D)             (None, 122, 64)           256       \n",
      "                                                                 \n",
      " flatten (Flatten)           (None, 7808)              0         \n",
      "                                                                 \n",
      " dense (Dense)               (None, 8)                 62472     \n",
      "                                                                 \n",
      " dense_1 (Dense)             (None, 1)                 9         \n",
      "                                                                 \n",
      "=================================================================\n",
      "Total params: 62,737\n",
      "Trainable params: 62,737\n",
      "Non-trainable params: 0\n",
      "_________________________________________________________________\n"
     ]
    }
   ],
   "source": [
    "from keras.models import Sequential, clone_model\n",
    "from keras.layers import *\n",
    "from keras.callbacks import ModelCheckpoint\n",
    "from keras.losses import MeanSquaredError\n",
    "from keras.metrics import RootMeanSquaredError\n",
    "from keras.optimizers import Adam\n",
    "\n",
    "\n",
    "model = Sequential()\n",
    "model.add(InputLayer((124, 1)))\n",
    "model.add(Conv1D(64, kernel_size=3, activation='relu'))\n",
    "model.add(Flatten())\n",
    "model.add(Dense(8, activation='relu'))\n",
    "model.add(Dense(1, activation=LeakyReLU(alpha=0.01)))\n",
    "\n",
    "model.summary()"
   ]
  },
  {
   "cell_type": "code",
   "execution_count": 5,
   "metadata": {},
   "outputs": [
    {
     "name": "stdout",
     "output_type": "stream",
     "text": [
      "Epoch 1/10\n",
      "58160/58160 [==============================] - 182s 3ms/step - loss: 18.0194 - root_mean_squared_error: 4.2449 - val_loss: 119.8957 - val_root_mean_squared_error: 10.9497\n",
      "Epoch 2/10\n",
      "58160/58160 [==============================] - 190s 3ms/step - loss: 16.5739 - root_mean_squared_error: 4.0711 - val_loss: 145.0649 - val_root_mean_squared_error: 12.0443\n",
      "Epoch 3/10\n",
      "58160/58160 [==============================] - 192s 3ms/step - loss: 15.9792 - root_mean_squared_error: 3.9974 - val_loss: 124.8833 - val_root_mean_squared_error: 11.1751\n",
      "Epoch 4/10\n",
      "58160/58160 [==============================] - 190s 3ms/step - loss: 15.5731 - root_mean_squared_error: 3.9463 - val_loss: 121.2960 - val_root_mean_squared_error: 11.0134\n",
      "Epoch 5/10\n",
      "58160/58160 [==============================] - 156s 3ms/step - loss: 15.3225 - root_mean_squared_error: 3.9144 - val_loss: 121.1577 - val_root_mean_squared_error: 11.0072\n",
      "Epoch 6/10\n",
      "58160/58160 [==============================] - 165s 3ms/step - loss: 15.4047 - root_mean_squared_error: 3.9249 - val_loss: 156.2880 - val_root_mean_squared_error: 12.5015\n",
      "Epoch 7/10\n",
      "58160/58160 [==============================] - 174s 3ms/step - loss: 15.2973 - root_mean_squared_error: 3.9112 - val_loss: 109.0410 - val_root_mean_squared_error: 10.4423\n",
      "Epoch 8/10\n",
      "58160/58160 [==============================] - 169s 3ms/step - loss: 15.1699 - root_mean_squared_error: 3.8949 - val_loss: 131.6827 - val_root_mean_squared_error: 11.4753\n",
      "Epoch 9/10\n",
      "58160/58160 [==============================] - 165s 3ms/step - loss: 15.0121 - root_mean_squared_error: 3.8745 - val_loss: 140.7934 - val_root_mean_squared_error: 11.8656\n",
      "Epoch 10/10\n",
      "58160/58160 [==============================] - 172s 3ms/step - loss: 14.9759 - root_mean_squared_error: 3.8699 - val_loss: 116.8595 - val_root_mean_squared_error: 10.8102\n"
     ]
    },
    {
     "data": {
      "text/plain": [
       "<keras.callbacks.History at 0x2a08a368ee0>"
      ]
     },
     "execution_count": 5,
     "metadata": {},
     "output_type": "execute_result"
    }
   ],
   "source": [
    "model_view = clone_model(model)\n",
    "cp_view = ModelCheckpoint('../model/d-view.keras', save_best_only=True)\n",
    "model_view.compile(loss=MeanSquaredError(), optimizer=Adam(learning_rate=0.0001), metrics=[RootMeanSquaredError()])\n",
    "model_view.fit(X_train, y_train[:, 0], validation_data=(X_val, y_val), epochs=10, callbacks=[cp_view])"
   ]
  },
  {
   "cell_type": "code",
   "execution_count": 6,
   "metadata": {},
   "outputs": [
    {
     "name": "stdout",
     "output_type": "stream",
     "text": [
      "Epoch 1/10\n",
      "58160/58160 [==============================] - 209s 4ms/step - loss: 23.2139 - root_mean_squared_error: 4.8181 - val_loss: 47.5973 - val_root_mean_squared_error: 6.8991\n",
      "Epoch 2/10\n",
      "58160/58160 [==============================] - 213s 4ms/step - loss: 8.4487 - root_mean_squared_error: 2.9067 - val_loss: 47.7074 - val_root_mean_squared_error: 6.9071\n",
      "Epoch 3/10\n",
      "58160/58160 [==============================] - 224s 4ms/step - loss: 8.2198 - root_mean_squared_error: 2.8670 - val_loss: 48.6063 - val_root_mean_squared_error: 6.9718\n",
      "Epoch 4/10\n",
      "58160/58160 [==============================] - 237s 4ms/step - loss: 8.1374 - root_mean_squared_error: 2.8526 - val_loss: 52.5725 - val_root_mean_squared_error: 7.2507\n",
      "Epoch 5/10\n",
      "58160/58160 [==============================] - 172s 3ms/step - loss: 8.0539 - root_mean_squared_error: 2.8379 - val_loss: 51.8221 - val_root_mean_squared_error: 7.1988\n",
      "Epoch 6/10\n",
      "58160/58160 [==============================] - 174s 3ms/step - loss: 8.0637 - root_mean_squared_error: 2.8397 - val_loss: 50.0251 - val_root_mean_squared_error: 7.0728\n",
      "Epoch 7/10\n",
      "58160/58160 [==============================] - 159s 3ms/step - loss: 8.0054 - root_mean_squared_error: 2.8294 - val_loss: 50.7206 - val_root_mean_squared_error: 7.1218\n",
      "Epoch 8/10\n",
      "58160/58160 [==============================] - 179s 3ms/step - loss: 7.9469 - root_mean_squared_error: 2.8190 - val_loss: 50.2692 - val_root_mean_squared_error: 7.0901\n",
      "Epoch 9/10\n",
      "58160/58160 [==============================] - 165s 3ms/step - loss: 7.9022 - root_mean_squared_error: 2.8111 - val_loss: 50.4392 - val_root_mean_squared_error: 7.1021\n",
      "Epoch 10/10\n",
      "58160/58160 [==============================] - 172s 3ms/step - loss: 7.8466 - root_mean_squared_error: 2.8012 - val_loss: 50.9404 - val_root_mean_squared_error: 7.1373\n"
     ]
    },
    {
     "data": {
      "text/plain": [
       "<keras.callbacks.History at 0x2a08d08f3d0>"
      ]
     },
     "execution_count": 6,
     "metadata": {},
     "output_type": "execute_result"
    }
   ],
   "source": [
    "\n",
    "model_cart = clone_model(model)\n",
    "cp_cart = ModelCheckpoint('../model/d-cart.keras', save_best_only=True)\n",
    "model_cart.compile(loss=MeanSquaredError(), optimizer=Adam(learning_rate=0.0001), metrics=[RootMeanSquaredError()])\n",
    "model_cart.fit(X_train, y_train[:, 1], validation_data=(X_val, y_val), epochs=10, callbacks=[cp_cart])"
   ]
  },
  {
   "cell_type": "code",
   "execution_count": 7,
   "metadata": {},
   "outputs": [
    {
     "name": "stdout",
     "output_type": "stream",
     "text": [
      "Epoch 1/10\n",
      "58160/58160 [==============================] - 167s 3ms/step - loss: 4.8194 - root_mean_squared_error: 2.1953 - val_loss: 46.6587 - val_root_mean_squared_error: 6.8307\n",
      "Epoch 2/10\n",
      "58160/58160 [==============================] - 165s 3ms/step - loss: 3.4737 - root_mean_squared_error: 1.8638 - val_loss: 46.8639 - val_root_mean_squared_error: 6.8457\n",
      "Epoch 3/10\n",
      "58160/58160 [==============================] - 166s 3ms/step - loss: 3.3083 - root_mean_squared_error: 1.8189 - val_loss: 47.2597 - val_root_mean_squared_error: 6.8746\n",
      "Epoch 4/10\n",
      "58160/58160 [==============================] - 160s 3ms/step - loss: 3.2338 - root_mean_squared_error: 1.7983 - val_loss: 46.6783 - val_root_mean_squared_error: 6.8322\n",
      "Epoch 5/10\n",
      "58160/58160 [==============================] - 160s 3ms/step - loss: 3.1973 - root_mean_squared_error: 1.7881 - val_loss: 47.9472 - val_root_mean_squared_error: 6.9244\n",
      "Epoch 6/10\n",
      "58160/58160 [==============================] - 163s 3ms/step - loss: 3.1782 - root_mean_squared_error: 1.7828 - val_loss: 46.6459 - val_root_mean_squared_error: 6.8298\n",
      "Epoch 7/10\n",
      "58160/58160 [==============================] - 161s 3ms/step - loss: 3.1629 - root_mean_squared_error: 1.7785 - val_loss: 46.5582 - val_root_mean_squared_error: 6.8234\n",
      "Epoch 8/10\n",
      "58160/58160 [==============================] - 162s 3ms/step - loss: 3.1470 - root_mean_squared_error: 1.7740 - val_loss: 46.9935 - val_root_mean_squared_error: 6.8552\n",
      "Epoch 9/10\n",
      "58160/58160 [==============================] - 159s 3ms/step - loss: 3.1463 - root_mean_squared_error: 1.7738 - val_loss: 47.2796 - val_root_mean_squared_error: 6.8760\n",
      "Epoch 10/10\n",
      "58160/58160 [==============================] - 162s 3ms/step - loss: 3.1345 - root_mean_squared_error: 1.7704 - val_loss: 46.8819 - val_root_mean_squared_error: 6.8470\n"
     ]
    },
    {
     "data": {
      "text/plain": [
       "<keras.callbacks.History at 0x2a08bc45340>"
      ]
     },
     "execution_count": 7,
     "metadata": {},
     "output_type": "execute_result"
    }
   ],
   "source": [
    "\n",
    "model_remove_from_cart = clone_model(model)\n",
    "cp_remove_from_cart = ModelCheckpoint('../model/d-remove_from_cart.keras', save_best_only=True)\n",
    "model_remove_from_cart.compile(loss=MeanSquaredError(), optimizer=Adam(learning_rate=0.0001), metrics=[RootMeanSquaredError()])\n",
    "model_remove_from_cart.fit(X_train, y_train[:, 2], validation_data=(X_val, y_val), epochs=10, callbacks=[cp_remove_from_cart])"
   ]
  },
  {
   "cell_type": "code",
   "execution_count": 8,
   "metadata": {},
   "outputs": [
    {
     "name": "stdout",
     "output_type": "stream",
     "text": [
      "Epoch 1/10\n",
      "58160/58160 [==============================] - 166s 3ms/step - loss: 1.8542 - root_mean_squared_error: 1.3617 - val_loss: 52.3617 - val_root_mean_squared_error: 7.2361\n",
      "Epoch 2/10\n",
      "58160/58160 [==============================] - 166s 3ms/step - loss: 0.7300 - root_mean_squared_error: 0.8544 - val_loss: 51.6495 - val_root_mean_squared_error: 7.1868\n",
      "Epoch 3/10\n",
      "58160/58160 [==============================] - 166s 3ms/step - loss: 0.7206 - root_mean_squared_error: 0.8489 - val_loss: 52.3907 - val_root_mean_squared_error: 7.2381\n",
      "Epoch 4/10\n",
      "58160/58160 [==============================] - 167s 3ms/step - loss: 0.7075 - root_mean_squared_error: 0.8411 - val_loss: 51.2761 - val_root_mean_squared_error: 7.1607\n",
      "Epoch 5/10\n",
      "58160/58160 [==============================] - 175s 3ms/step - loss: 0.7084 - root_mean_squared_error: 0.8417 - val_loss: 51.6019 - val_root_mean_squared_error: 7.1834\n",
      "Epoch 6/10\n",
      "58160/58160 [==============================] - 180s 3ms/step - loss: 0.7001 - root_mean_squared_error: 0.8367 - val_loss: 52.7075 - val_root_mean_squared_error: 7.2600\n",
      "Epoch 7/10\n",
      "58160/58160 [==============================] - 178s 3ms/step - loss: 0.6946 - root_mean_squared_error: 0.8334 - val_loss: 52.9160 - val_root_mean_squared_error: 7.2743\n",
      "Epoch 8/10\n",
      "58160/58160 [==============================] - 177s 3ms/step - loss: 0.6920 - root_mean_squared_error: 0.8319 - val_loss: 51.4463 - val_root_mean_squared_error: 7.1726\n",
      "Epoch 9/10\n",
      "58160/58160 [==============================] - 176s 3ms/step - loss: 0.6915 - root_mean_squared_error: 0.8315 - val_loss: 51.7753 - val_root_mean_squared_error: 7.1955\n",
      "Epoch 10/10\n",
      "58160/58160 [==============================] - 185s 3ms/step - loss: 0.6888 - root_mean_squared_error: 0.8299 - val_loss: 52.4188 - val_root_mean_squared_error: 7.2401\n"
     ]
    },
    {
     "data": {
      "text/plain": [
       "<keras.callbacks.History at 0x2a08bd631c0>"
      ]
     },
     "execution_count": 8,
     "metadata": {},
     "output_type": "execute_result"
    }
   ],
   "source": [
    "\n",
    "model_purchase = clone_model(model)\n",
    "cp_purchase = ModelCheckpoint('../model/d-purchase.keras', save_best_only=True)\n",
    "model_purchase.compile(loss=MeanSquaredError(), optimizer=Adam(learning_rate=0.0001), metrics=[RootMeanSquaredError()])\n",
    "model_purchase.fit(X_train, y_train[:, 3], validation_data=(X_val, y_val), epochs=10, callbacks=[cp_purchase])"
   ]
  }
 ],
 "metadata": {
  "kernelspec": {
   "display_name": "datn",
   "language": "python",
   "name": "python3"
  },
  "language_info": {
   "codemirror_mode": {
    "name": "ipython",
    "version": 3
   },
   "file_extension": ".py",
   "mimetype": "text/x-python",
   "name": "python",
   "nbconvert_exporter": "python",
   "pygments_lexer": "ipython3",
   "version": "3.9.19"
  }
 },
 "nbformat": 4,
 "nbformat_minor": 4
}
