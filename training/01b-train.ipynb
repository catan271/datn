{
 "cells": [
  {
   "cell_type": "code",
   "execution_count": null,
   "metadata": {
    "metadata": {}
   },
   "outputs": [],
   "source": [
    "%load_ext autoreload\n",
    "%autoreload 2\n",
    "\n",
    "from dotenv import load_dotenv\n",
    "import pandas as pd\n",
    "import os\n",
    "import sys\n",
    "import datetime\n",
    "\n",
    "root_path = os.path.abspath(os.path.join('..'))\n",
    "if root_path not in sys.path:\n",
    "    sys.path.append(root_path)\n",
    "    \n",
    "load_dotenv()"
   ]
  },
  {
   "cell_type": "code",
   "execution_count": null,
   "metadata": {
    "metadata": {}
   },
   "outputs": [],
   "source": [
    "import tensorflow as tf\n",
    "tf.__version__, tf.config.list_physical_devices('GPU')"
   ]
  },
  {
   "cell_type": "code",
   "execution_count": null,
   "metadata": {
    "metadata": {}
   },
   "outputs": [],
   "source": [
    "from training.utils import date_range, df_to_X_y\n",
    "\n",
    "df_train = pd.concat([\n",
    "    pd.read_csv(f'../datasets/d{d.strftime(\"%Y-%m-%d\")}.csv') for d in date_range(\n",
    "        datetime.date(2019, 11, 1), \n",
    "        datetime.date(2020, 2, 1),\n",
    "        datetime.timedelta(days=1),\n",
    "    )\n",
    "])\n",
    "df_val = pd.concat([\n",
    "    pd.read_csv(f'../datasets/d{d.strftime(\"%Y-%m-%d\")}.csv') for d in date_range(\n",
    "        datetime.date(2020, 2, 1), \n",
    "        datetime.date(2020, 2, 15),\n",
    "        datetime.timedelta(days=1),\n",
    "    )\n",
    "])\n",
    "\n",
    "X_train, y_train = df_to_X_y(df_train)\n",
    "X_val, y_val = df_to_X_y(df_val)\n",
    "\n",
    "X_train.shape, y_train.shape, X_val.shape, y_val.shape"
   ]
  },
  {
   "cell_type": "code",
   "execution_count": null,
   "metadata": {
    "metadata": {}
   },
   "outputs": [],
   "source": [
    "from keras.models import Sequential, clone_model\n",
    "from keras.layers import *\n",
    "from keras.callbacks import ModelCheckpoint\n",
    "from keras.losses import MeanSquaredError\n",
    "from keras.metrics import RootMeanSquaredError\n",
    "from keras.optimizers import Adam\n",
    "\n",
    "\n",
    "model = Sequential()\n",
    "model.add(InputLayer((124, 1)))\n",
    "model.add(Conv1D(64, kernel_size=3, activation='relu'))\n",
    "model.add(Flatten())\n",
    "model.add(Dense(8, activation='relu'))\n",
    "model.add(Dense(1, activation=LeakyReLU(alpha=0.01)))\n",
    "\n",
    "model.summary()"
   ]
  },
  {
   "cell_type": "code",
   "execution_count": null,
   "metadata": {},
   "outputs": [],
   "source": [
    "model_view = clone_model(model)\n",
    "cp_view = ModelCheckpoint('../model/d-view.keras', save_best_only=True)\n",
    "model_view.compile(loss=MeanSquaredError(), optimizer=Adam(learning_rate=0.0001), metrics=[RootMeanSquaredError()])\n",
    "model_view.fit(X_train, y_train[:, 0], validation_data=(X_val, y_val[:, 0]), epochs=3, callbacks=[cp_view])"
   ]
  },
  {
   "cell_type": "code",
   "execution_count": null,
   "metadata": {},
   "outputs": [],
   "source": [
    "\n",
    "model_cart = clone_model(model)\n",
    "cp_cart = ModelCheckpoint('../model/d-cart.keras', save_best_only=True)\n",
    "model_cart.compile(loss=MeanSquaredError(), optimizer=Adam(learning_rate=0.0001), metrics=[RootMeanSquaredError()])\n",
    "model_cart.fit(X_train, y_train[:, 1], validation_data=(X_val, y_val[:, 1]), epochs=3, callbacks=[cp_cart])"
   ]
  },
  {
   "cell_type": "code",
   "execution_count": null,
   "metadata": {},
   "outputs": [],
   "source": [
    "\n",
    "model_remove_from_cart = clone_model(model)\n",
    "cp_remove_from_cart = ModelCheckpoint('../model/d-remove_from_cart.keras', save_best_only=True)\n",
    "model_remove_from_cart.compile(loss=MeanSquaredError(), optimizer=Adam(learning_rate=0.0001), metrics=[RootMeanSquaredError()])\n",
    "model_remove_from_cart.fit(X_train, y_train[:, 2], validation_data=(X_val, y_val[:, 2]), epochs=3, callbacks=[cp_remove_from_cart])"
   ]
  },
  {
   "cell_type": "code",
   "execution_count": null,
   "metadata": {},
   "outputs": [],
   "source": [
    "\n",
    "model_purchase = clone_model(model)\n",
    "cp_purchase = ModelCheckpoint('../model/d-purchase.keras', save_best_only=True)\n",
    "model_purchase.compile(loss=MeanSquaredError(), optimizer=Adam(learning_rate=0.0001), metrics=[RootMeanSquaredError()])\n",
    "model_purchase.fit(X_train, y_train[:, 3], validation_data=(X_val, y_val[:, 3]), epochs=3, callbacks=[cp_purchase])"
   ]
  }
 ],
 "metadata": {
  "kernelspec": {
   "display_name": "datn",
   "language": "python",
   "name": "python3"
  },
  "language_info": {
   "codemirror_mode": {
    "name": "ipython",
    "version": 3
   },
   "file_extension": ".py",
   "mimetype": "text/x-python",
   "name": "python",
   "nbconvert_exporter": "python",
   "pygments_lexer": "ipython3",
   "version": "3.9.19"
  }
 },
 "nbformat": 4,
 "nbformat_minor": 4
}
