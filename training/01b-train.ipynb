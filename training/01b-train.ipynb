{
 "cells": [
  {
   "cell_type": "code",
   "execution_count": 2,
   "metadata": {
    "metadata": {}
   },
   "outputs": [
    {
     "data": {
      "text/plain": [
       "True"
      ]
     },
     "execution_count": 2,
     "metadata": {},
     "output_type": "execute_result"
    }
   ],
   "source": [
    "%load_ext autoreload\n",
    "%autoreload 2\n",
    "\n",
    "from dotenv import load_dotenv\n",
    "import pandas as pd\n",
    "import os\n",
    "import sys\n",
    "import datetime\n",
    "\n",
    "root_path = os.path.abspath(os.path.join('..'))\n",
    "if root_path not in sys.path:\n",
    "    sys.path.append(root_path)\n",
    "    \n",
    "\n",
    "load_dotenv()"
   ]
  },
  {
   "cell_type": "code",
   "execution_count": 2,
   "metadata": {
    "metadata": {}
   },
   "outputs": [
    {
     "data": {
      "text/plain": [
       "('2.10.1', [])"
      ]
     },
     "execution_count": 2,
     "metadata": {},
     "output_type": "execute_result"
    }
   ],
   "source": [
    "import tensorflow as tf\n",
    "tf.__version__, tf.config.list_physical_devices('GPU')"
   ]
  },
  {
   "cell_type": "code",
   "execution_count": 3,
   "metadata": {
    "metadata": {}
   },
   "outputs": [
    {
     "data": {
      "text/plain": [
       "((1494497, 124), (1494497, 1), (683009, 124), (683009, 1))"
      ]
     },
     "execution_count": 3,
     "metadata": {},
     "output_type": "execute_result"
    }
   ],
   "source": [
    "from training.utils import date_range, df_to_X_y\n",
    "\n",
    "df_train = pd.concat([\n",
    "    pd.read_csv(f'../datasets/d{d.strftime(\"%Y-%m-%d\")}.csv') for d in date_range(\n",
    "        datetime.date(2019, 11, 1), \n",
    "        datetime.date(2020, 1, 15),\n",
    "        datetime.timedelta(days=1),\n",
    "    )\n",
    "])\n",
    "df_val = pd.concat([\n",
    "    pd.read_csv(f'../datasets/d{d.strftime(\"%Y-%m-%d\")}.csv') for d in date_range(\n",
    "        datetime.date(2020, 1, 15), \n",
    "        datetime.date(2020, 2, 15),\n",
    "        datetime.timedelta(days=1),\n",
    "    )\n",
    "])\n",
    "\n",
    "X_train, y_train = df_to_X_y(df_train)\n",
    "X_val, y_val = df_to_X_y(df_val)\n",
    "\n",
    "X_train.shape, y_train.shape, X_val.shape, y_val.shape"
   ]
  },
  {
   "cell_type": "code",
   "execution_count": 5,
   "metadata": {
    "metadata": {}
   },
   "outputs": [
    {
     "name": "stdout",
     "output_type": "stream",
     "text": [
      "Model: \"sequential\"\n",
      "_________________________________________________________________\n",
      " Layer (type)                Output Shape              Param #   \n",
      "=================================================================\n",
      " conv1d (Conv1D)             (None, 122, 64)           256       \n",
      "                                                                 \n",
      " flatten (Flatten)           (None, 7808)              0         \n",
      "                                                                 \n",
      " dense (Dense)               (None, 8)                 62472     \n",
      "                                                                 \n",
      " dense_1 (Dense)             (None, 1)                 9         \n",
      "                                                                 \n",
      "=================================================================\n",
      "Total params: 62,737\n",
      "Trainable params: 62,737\n",
      "Non-trainable params: 0\n",
      "_________________________________________________________________\n"
     ]
    }
   ],
   "source": [
    "from keras.models import Sequential, clone_model\n",
    "from keras.layers import *\n",
    "from keras.callbacks import ModelCheckpoint\n",
    "from keras.losses import MeanSquaredError\n",
    "from keras.metrics import RootMeanSquaredError\n",
    "from keras.optimizers import Adam\n",
    "\n",
    "\n",
    "model = Sequential()\n",
    "model.add(InputLayer((124, 1)))\n",
    "model.add(Conv1D(64, kernel_size=3, activation='relu'))\n",
    "model.add(Flatten())\n",
    "model.add(Dense(8, 'relu'))\n",
    "model.add(Dense(1, 'linear'))\n",
    "\n",
    "model.summary()"
   ]
  },
  {
   "cell_type": "code",
   "execution_count": 6,
   "metadata": {
    "metadata": {}
   },
   "outputs": [
    {
     "name": "stdout",
     "output_type": "stream",
     "text": [
      "Epoch 1/10\n",
      "46704/46704 [==============================] - 169s 4ms/step - loss: 17.0464 - root_mean_squared_error: 4.1287 - val_loss: 80.4579 - val_root_mean_squared_error: 8.9698\n",
      "Epoch 2/10\n",
      "46704/46704 [==============================] - 159s 3ms/step - loss: 14.9516 - root_mean_squared_error: 3.8667 - val_loss: 83.7335 - val_root_mean_squared_error: 9.1506\n",
      "Epoch 3/10\n",
      "46704/46704 [==============================] - 166s 4ms/step - loss: 14.4258 - root_mean_squared_error: 3.7981 - val_loss: 87.1477 - val_root_mean_squared_error: 9.3353\n",
      "Epoch 4/10\n",
      "46704/46704 [==============================] - 167s 4ms/step - loss: 14.2980 - root_mean_squared_error: 3.7813 - val_loss: 78.3587 - val_root_mean_squared_error: 8.8520\n",
      "Epoch 5/10\n",
      "46704/46704 [==============================] - 178s 4ms/step - loss: 13.9401 - root_mean_squared_error: 3.7336 - val_loss: 79.6208 - val_root_mean_squared_error: 8.9230\n",
      "Epoch 6/10\n",
      "46704/46704 [==============================] - 201s 4ms/step - loss: 13.7476 - root_mean_squared_error: 3.7078 - val_loss: 77.8248 - val_root_mean_squared_error: 8.8218\n",
      "Epoch 7/10\n",
      "46704/46704 [==============================] - 165s 4ms/step - loss: 13.5596 - root_mean_squared_error: 3.6823 - val_loss: 75.3964 - val_root_mean_squared_error: 8.6831\n",
      "Epoch 8/10\n",
      "46704/46704 [==============================] - 155s 3ms/step - loss: 13.4079 - root_mean_squared_error: 3.6617 - val_loss: 71.1442 - val_root_mean_squared_error: 8.4347\n",
      "Epoch 9/10\n",
      "46704/46704 [==============================] - 162s 3ms/step - loss: 13.2894 - root_mean_squared_error: 3.6455 - val_loss: 78.6879 - val_root_mean_squared_error: 8.8706\n",
      "Epoch 10/10\n",
      "46704/46704 [==============================] - 155s 3ms/step - loss: 13.2084 - root_mean_squared_error: 3.6343 - val_loss: 76.7323 - val_root_mean_squared_error: 8.7597\n",
      "Epoch 1/10\n",
      "46704/46704 [==============================] - 155s 3ms/step - loss: 10.4221 - root_mean_squared_error: 3.2283 - val_loss: 36.7836 - val_root_mean_squared_error: 6.0649\n",
      "Epoch 2/10\n",
      "46704/46704 [==============================] - 165s 4ms/step - loss: 8.3254 - root_mean_squared_error: 2.8854 - val_loss: 38.4885 - val_root_mean_squared_error: 6.2039\n",
      "Epoch 3/10\n",
      "46704/46704 [==============================] - 150s 3ms/step - loss: 7.9710 - root_mean_squared_error: 2.8233 - val_loss: 37.9699 - val_root_mean_squared_error: 6.1620\n",
      "Epoch 4/10\n",
      "46704/46704 [==============================] - 153s 3ms/step - loss: 7.5631 - root_mean_squared_error: 2.7501 - val_loss: 42.2796 - val_root_mean_squared_error: 6.5023\n",
      "Epoch 5/10\n",
      "46704/46704 [==============================] - 156s 3ms/step - loss: 7.4520 - root_mean_squared_error: 2.7298 - val_loss: 37.9300 - val_root_mean_squared_error: 6.1587\n",
      "Epoch 6/10\n",
      "46704/46704 [==============================] - 157s 3ms/step - loss: 7.3540 - root_mean_squared_error: 2.7118 - val_loss: 40.7245 - val_root_mean_squared_error: 6.3816\n",
      "Epoch 7/10\n",
      "46704/46704 [==============================] - 159s 3ms/step - loss: 7.2716 - root_mean_squared_error: 2.6966 - val_loss: 40.0964 - val_root_mean_squared_error: 6.3322\n",
      "Epoch 8/10\n",
      "46704/46704 [==============================] - 157s 3ms/step - loss: 7.1857 - root_mean_squared_error: 2.6806 - val_loss: 40.8668 - val_root_mean_squared_error: 6.3927\n",
      "Epoch 9/10\n",
      "46704/46704 [==============================] - 152s 3ms/step - loss: 7.1133 - root_mean_squared_error: 2.6671 - val_loss: 38.5704 - val_root_mean_squared_error: 6.2105\n",
      "Epoch 10/10\n",
      "46704/46704 [==============================] - 152s 3ms/step - loss: 7.0742 - root_mean_squared_error: 2.6597 - val_loss: 41.1065 - val_root_mean_squared_error: 6.4114\n",
      "Epoch 1/10\n",
      "46704/46704 [==============================] - 152s 3ms/step - loss: 4.5705 - root_mean_squared_error: 2.1379 - val_loss: 35.1568 - val_root_mean_squared_error: 5.9293\n",
      "Epoch 2/10\n",
      "46704/46704 [==============================] - 149s 3ms/step - loss: 3.6218 - root_mean_squared_error: 1.9031 - val_loss: 37.6168 - val_root_mean_squared_error: 6.1333\n",
      "Epoch 3/10\n",
      "46704/46704 [==============================] - 148s 3ms/step - loss: 3.4447 - root_mean_squared_error: 1.8560 - val_loss: 38.3906 - val_root_mean_squared_error: 6.1960\n",
      "Epoch 4/10\n",
      "46704/46704 [==============================] - 153s 3ms/step - loss: 3.3578 - root_mean_squared_error: 1.8324 - val_loss: 37.3156 - val_root_mean_squared_error: 6.1087\n",
      "Epoch 5/10\n",
      "46704/46704 [==============================] - 153s 3ms/step - loss: 3.3099 - root_mean_squared_error: 1.8193 - val_loss: 36.3714 - val_root_mean_squared_error: 6.0309\n",
      "Epoch 6/10\n",
      "46704/46704 [==============================] - 152s 3ms/step - loss: 3.2762 - root_mean_squared_error: 1.8100 - val_loss: 37.0900 - val_root_mean_squared_error: 6.0902\n",
      "Epoch 7/10\n",
      "46704/46704 [==============================] - 153s 3ms/step - loss: 3.2383 - root_mean_squared_error: 1.7995 - val_loss: 36.2566 - val_root_mean_squared_error: 6.0213\n",
      "Epoch 8/10\n",
      "46704/46704 [==============================] - 154s 3ms/step - loss: 3.2106 - root_mean_squared_error: 1.7918 - val_loss: 37.5087 - val_root_mean_squared_error: 6.1244\n",
      "Epoch 9/10\n",
      "46704/46704 [==============================] - 156s 3ms/step - loss: 3.1925 - root_mean_squared_error: 1.7868 - val_loss: 37.4523 - val_root_mean_squared_error: 6.1198\n",
      "Epoch 10/10\n",
      "46704/46704 [==============================] - 152s 3ms/step - loss: 3.1769 - root_mean_squared_error: 1.7824 - val_loss: 36.5288 - val_root_mean_squared_error: 6.0439\n",
      "Epoch 1/10\n",
      "46704/46704 [==============================] - 159s 3ms/step - loss: 1.3148 - root_mean_squared_error: 1.1466 - val_loss: 43.0125 - val_root_mean_squared_error: 6.5584\n",
      "Epoch 2/10\n",
      "46704/46704 [==============================] - 158s 3ms/step - loss: 0.8762 - root_mean_squared_error: 0.9361 - val_loss: 42.1943 - val_root_mean_squared_error: 6.4957\n",
      "Epoch 3/10\n",
      "46704/46704 [==============================] - 156s 3ms/step - loss: 0.7844 - root_mean_squared_error: 0.8857 - val_loss: 41.5974 - val_root_mean_squared_error: 6.4496\n",
      "Epoch 4/10\n",
      "46704/46704 [==============================] - 159s 3ms/step - loss: 0.7487 - root_mean_squared_error: 0.8653 - val_loss: 44.3904 - val_root_mean_squared_error: 6.6626\n",
      "Epoch 5/10\n",
      "46704/46704 [==============================] - 160s 3ms/step - loss: 0.7202 - root_mean_squared_error: 0.8486 - val_loss: 41.8856 - val_root_mean_squared_error: 6.4719\n",
      "Epoch 6/10\n",
      "46704/46704 [==============================] - 160s 3ms/step - loss: 0.7112 - root_mean_squared_error: 0.8433 - val_loss: 42.5474 - val_root_mean_squared_error: 6.5228\n",
      "Epoch 7/10\n",
      "46704/46704 [==============================] - 160s 3ms/step - loss: 0.6910 - root_mean_squared_error: 0.8313 - val_loss: 42.6603 - val_root_mean_squared_error: 6.5315\n",
      "Epoch 8/10\n",
      "46704/46704 [==============================] - 161s 3ms/step - loss: 0.6823 - root_mean_squared_error: 0.8260 - val_loss: 42.7454 - val_root_mean_squared_error: 6.5380\n",
      "Epoch 9/10\n",
      "46704/46704 [==============================] - 159s 3ms/step - loss: 0.6668 - root_mean_squared_error: 0.8166 - val_loss: 42.2412 - val_root_mean_squared_error: 6.4993\n",
      "Epoch 10/10\n",
      "46704/46704 [==============================] - 161s 3ms/step - loss: 0.6674 - root_mean_squared_error: 0.8170 - val_loss: 42.4260 - val_root_mean_squared_error: 6.5135\n"
     ]
    },
    {
     "data": {
      "text/plain": [
       "<keras.callbacks.History at 0x184a44ea520>"
      ]
     },
     "execution_count": 6,
     "metadata": {},
     "output_type": "execute_result"
    }
   ],
   "source": [
    "model_view = clone_model(model)\n",
    "cp_view = ModelCheckpoint('../model/d-view.keras', save_best_only=True)\n",
    "model_view.compile(loss=MeanSquaredError(), optimizer=Adam(learning_rate=0.0001), metrics=[RootMeanSquaredError()])\n",
    "model_view.fit(X_train, y_train[:, 0], validation_data=(X_val, y_val), epochs=10, callbacks=[cp_view])\n",
    "\n",
    "model_cart = clone_model(model)\n",
    "cp_cart = ModelCheckpoint('../model/d-cart.keras', save_best_only=True)\n",
    "model_cart.compile(loss=MeanSquaredError(), optimizer=Adam(learning_rate=0.0001), metrics=[RootMeanSquaredError()])\n",
    "model_cart.fit(X_train, y_train[:, 1], validation_data=(X_val, y_val), epochs=10, callbacks=[cp_cart])\n",
    "\n",
    "model_remove_from_cart = clone_model(model)\n",
    "cp_remove_from_cart = ModelCheckpoint('../model/d-remove_from_cart.keras', save_best_only=True)\n",
    "model_remove_from_cart.compile(loss=MeanSquaredError(), optimizer=Adam(learning_rate=0.0001), metrics=[RootMeanSquaredError()])\n",
    "model_remove_from_cart.fit(X_train, y_train[:, 2], validation_data=(X_val, y_val), epochs=10, callbacks=[cp_remove_from_cart])\n",
    "\n",
    "model_purchase = clone_model(model)\n",
    "cp_purchase = ModelCheckpoint('../model/d-purchase.keras', save_best_only=True)\n",
    "model_purchase.compile(loss=MeanSquaredError(), optimizer=Adam(learning_rate=0.0001), metrics=[RootMeanSquaredError()])\n",
    "model_purchase.fit(X_train, y_train[:, 3], validation_data=(X_val, y_val), epochs=10, callbacks=[cp_purchase])"
   ]
  },
  {
   "cell_type": "code",
   "execution_count": 11,
   "metadata": {
    "metadata": {}
   },
   "outputs": [],
   "source": [
    "model_view.save('../model/saved/d-view.keras')\n",
    "model_cart.save('../model/saved/d-cart.keras')\n",
    "model_remove_from_cart.save('../model/saved/d-remove_from_cart.keras')\n",
    "model_purchase.save('../model/saved/d-purchase.keras')"
   ]
  }
 ],
 "metadata": {
  "kernelspec": {
   "display_name": "datn",
   "language": "python",
   "name": "python3"
  },
  "language_info": {
   "codemirror_mode": {
    "name": "ipython",
    "version": 3
   },
   "file_extension": ".py",
   "mimetype": "text/x-python",
   "name": "python",
   "nbconvert_exporter": "python",
   "pygments_lexer": "ipython3",
   "version": "3.9.19"
  }
 },
 "nbformat": 4,
 "nbformat_minor": 4
}
