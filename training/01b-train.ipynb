{
 "cells": [
  {
   "cell_type": "code",
   "execution_count": 1,
   "metadata": {
    "metadata": {}
   },
   "outputs": [
    {
     "data": {
      "text/plain": [
       "True"
      ]
     },
     "execution_count": 1,
     "metadata": {},
     "output_type": "execute_result"
    }
   ],
   "source": [
    "%load_ext autoreload\n",
    "%autoreload 2\n",
    "\n",
    "from dotenv import load_dotenv\n",
    "import pandas as pd\n",
    "import os\n",
    "import sys\n",
    "import datetime\n",
    "\n",
    "root_path = os.path.abspath(os.path.join('..'))\n",
    "if root_path not in sys.path:\n",
    "    sys.path.append(root_path)\n",
    "    \n",
    "load_dotenv()"
   ]
  },
  {
   "cell_type": "code",
   "execution_count": 2,
   "metadata": {
    "metadata": {}
   },
   "outputs": [
    {
     "data": {
      "text/plain": [
       "('2.10.1', [])"
      ]
     },
     "execution_count": 2,
     "metadata": {},
     "output_type": "execute_result"
    }
   ],
   "source": [
    "import tensorflow as tf\n",
    "tf.__version__, tf.config.list_physical_devices('GPU')"
   ]
  },
  {
   "cell_type": "code",
   "execution_count": 3,
   "metadata": {
    "metadata": {}
   },
   "outputs": [
    {
     "data": {
      "text/plain": [
       "((1494497, 124), (1494497, 4), (683009, 124), (683009, 4))"
      ]
     },
     "execution_count": 3,
     "metadata": {},
     "output_type": "execute_result"
    }
   ],
   "source": [
    "from training.utils import date_range, df_to_X_y\n",
    "\n",
    "df_train = pd.concat([\n",
    "    pd.read_csv(f'../datasets/d{d.strftime(\"%Y-%m-%d\")}.csv') for d in date_range(\n",
    "        datetime.date(2019, 11, 1), \n",
    "        datetime.date(2020, 1, 15),\n",
    "        datetime.timedelta(days=1),\n",
    "    )\n",
    "])\n",
    "df_val = pd.concat([\n",
    "    pd.read_csv(f'../datasets/d{d.strftime(\"%Y-%m-%d\")}.csv') for d in date_range(\n",
    "        datetime.date(2020, 1, 15), \n",
    "        datetime.date(2020, 2, 15),\n",
    "        datetime.timedelta(days=1),\n",
    "    )\n",
    "])\n",
    "\n",
    "X_train, y_train = df_to_X_y(df_train)\n",
    "X_val, y_val = df_to_X_y(df_val)\n",
    "\n",
    "X_train.shape, y_train.shape, X_val.shape, y_val.shape"
   ]
  },
  {
   "cell_type": "code",
   "execution_count": 4,
   "metadata": {
    "metadata": {}
   },
   "outputs": [
    {
     "name": "stdout",
     "output_type": "stream",
     "text": [
      "Model: \"sequential\"\n",
      "_________________________________________________________________\n",
      " Layer (type)                Output Shape              Param #   \n",
      "=================================================================\n",
      " conv1d (Conv1D)             (None, 122, 64)           256       \n",
      "                                                                 \n",
      " flatten (Flatten)           (None, 7808)              0         \n",
      "                                                                 \n",
      " dense (Dense)               (None, 8)                 62472     \n",
      "                                                                 \n",
      " dense_1 (Dense)             (None, 1)                 9         \n",
      "                                                                 \n",
      "=================================================================\n",
      "Total params: 62,737\n",
      "Trainable params: 62,737\n",
      "Non-trainable params: 0\n",
      "_________________________________________________________________\n"
     ]
    }
   ],
   "source": [
    "from keras.models import Sequential, clone_model\n",
    "from keras.layers import *\n",
    "from keras.callbacks import ModelCheckpoint\n",
    "from keras.losses import MeanSquaredError\n",
    "from keras.metrics import RootMeanSquaredError\n",
    "from keras.optimizers import Adam\n",
    "\n",
    "\n",
    "model = Sequential()\n",
    "model.add(InputLayer((124, 1)))\n",
    "model.add(Conv1D(64, kernel_size=3, activation='relu'))\n",
    "model.add(Flatten())\n",
    "model.add(Dense(8, 'relu'))\n",
    "model.add(Dense(1, 'linear'))\n",
    "\n",
    "model.summary()"
   ]
  },
  {
   "cell_type": "code",
   "execution_count": 5,
   "metadata": {},
   "outputs": [
    {
     "name": "stdout",
     "output_type": "stream",
     "text": [
      "Epoch 1/10\n",
      "46704/46704 [==============================] - 173s 4ms/step - loss: 16.7790 - root_mean_squared_error: 4.0962 - val_loss: 80.8011 - val_root_mean_squared_error: 8.9889\n",
      "Epoch 2/10\n",
      "46704/46704 [==============================] - 165s 4ms/step - loss: 14.8952 - root_mean_squared_error: 3.8594 - val_loss: 59.0256 - val_root_mean_squared_error: 7.6828\n",
      "Epoch 3/10\n",
      "46704/46704 [==============================] - 162s 3ms/step - loss: 14.1313 - root_mean_squared_error: 3.7592 - val_loss: 84.3055 - val_root_mean_squared_error: 9.1818\n",
      "Epoch 4/10\n",
      "46704/46704 [==============================] - 165s 4ms/step - loss: 13.7947 - root_mean_squared_error: 3.7141 - val_loss: 81.2648 - val_root_mean_squared_error: 9.0147\n",
      "Epoch 5/10\n",
      "46704/46704 [==============================] - 166s 4ms/step - loss: 13.6809 - root_mean_squared_error: 3.6988 - val_loss: 90.7437 - val_root_mean_squared_error: 9.5259\n",
      "Epoch 6/10\n",
      "46704/46704 [==============================] - 166s 4ms/step - loss: 13.6153 - root_mean_squared_error: 3.6899 - val_loss: 70.5506 - val_root_mean_squared_error: 8.3994\n",
      "Epoch 7/10\n",
      "46704/46704 [==============================] - 165s 4ms/step - loss: 13.4025 - root_mean_squared_error: 3.6609 - val_loss: 80.4458 - val_root_mean_squared_error: 8.9692\n",
      "Epoch 8/10\n",
      "46704/46704 [==============================] - 168s 4ms/step - loss: 13.3361 - root_mean_squared_error: 3.6519 - val_loss: 73.8502 - val_root_mean_squared_error: 8.5936\n",
      "Epoch 9/10\n",
      "46704/46704 [==============================] - 178s 4ms/step - loss: 13.1459 - root_mean_squared_error: 3.6257 - val_loss: 102.4102 - val_root_mean_squared_error: 10.1198\n",
      "Epoch 10/10\n",
      "46704/46704 [==============================] - 177s 4ms/step - loss: 13.2161 - root_mean_squared_error: 3.6354 - val_loss: 79.9377 - val_root_mean_squared_error: 8.9408\n"
     ]
    }
   ],
   "source": [
    "model_view = clone_model(model)\n",
    "cp_view = ModelCheckpoint('../model/d-view.keras', save_best_only=True)\n",
    "model_view.compile(loss=MeanSquaredError(), optimizer=Adam(learning_rate=0.0001), metrics=[RootMeanSquaredError()])\n",
    "model_view.fit(X_train, y_train[:, 0], validation_data=(X_val, y_val), epochs=10, callbacks=[cp_view])\n",
    "model_view.save('../model/saved/d-view.keras')\n"
   ]
  },
  {
   "cell_type": "code",
   "execution_count": 6,
   "metadata": {},
   "outputs": [
    {
     "name": "stdout",
     "output_type": "stream",
     "text": [
      "Epoch 1/10\n",
      "46704/46704 [==============================] - 181s 4ms/step - loss: 9.6037 - root_mean_squared_error: 3.0990 - val_loss: 38.3396 - val_root_mean_squared_error: 6.1919\n",
      "Epoch 2/10\n",
      "46704/46704 [==============================] - 148s 3ms/step - loss: 7.9395 - root_mean_squared_error: 2.8177 - val_loss: 36.6714 - val_root_mean_squared_error: 6.0557\n",
      "Epoch 3/10\n",
      "46704/46704 [==============================] - 147s 3ms/step - loss: 7.6835 - root_mean_squared_error: 2.7719 - val_loss: 36.4282 - val_root_mean_squared_error: 6.0356\n",
      "Epoch 4/10\n",
      "46704/46704 [==============================] - 147s 3ms/step - loss: 7.5108 - root_mean_squared_error: 2.7406 - val_loss: 38.2460 - val_root_mean_squared_error: 6.1843\n",
      "Epoch 5/10\n",
      "46704/46704 [==============================] - 146s 3ms/step - loss: 7.4081 - root_mean_squared_error: 2.7218 - val_loss: 40.6916 - val_root_mean_squared_error: 6.3790\n",
      "Epoch 6/10\n",
      "46704/46704 [==============================] - 150s 3ms/step - loss: 7.2918 - root_mean_squared_error: 2.7003 - val_loss: 38.8301 - val_root_mean_squared_error: 6.2314\n",
      "Epoch 7/10\n",
      "46704/46704 [==============================] - 148s 3ms/step - loss: 7.2231 - root_mean_squared_error: 2.6876 - val_loss: 39.5366 - val_root_mean_squared_error: 6.2878\n",
      "Epoch 8/10\n",
      "46704/46704 [==============================] - 144s 3ms/step - loss: 7.0732 - root_mean_squared_error: 2.6595 - val_loss: 40.0897 - val_root_mean_squared_error: 6.3316\n",
      "Epoch 9/10\n",
      "46704/46704 [==============================] - 143s 3ms/step - loss: 7.0828 - root_mean_squared_error: 2.6614 - val_loss: 39.4198 - val_root_mean_squared_error: 6.2785\n",
      "Epoch 10/10\n",
      "46704/46704 [==============================] - 143s 3ms/step - loss: 6.9963 - root_mean_squared_error: 2.6451 - val_loss: 42.1010 - val_root_mean_squared_error: 6.4885\n"
     ]
    }
   ],
   "source": [
    "\n",
    "model_cart = clone_model(model)\n",
    "cp_cart = ModelCheckpoint('../model/d-cart.keras', save_best_only=True)\n",
    "model_cart.compile(loss=MeanSquaredError(), optimizer=Adam(learning_rate=0.0001), metrics=[RootMeanSquaredError()])\n",
    "model_cart.fit(X_train, y_train[:, 1], validation_data=(X_val, y_val), epochs=10, callbacks=[cp_cart])\n",
    "model_cart.save('../model/saved/d-cart.keras')\n"
   ]
  },
  {
   "cell_type": "code",
   "execution_count": 7,
   "metadata": {},
   "outputs": [
    {
     "name": "stdout",
     "output_type": "stream",
     "text": [
      "Epoch 1/10\n",
      "46704/46704 [==============================] - 166s 4ms/step - loss: 4.1772 - root_mean_squared_error: 2.0438 - val_loss: 37.4937 - val_root_mean_squared_error: 6.1232\n",
      "Epoch 2/10\n",
      "46704/46704 [==============================] - 141s 3ms/step - loss: 3.4331 - root_mean_squared_error: 1.8529 - val_loss: 36.7340 - val_root_mean_squared_error: 6.0609\n",
      "Epoch 3/10\n",
      "46704/46704 [==============================] - 143s 3ms/step - loss: 3.3399 - root_mean_squared_error: 1.8275 - val_loss: 36.1196 - val_root_mean_squared_error: 6.0100\n",
      "Epoch 4/10\n",
      "46704/46704 [==============================] - 152s 3ms/step - loss: 3.3036 - root_mean_squared_error: 1.8176 - val_loss: 36.8385 - val_root_mean_squared_error: 6.0695\n",
      "Epoch 5/10\n",
      "46704/46704 [==============================] - 142s 3ms/step - loss: 3.2752 - root_mean_squared_error: 1.8098 - val_loss: 37.2262 - val_root_mean_squared_error: 6.1013\n",
      "Epoch 6/10\n",
      "46704/46704 [==============================] - 149s 3ms/step - loss: 3.2590 - root_mean_squared_error: 1.8053 - val_loss: 36.5267 - val_root_mean_squared_error: 6.0437\n",
      "Epoch 7/10\n",
      "46704/46704 [==============================] - 157s 3ms/step - loss: 3.2499 - root_mean_squared_error: 1.8028 - val_loss: 36.7713 - val_root_mean_squared_error: 6.0639\n",
      "Epoch 8/10\n",
      "46704/46704 [==============================] - 154s 3ms/step - loss: 3.2288 - root_mean_squared_error: 1.7969 - val_loss: 36.8041 - val_root_mean_squared_error: 6.0666\n",
      "Epoch 9/10\n",
      "46704/46704 [==============================] - 154s 3ms/step - loss: 3.2236 - root_mean_squared_error: 1.7954 - val_loss: 37.0531 - val_root_mean_squared_error: 6.0871\n",
      "Epoch 10/10\n",
      "46704/46704 [==============================] - 155s 3ms/step - loss: 3.2104 - root_mean_squared_error: 1.7918 - val_loss: 36.6764 - val_root_mean_squared_error: 6.0561\n"
     ]
    }
   ],
   "source": [
    "\n",
    "model_remove_from_cart = clone_model(model)\n",
    "cp_remove_from_cart = ModelCheckpoint('../model/d-remove_from_cart.keras', save_best_only=True)\n",
    "model_remove_from_cart.compile(loss=MeanSquaredError(), optimizer=Adam(learning_rate=0.0001), metrics=[RootMeanSquaredError()])\n",
    "model_remove_from_cart.fit(X_train, y_train[:, 2], validation_data=(X_val, y_val), epochs=10, callbacks=[cp_remove_from_cart])\n",
    "model_remove_from_cart.save('../model/saved/d-remove_from_cart.keras')\n"
   ]
  },
  {
   "cell_type": "code",
   "execution_count": 8,
   "metadata": {},
   "outputs": [
    {
     "name": "stdout",
     "output_type": "stream",
     "text": [
      "Epoch 1/10\n",
      "46704/46704 [==============================] - 166s 4ms/step - loss: 1.2943 - root_mean_squared_error: 1.1377 - val_loss: 41.3845 - val_root_mean_squared_error: 6.4331\n",
      "Epoch 2/10\n",
      "46704/46704 [==============================] - 156s 3ms/step - loss: 0.9055 - root_mean_squared_error: 0.9516 - val_loss: 43.9836 - val_root_mean_squared_error: 6.6320\n",
      "Epoch 3/10\n",
      "46704/46704 [==============================] - 156s 3ms/step - loss: 0.8360 - root_mean_squared_error: 0.9143 - val_loss: 41.9207 - val_root_mean_squared_error: 6.4746\n",
      "Epoch 4/10\n",
      "46704/46704 [==============================] - 157s 3ms/step - loss: 0.7898 - root_mean_squared_error: 0.8887 - val_loss: 41.7262 - val_root_mean_squared_error: 6.4596\n",
      "Epoch 5/10\n",
      "46704/46704 [==============================] - 158s 3ms/step - loss: 0.7607 - root_mean_squared_error: 0.8722 - val_loss: 43.4735 - val_root_mean_squared_error: 6.5934\n",
      "Epoch 6/10\n",
      "46704/46704 [==============================] - 156s 3ms/step - loss: 0.7408 - root_mean_squared_error: 0.8607 - val_loss: 43.6407 - val_root_mean_squared_error: 6.6061\n",
      "Epoch 7/10\n",
      "46704/46704 [==============================] - 157s 3ms/step - loss: 0.7252 - root_mean_squared_error: 0.8516 - val_loss: 42.8694 - val_root_mean_squared_error: 6.5475\n",
      "Epoch 8/10\n",
      "46704/46704 [==============================] - 176s 4ms/step - loss: 0.7146 - root_mean_squared_error: 0.8453 - val_loss: 42.5752 - val_root_mean_squared_error: 6.5250\n",
      "Epoch 9/10\n",
      "46704/46704 [==============================] - 154s 3ms/step - loss: 0.7026 - root_mean_squared_error: 0.8382 - val_loss: 42.8977 - val_root_mean_squared_error: 6.5496\n",
      "Epoch 10/10\n",
      "46704/46704 [==============================] - 162s 3ms/step - loss: 0.6959 - root_mean_squared_error: 0.8342 - val_loss: 42.3564 - val_root_mean_squared_error: 6.5082\n"
     ]
    }
   ],
   "source": [
    "\n",
    "model_purchase = clone_model(model)\n",
    "cp_purchase = ModelCheckpoint('../model/d-purchase.keras', save_best_only=True)\n",
    "model_purchase.compile(loss=MeanSquaredError(), optimizer=Adam(learning_rate=0.0001), metrics=[RootMeanSquaredError()])\n",
    "model_purchase.fit(X_train, y_train[:, 3], validation_data=(X_val, y_val), epochs=10, callbacks=[cp_purchase])\n",
    "model_purchase.save('../model/saved/d-purchase.keras')\n"
   ]
  },
  {
   "cell_type": "code",
   "execution_count": null,
   "metadata": {
    "metadata": {}
   },
   "outputs": [],
   "source": []
  }
 ],
 "metadata": {
  "kernelspec": {
   "display_name": "datn",
   "language": "python",
   "name": "python3"
  },
  "language_info": {
   "codemirror_mode": {
    "name": "ipython",
    "version": 3
   },
   "file_extension": ".py",
   "mimetype": "text/x-python",
   "name": "python",
   "nbconvert_exporter": "python",
   "pygments_lexer": "ipython3",
   "version": "3.9.19"
  }
 },
 "nbformat": 4,
 "nbformat_minor": 4
}
