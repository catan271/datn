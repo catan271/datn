{
    "cells": [
        {
            "cell_type": "code",
            "execution_count": 1,
            "metadata": {
                "metadata": {}
            },
            "outputs": [
                {
                    "data": {
                        "text/plain": [
                            "True"
                        ]
                    },
                    "execution_count": 1,
                    "metadata": {},
                    "output_type": "execute_result"
                }
            ],
            "source": [
                "%load_ext autoreload\n",
                "%autoreload 2\n",
                "\n",
                "from dotenv import load_dotenv\n",
                "import pandas as pd\n",
                "import os\n",
                "import sys\n",
                "import datetime\n",
                "\n",
                "root_path = os.path.abspath(os.path.join('..'))\n",
                "if root_path not in sys.path:\n",
                "    sys.path.append(root_path)\n",
                "    \n",
                "load_dotenv()"
            ]
        },
        {
            "cell_type": "code",
            "execution_count": 2,
            "metadata": {
                "metadata": {}
            },
            "outputs": [
                {
                    "data": {
                        "text/plain": [
                            "('2.10.1', [])"
                        ]
                    },
                    "execution_count": 2,
                    "metadata": {},
                    "output_type": "execute_result"
                }
            ],
            "source": [
                "import tensorflow as tf\n",
                "tf.__version__, tf.config.list_physical_devices('GPU')"
            ]
        },
        {
            "cell_type": "code",
            "execution_count": 3,
            "metadata": {
                "metadata": {}
            },
            "outputs": [
                {
                    "data": {
                        "text/plain": [
                            "((1598125, 24), (1598125, 3), (263845, 24), (263845, 3))"
                        ]
                    },
                    "execution_count": 3,
                    "metadata": {},
                    "output_type": "execute_result"
                }
            ],
            "source": [
                "from utils.utils import date_range, preprocess_b\n",
                "\n",
                "df_train = pd.concat([\n",
                "    pd.read_csv(f'../datasets/d{d.strftime(\"%Y-%m-%d\")}.csv') for d in date_range(\n",
                "        datetime.date(2019, 11, 1), \n",
                "        datetime.date(2020, 2, 1),\n",
                "        datetime.timedelta(days=1),\n",
                "    )\n",
                "])\n",
                "df_val = pd.concat([\n",
                "    pd.read_csv(f'../datasets/d{d.strftime(\"%Y-%m-%d\")}.csv') for d in date_range(\n",
                "        datetime.date(2020, 2, 1), \n",
                "        datetime.date(2020, 2, 15),\n",
                "        datetime.timedelta(days=1),\n",
                "    )\n",
                "])\n",
                "\n",
                "X_train, y_train = preprocess_b(df_train)\n",
                "X_val, y_val = preprocess_b(df_val)\n",
                "\n",
                "X_train.shape, y_train.shape, X_val.shape, y_val.shape"
            ]
        },
        {
            "cell_type": "code",
            "execution_count": 4,
            "metadata": {
                "metadata": {}
            },
            "outputs": [
                {
                    "name": "stdout",
                    "output_type": "stream",
                    "text": [
                        "Model: \"sequential\"\n",
                        "_________________________________________________________________\n",
                        " Layer (type)                Output Shape              Param #   \n",
                        "=================================================================\n",
                        " conv1d (Conv1D)             (None, 22, 64)            256       \n",
                        "                                                                 \n",
                        " flatten (Flatten)           (None, 1408)              0         \n",
                        "                                                                 \n",
                        " dense (Dense)               (None, 8)                 11272     \n",
                        "                                                                 \n",
                        " dense_1 (Dense)             (None, 1)                 9         \n",
                        "                                                                 \n",
                        "=================================================================\n",
                        "Total params: 11,537\n",
                        "Trainable params: 11,537\n",
                        "Non-trainable params: 0\n",
                        "_________________________________________________________________\n"
                    ]
                }
            ],
            "source": [
                "from keras.models import Sequential, clone_model\n",
                "from keras.layers import *\n",
                "from keras.callbacks import ModelCheckpoint\n",
                "from keras.losses import MeanSquaredError\n",
                "from keras.metrics import RootMeanSquaredError\n",
                "from keras.optimizers import Adam\n",
                "\n",
                "prev_days = int(os.getenv('PREV_DAYS'))\n",
                "\n",
                "\n",
                "model = Sequential()\n",
                "model.add(InputLayer((3 + 3 * prev_days, 1)))\n",
                "model.add(Conv1D(64, kernel_size=3, activation='relu'))\n",
                "model.add(Flatten())\n",
                "model.add(Dense(8, activation='relu'))\n",
                "model.add(Dense(1, activation=LeakyReLU(alpha=0.01)))\n",
                "\n",
                "model.summary()"
            ]
        },
        {
            "cell_type": "code",
            "execution_count": 5,
            "metadata": {},
            "outputs": [
                {
                    "data": {
                        "image/png": "[encoded data removed]",
                        "text/plain": [
                            "<IPython.core.display.Image object>"
                        ]
                    },
                    "execution_count": 5,
                    "metadata": {},
                    "output_type": "execute_result"
                }
            ],
            "source": [
                "# plot model\n",
                "from keras.utils import plot_model\n",
                "\n",
                "plot_model(model,to_file='../.data/model_b.png', show_layer_activations=True, show_shapes=True, show_layer_names=True)"
            ]
        },
        {
            "cell_type": "code",
            "execution_count": 6,
            "metadata": {},
            "outputs": [
                {
                    "name": "stdout",
                    "output_type": "stream",
                    "text": [
                        "Epoch 1/10\n",
                        "49942/49942 [==============================] - 109s 2ms/step - loss: 1.3860e-06 - root_mean_squared_error: 0.0012 - val_loss: 6.3835e-06 - val_root_mean_squared_error: 0.0025\n",
                        "Epoch 2/10\n",
                        "49942/49942 [==============================] - 78s 2ms/step - loss: 1.1627e-06 - root_mean_squared_error: 0.0011 - val_loss: 6.2689e-06 - val_root_mean_squared_error: 0.0025\n",
                        "Epoch 3/10\n",
                        "49942/49942 [==============================] - 80s 2ms/step - loss: 1.1231e-06 - root_mean_squared_error: 0.0011 - val_loss: 6.2331e-06 - val_root_mean_squared_error: 0.0025\n",
                        "Epoch 4/10\n",
                        "49942/49942 [==============================] - 77s 2ms/step - loss: 1.1130e-06 - root_mean_squared_error: 0.0011 - val_loss: 6.1231e-06 - val_root_mean_squared_error: 0.0025\n",
                        "Epoch 5/10\n",
                        "49942/49942 [==============================] - 80s 2ms/step - loss: 1.0939e-06 - root_mean_squared_error: 0.0010 - val_loss: 6.1627e-06 - val_root_mean_squared_error: 0.0025\n",
                        "Epoch 6/10\n",
                        "49942/49942 [==============================] - 95s 2ms/step - loss: 1.0951e-06 - root_mean_squared_error: 0.0010 - val_loss: 6.2016e-06 - val_root_mean_squared_error: 0.0025\n",
                        "Epoch 7/10\n",
                        "49942/49942 [==============================] - 82s 2ms/step - loss: 1.0777e-06 - root_mean_squared_error: 0.0010 - val_loss: 6.2654e-06 - val_root_mean_squared_error: 0.0025\n",
                        "Epoch 8/10\n",
                        "49942/49942 [==============================] - 83s 2ms/step - loss: 1.0698e-06 - root_mean_squared_error: 0.0010 - val_loss: 6.3268e-06 - val_root_mean_squared_error: 0.0025\n",
                        "Epoch 9/10\n",
                        "49942/49942 [==============================] - 79s 2ms/step - loss: 1.0663e-06 - root_mean_squared_error: 0.0010 - val_loss: 6.2558e-06 - val_root_mean_squared_error: 0.0025\n",
                        "Epoch 10/10\n",
                        "49942/49942 [==============================] - 88s 2ms/step - loss: 1.0503e-06 - root_mean_squared_error: 0.0010 - val_loss: 6.2876e-06 - val_root_mean_squared_error: 0.0025\n"
                    ]
                },
                {
                    "data": {
                        "text/plain": [
                            "<keras.callbacks.History at 0x1af80d1b460>"
                        ]
                    },
                    "execution_count": 6,
                    "metadata": {},
                    "output_type": "execute_result"
                }
            ],
            "source": [
                "model_view = clone_model(model)\n",
                "cp_view = ModelCheckpoint('../model/b-view.keras', save_best_only=True)\n",
                "model_view.compile(loss=MeanSquaredError(), optimizer=Adam(learning_rate=0.0001), metrics=[RootMeanSquaredError()])\n",
                "model_view.fit(X_train, y_train[:, 0], validation_data=(X_val, y_val[:, 0]), epochs=10, callbacks=[cp_view])"
            ]
        },
        {
            "cell_type": "code",
            "execution_count": 7,
            "metadata": {},
            "outputs": [
                {
                    "name": "stdout",
                    "output_type": "stream",
                    "text": [
                        "Epoch 1/10\n",
                        "49942/49942 [==============================] - 79s 2ms/step - loss: 8.5171e-06 - root_mean_squared_error: 0.0029 - val_loss: 1.0600e-05 - val_root_mean_squared_error: 0.0033\n",
                        "Epoch 2/10\n",
                        "49942/49942 [==============================] - 74s 1ms/step - loss: 8.0565e-06 - root_mean_squared_error: 0.0028 - val_loss: 1.1834e-05 - val_root_mean_squared_error: 0.0034\n",
                        "Epoch 3/10\n",
                        "49942/49942 [==============================] - 85s 2ms/step - loss: 7.9899e-06 - root_mean_squared_error: 0.0028 - val_loss: 1.1336e-05 - val_root_mean_squared_error: 0.0034\n",
                        "Epoch 4/10\n",
                        "49942/49942 [==============================] - 94s 2ms/step - loss: 7.9079e-06 - root_mean_squared_error: 0.0028 - val_loss: 1.0986e-05 - val_root_mean_squared_error: 0.0033\n",
                        "Epoch 5/10\n",
                        "49942/49942 [==============================] - 83s 2ms/step - loss: 7.8250e-06 - root_mean_squared_error: 0.0028 - val_loss: 1.0744e-05 - val_root_mean_squared_error: 0.0033\n",
                        "Epoch 6/10\n",
                        "49942/49942 [==============================] - 85s 2ms/step - loss: 7.7838e-06 - root_mean_squared_error: 0.0028 - val_loss: 1.0886e-05 - val_root_mean_squared_error: 0.0033\n",
                        "Epoch 7/10\n",
                        "49942/49942 [==============================] - 87s 2ms/step - loss: 7.7654e-06 - root_mean_squared_error: 0.0028 - val_loss: 1.0851e-05 - val_root_mean_squared_error: 0.0033\n",
                        "Epoch 8/10\n",
                        "49942/49942 [==============================] - 88s 2ms/step - loss: 7.7157e-06 - root_mean_squared_error: 0.0028 - val_loss: 1.0743e-05 - val_root_mean_squared_error: 0.0033\n",
                        "Epoch 9/10\n",
                        "49942/49942 [==============================] - 87s 2ms/step - loss: 7.6850e-06 - root_mean_squared_error: 0.0028 - val_loss: 1.0767e-05 - val_root_mean_squared_error: 0.0033\n",
                        "Epoch 10/10\n",
                        "49942/49942 [==============================] - 86s 2ms/step - loss: 7.6894e-06 - root_mean_squared_error: 0.0028 - val_loss: 1.0529e-05 - val_root_mean_squared_error: 0.0032\n"
                    ]
                },
                {
                    "data": {
                        "text/plain": [
                            "<keras.callbacks.History at 0x1af80d1b070>"
                        ]
                    },
                    "execution_count": 7,
                    "metadata": {},
                    "output_type": "execute_result"
                }
            ],
            "source": [
                "\n",
                "model_cart = clone_model(model)\n",
                "cp_cart = ModelCheckpoint('../model/b-cart.keras', save_best_only=True)\n",
                "model_cart.compile(loss=MeanSquaredError(), optimizer=Adam(learning_rate=0.0001), metrics=[RootMeanSquaredError()])\n",
                "model_cart.fit(X_train, y_train[:, 1], validation_data=(X_val, y_val[:, 1]), epochs=10, callbacks=[cp_cart])"
            ]
        },
        {
            "cell_type": "code",
            "execution_count": 9,
            "metadata": {},
            "outputs": [
                {
                    "name": "stdout",
                    "output_type": "stream",
                    "text": [
                        "Epoch 1/10\n",
                        "49942/49942 [==============================] - 100s 2ms/step - loss: 3.2601e-05 - root_mean_squared_error: 0.0057 - val_loss: 2.7774e-05 - val_root_mean_squared_error: 0.0053\n",
                        "Epoch 2/10\n",
                        "49942/49942 [==============================] - 94s 2ms/step - loss: 3.1471e-05 - root_mean_squared_error: 0.0056 - val_loss: 2.4035e-05 - val_root_mean_squared_error: 0.0049\n",
                        "Epoch 3/10\n",
                        "49942/49942 [==============================] - 97s 2ms/step - loss: 3.1092e-05 - root_mean_squared_error: 0.0056 - val_loss: 2.4684e-05 - val_root_mean_squared_error: 0.0050\n",
                        "Epoch 4/10\n",
                        "49942/49942 [==============================] - 98s 2ms/step - loss: 3.0935e-05 - root_mean_squared_error: 0.0056 - val_loss: 2.5183e-05 - val_root_mean_squared_error: 0.0050\n",
                        "Epoch 5/10\n",
                        "49942/49942 [==============================] - 107s 2ms/step - loss: 3.0711e-05 - root_mean_squared_error: 0.0055 - val_loss: 2.5293e-05 - val_root_mean_squared_error: 0.0050\n",
                        "Epoch 6/10\n",
                        "49942/49942 [==============================] - 103s 2ms/step - loss: 3.0548e-05 - root_mean_squared_error: 0.0055 - val_loss: 2.6018e-05 - val_root_mean_squared_error: 0.0051\n",
                        "Epoch 7/10\n",
                        "49942/49942 [==============================] - 106s 2ms/step - loss: 3.0370e-05 - root_mean_squared_error: 0.0055 - val_loss: 2.9065e-05 - val_root_mean_squared_error: 0.0054\n",
                        "Epoch 8/10\n",
                        "49942/49942 [==============================] - 107s 2ms/step - loss: 3.0266e-05 - root_mean_squared_error: 0.0055 - val_loss: 2.5280e-05 - val_root_mean_squared_error: 0.0050\n",
                        "Epoch 9/10\n",
                        "49942/49942 [==============================] - 107s 2ms/step - loss: 3.0178e-05 - root_mean_squared_error: 0.0055 - val_loss: 2.6384e-05 - val_root_mean_squared_error: 0.0051\n",
                        "Epoch 10/10\n",
                        "49942/49942 [==============================] - 106s 2ms/step - loss: 2.9916e-05 - root_mean_squared_error: 0.0055 - val_loss: 2.4675e-05 - val_root_mean_squared_error: 0.0050\n"
                    ]
                },
                {
                    "data": {
                        "text/plain": [
                            "<keras.callbacks.History at 0x1afa8bf1ca0>"
                        ]
                    },
                    "execution_count": 9,
                    "metadata": {},
                    "output_type": "execute_result"
                }
            ],
            "source": [
                "\n",
                "model_purchase = clone_model(model)\n",
                "cp_purchase = ModelCheckpoint('../model/b-purchase.keras', save_best_only=True)\n",
                "model_purchase.compile(loss=MeanSquaredError(), optimizer=Adam(learning_rate=0.0001), metrics=[RootMeanSquaredError()])\n",
                "model_purchase.fit(X_train, y_train[:, 2], validation_data=(X_val, y_val[:, 2]), epochs=10, callbacks=[cp_purchase])"
            ]
        }
    ],
    "metadata": {
        "kernelspec": {
            "display_name": "datn",
            "language": "python",
            "name": "python3"
        },
        "language_info": {
            "codemirror_mode": {
                "name": "ipython",
                "version": 3
            },
            "file_extension": ".py",
            "mimetype": "text/x-python",
            "name": "python",
            "nbconvert_exporter": "python",
            "pygments_lexer": "ipython3",
            "version": "3.9.19"
        }
    },
    "nbformat": 4,
    "nbformat_minor": 4
}
