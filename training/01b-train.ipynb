{
    "cells": [
        {
            "cell_type": "code",
            "execution_count": 1,
            "metadata": {
                "metadata": {}
            },
            "outputs": [
                {
                    "data": {
                        "text/plain": [
                            "True"
                        ]
                    },
                    "execution_count": 1,
                    "metadata": {},
                    "output_type": "execute_result"
                }
            ],
            "source": [
                "%load_ext autoreload\n",
                "%autoreload 2\n",
                "\n",
                "from dotenv import load_dotenv\n",
                "import pandas as pd\n",
                "import os\n",
                "import sys\n",
                "import datetime\n",
                "\n",
                "root_path = os.path.abspath(os.path.join('..'))\n",
                "if root_path not in sys.path:\n",
                "    sys.path.append(root_path)\n",
                "    \n",
                "load_dotenv()"
            ]
        },
        {
            "cell_type": "code",
            "execution_count": 2,
            "metadata": {
                "metadata": {}
            },
            "outputs": [
                {
                    "data": {
                        "text/plain": [
                            "('2.10.1', [])"
                        ]
                    },
                    "execution_count": 2,
                    "metadata": {},
                    "output_type": "execute_result"
                }
            ],
            "source": [
                "import tensorflow as tf\n",
                "tf.__version__, tf.config.list_physical_devices('GPU')"
            ]
        },
        {
            "cell_type": "code",
            "execution_count": 3,
            "metadata": {
                "metadata": {}
            },
            "outputs": [
                {
                    "data": {
                        "text/plain": [
                            "((1598125, 124), (1598125, 4), (263845, 124), (263845, 4))"
                        ]
                    },
                    "execution_count": 3,
                    "metadata": {},
                    "output_type": "execute_result"
                }
            ],
            "source": [
                "from utils.utils import date_range, preprocess_b\n",
                "\n",
                "df_train = pd.concat([\n",
                "    pd.read_csv(f'../datasets/d{d.strftime(\"%Y-%m-%d\")}.csv') for d in date_range(\n",
                "        datetime.date(2019, 11, 1), \n",
                "        datetime.date(2020, 2, 1),\n",
                "        datetime.timedelta(days=1),\n",
                "    )\n",
                "])\n",
                "df_val = pd.concat([\n",
                "    pd.read_csv(f'../datasets/d{d.strftime(\"%Y-%m-%d\")}.csv') for d in date_range(\n",
                "        datetime.date(2020, 2, 1), \n",
                "        datetime.date(2020, 2, 15),\n",
                "        datetime.timedelta(days=1),\n",
                "    )\n",
                "])\n",
                "\n",
                "X_train, y_train = preprocess_b(df_train)\n",
                "X_val, y_val = preprocess_b(df_val)\n",
                "\n",
                "X_train.shape, y_train.shape, X_val.shape, y_val.shape"
            ]
        },
        {
            "cell_type": "code",
            "execution_count": 4,
            "metadata": {
                "metadata": {}
            },
            "outputs": [
                {
                    "name": "stdout",
                    "output_type": "stream",
                    "text": [
                        "Model: \"sequential\"\n",
                        "_________________________________________________________________\n",
                        " Layer (type)                Output Shape              Param #   \n",
                        "=================================================================\n",
                        " conv1d (Conv1D)             (None, 122, 64)           256       \n",
                        "                                                                 \n",
                        " flatten (Flatten)           (None, 7808)              0         \n",
                        "                                                                 \n",
                        " dense (Dense)               (None, 8)                 62472     \n",
                        "                                                                 \n",
                        " dense_1 (Dense)             (None, 1)                 9         \n",
                        "                                                                 \n",
                        "=================================================================\n",
                        "Total params: 62,737\n",
                        "Trainable params: 62,737\n",
                        "Non-trainable params: 0\n",
                        "_________________________________________________________________\n"
                    ]
                }
            ],
            "source": [
                "from keras.models import Sequential, clone_model\n",
                "from keras.layers import *\n",
                "from keras.callbacks import ModelCheckpoint\n",
                "from keras.losses import MeanSquaredError\n",
                "from keras.metrics import RootMeanSquaredError\n",
                "from keras.optimizers import Adam\n",
                "\n",
                "prev_days = int(os.getenv('PREV_DAYS'))\n",
                "\n",
                "\n",
                "model = Sequential()\n",
                "model.add(InputLayer((4 + 4 * prev_days, 1)))\n",
                "model.add(Conv1D(64, kernel_size=3, activation='relu'))\n",
                "model.add(Flatten())\n",
                "model.add(Dense(8, activation='relu'))\n",
                "model.add(Dense(1, activation=LeakyReLU(alpha=0.01)))\n",
                "\n",
                "model.summary()"
            ]
        },
        {
            "cell_type": "code",
            "execution_count": 5,
            "metadata": {},
            "outputs": [
                {
                    "data": {
                        "image/png": "[encoded data removed]",
                        "text/plain": [
                            "<IPython.core.display.Image object>"
                        ]
                    },
                    "execution_count": 5,
                    "metadata": {},
                    "output_type": "execute_result"
                }
            ],
            "source": [
                "# plot model\n",
                "from keras.utils import plot_model\n",
                "\n",
                "plot_model(model,to_file='../.data/model_b.png', show_layer_activations=True, show_shapes=True, show_layer_names=True)"
            ]
        },
        {
            "cell_type": "code",
            "execution_count": 6,
            "metadata": {},
            "outputs": [
                {
                    "name": "stdout",
                    "output_type": "stream",
                    "text": [
                        "Epoch 1/3\n",
                        "49942/49942 [==============================] - 153s 3ms/step - loss: 6.0460e-06 - root_mean_squared_error: 0.0025 - val_loss: 1.2079e-05 - val_root_mean_squared_error: 0.0035\n",
                        "Epoch 2/3\n",
                        "49942/49942 [==============================] - 172s 3ms/step - loss: 5.9651e-06 - root_mean_squared_error: 0.0024 - val_loss: 1.2101e-05 - val_root_mean_squared_error: 0.0035\n",
                        "Epoch 3/3\n",
                        "49942/49942 [==============================] - 162s 3ms/step - loss: 5.9652e-06 - root_mean_squared_error: 0.0024 - val_loss: 1.2079e-05 - val_root_mean_squared_error: 0.0035\n"
                    ]
                },
                {
                    "data": {
                        "text/plain": [
                            "<keras.callbacks.History at 0x2068da79340>"
                        ]
                    },
                    "execution_count": 6,
                    "metadata": {},
                    "output_type": "execute_result"
                }
            ],
            "source": [
                "model_view = clone_model(model)\n",
                "cp_view = ModelCheckpoint('../model/b-view.keras', save_best_only=True)\n",
                "model_view.compile(loss=MeanSquaredError(), optimizer=Adam(learning_rate=0.0001), metrics=[RootMeanSquaredError()])\n",
                "model_view.fit(X_train, y_train[:, 0], validation_data=(X_val, y_val[:, 0]), epochs=3, callbacks=[cp_view])"
            ]
        },
        {
            "cell_type": "code",
            "execution_count": 7,
            "metadata": {},
            "outputs": [
                {
                    "name": "stdout",
                    "output_type": "stream",
                    "text": [
                        "Epoch 1/3\n",
                        "49942/49942 [==============================] - 165s 3ms/step - loss: 1.9842e-05 - root_mean_squared_error: 0.0045 - val_loss: 1.0458e-05 - val_root_mean_squared_error: 0.0032\n",
                        "Epoch 2/3\n",
                        "49942/49942 [==============================] - 164s 3ms/step - loss: 9.5825e-06 - root_mean_squared_error: 0.0031 - val_loss: 1.0706e-05 - val_root_mean_squared_error: 0.0033\n",
                        "Epoch 3/3\n",
                        "49942/49942 [==============================] - 159s 3ms/step - loss: 8.8590e-06 - root_mean_squared_error: 0.0030 - val_loss: 1.0543e-05 - val_root_mean_squared_error: 0.0032\n"
                    ]
                },
                {
                    "data": {
                        "text/plain": [
                            "<keras.callbacks.History at 0x206a02f2fd0>"
                        ]
                    },
                    "execution_count": 7,
                    "metadata": {},
                    "output_type": "execute_result"
                }
            ],
            "source": [
                "\n",
                "model_cart = clone_model(model)\n",
                "cp_cart = ModelCheckpoint('../model/b-cart.keras', save_best_only=True)\n",
                "model_cart.compile(loss=MeanSquaredError(), optimizer=Adam(learning_rate=0.0001), metrics=[RootMeanSquaredError()])\n",
                "model_cart.fit(X_train, y_train[:, 1], validation_data=(X_val, y_val[:, 1]), epochs=3, callbacks=[cp_cart])"
            ]
        },
        {
            "cell_type": "code",
            "execution_count": 8,
            "metadata": {},
            "outputs": [
                {
                    "name": "stdout",
                    "output_type": "stream",
                    "text": [
                        "Epoch 1/3\n",
                        "49942/49942 [==============================] - 203s 4ms/step - loss: 2.9744e-04 - root_mean_squared_error: 0.0172 - val_loss: 2.0575e-04 - val_root_mean_squared_error: 0.0143\n",
                        "Epoch 2/3\n",
                        "49942/49942 [==============================] - 191s 4ms/step - loss: 1.1644e-04 - root_mean_squared_error: 0.0108 - val_loss: 1.0233e-04 - val_root_mean_squared_error: 0.0101\n",
                        "Epoch 3/3\n",
                        "49942/49942 [==============================] - 216s 4ms/step - loss: 8.6748e-05 - root_mean_squared_error: 0.0093 - val_loss: 9.7305e-05 - val_root_mean_squared_error: 0.0099\n"
                    ]
                },
                {
                    "data": {
                        "text/plain": [
                            "<keras.callbacks.History at 0x206a064f4f0>"
                        ]
                    },
                    "execution_count": 8,
                    "metadata": {},
                    "output_type": "execute_result"
                }
            ],
            "source": [
                "\n",
                "model_remove_from_cart = clone_model(model)\n",
                "cp_remove_from_cart = ModelCheckpoint('../model/d-remove_from_cart.keras', save_best_only=True)\n",
                "model_remove_from_cart.compile(loss=MeanSquaredError(), optimizer=Adam(learning_rate=0.0001), metrics=[RootMeanSquaredError()])\n",
                "model_remove_from_cart.fit(X_train, y_train[:, 2], validation_data=(X_val, y_val[:, 2]), epochs=3, callbacks=[cp_remove_from_cart])"
            ]
        },
        {
            "cell_type": "code",
            "execution_count": 9,
            "metadata": {},
            "outputs": [
                {
                    "name": "stdout",
                    "output_type": "stream",
                    "text": [
                        "Epoch 1/3\n",
                        "49942/49942 [==============================] - 179s 4ms/step - loss: 8.3424e-05 - root_mean_squared_error: 0.0091 - val_loss: 5.7949e-05 - val_root_mean_squared_error: 0.0076\n",
                        "Epoch 2/3\n",
                        "49942/49942 [==============================] - 175s 4ms/step - loss: 8.3405e-05 - root_mean_squared_error: 0.0091 - val_loss: 5.7961e-05 - val_root_mean_squared_error: 0.0076\n",
                        "Epoch 3/3\n",
                        "49942/49942 [==============================] - 193s 4ms/step - loss: 8.3406e-05 - root_mean_squared_error: 0.0091 - val_loss: 5.8179e-05 - val_root_mean_squared_error: 0.0076\n"
                    ]
                },
                {
                    "data": {
                        "text/plain": [
                            "<keras.callbacks.History at 0x206a05c7c70>"
                        ]
                    },
                    "execution_count": 9,
                    "metadata": {},
                    "output_type": "execute_result"
                }
            ],
            "source": [
                "\n",
                "model_purchase = clone_model(model)\n",
                "cp_purchase = ModelCheckpoint('../model/b-purchase.keras', save_best_only=True)\n",
                "model_purchase.compile(loss=MeanSquaredError(), optimizer=Adam(learning_rate=0.0001), metrics=[RootMeanSquaredError()])\n",
                "model_purchase.fit(X_train, y_train[:, 3], validation_data=(X_val, y_val[:, 3]), epochs=3, callbacks=[cp_purchase])"
            ]
        }
    ],
    "metadata": {
        "kernelspec": {
            "display_name": "datn",
            "language": "python",
            "name": "python3"
        },
        "language_info": {
            "codemirror_mode": {
                "name": "ipython",
                "version": 3
            },
            "file_extension": ".py",
            "mimetype": "text/x-python",
            "name": "python",
            "nbconvert_exporter": "python",
            "pygments_lexer": "ipython3",
            "version": "3.9.19"
        }
    },
    "nbformat": 4,
    "nbformat_minor": 4
}
