{
 "cells": [
  {
   "cell_type": "code",
   "execution_count": 1,
   "metadata": {
    "metadata": {}
   },
   "outputs": [
    {
     "data": {
      "text/plain": [
       "True"
      ]
     },
     "execution_count": 1,
     "metadata": {},
     "output_type": "execute_result"
    }
   ],
   "source": [
    "%load_ext autoreload\n",
    "%autoreload 2\n",
    "\n",
    "from dotenv import load_dotenv\n",
    "import pandas as pd\n",
    "import os\n",
    "import sys\n",
    "import datetime\n",
    "\n",
    "root_path = os.path.abspath(os.path.join('..'))\n",
    "if root_path not in sys.path:\n",
    "    sys.path.append(root_path)\n",
    "    \n",
    "load_dotenv()"
   ]
  },
  {
   "cell_type": "code",
   "execution_count": 2,
   "metadata": {
    "metadata": {}
   },
   "outputs": [
    {
     "data": {
      "text/plain": [
       "('2.10.1', [])"
      ]
     },
     "execution_count": 2,
     "metadata": {},
     "output_type": "execute_result"
    }
   ],
   "source": [
    "import tensorflow as tf\n",
    "tf.__version__, tf.config.list_physical_devices('GPU')"
   ]
  },
  {
   "cell_type": "code",
   "execution_count": 3,
   "metadata": {
    "metadata": {}
   },
   "outputs": [
    {
     "data": {
      "text/plain": [
       "((1494497, 124), (1494497, 4), (683009, 124), (683009, 4))"
      ]
     },
     "execution_count": 3,
     "metadata": {},
     "output_type": "execute_result"
    }
   ],
   "source": [
    "from training.utils import date_range, df_to_X_y\n",
    "\n",
    "df_train = pd.concat([\n",
    "    pd.read_csv(f'../datasets/d{d.strftime(\"%Y-%m-%d\")}.csv') for d in date_range(\n",
    "        datetime.date(2019, 11, 1), \n",
    "        datetime.date(2020, 1, 15),\n",
    "        datetime.timedelta(days=1),\n",
    "    )\n",
    "])\n",
    "df_val = pd.concat([\n",
    "    pd.read_csv(f'../datasets/d{d.strftime(\"%Y-%m-%d\")}.csv') for d in date_range(\n",
    "        datetime.date(2020, 1, 15), \n",
    "        datetime.date(2020, 2, 15),\n",
    "        datetime.timedelta(days=1),\n",
    "    )\n",
    "])\n",
    "\n",
    "X_train, y_train = df_to_X_y(df_train)\n",
    "X_val, y_val = df_to_X_y(df_val)\n",
    "\n",
    "X_train.shape, y_train.shape, X_val.shape, y_val.shape"
   ]
  },
  {
   "cell_type": "code",
   "execution_count": 4,
   "metadata": {
    "metadata": {}
   },
   "outputs": [
    {
     "name": "stdout",
     "output_type": "stream",
     "text": [
      "Model: \"sequential\"\n",
      "_________________________________________________________________\n",
      " Layer (type)                Output Shape              Param #   \n",
      "=================================================================\n",
      " conv1d (Conv1D)             (None, 122, 64)           256       \n",
      "                                                                 \n",
      " flatten (Flatten)           (None, 7808)              0         \n",
      "                                                                 \n",
      " dense (Dense)               (None, 8)                 62472     \n",
      "                                                                 \n",
      " dense_1 (Dense)             (None, 1)                 9         \n",
      "                                                                 \n",
      "=================================================================\n",
      "Total params: 62,737\n",
      "Trainable params: 62,737\n",
      "Non-trainable params: 0\n",
      "_________________________________________________________________\n"
     ]
    }
   ],
   "source": [
    "from keras.models import Sequential, clone_model\n",
    "from keras.layers import *\n",
    "from keras.callbacks import ModelCheckpoint\n",
    "from keras.losses import MeanSquaredError\n",
    "from keras.metrics import RootMeanSquaredError\n",
    "from keras.optimizers import Adam\n",
    "\n",
    "\n",
    "model = Sequential()\n",
    "model.add(InputLayer((124, 1)))\n",
    "model.add(Conv1D(64, kernel_size=3, activation='relu'))\n",
    "model.add(Flatten())\n",
    "model.add(Dense(8, 'relu'))\n",
    "model.add(Dense(1, 'linear'))\n",
    "\n",
    "model.summary()"
   ]
  },
  {
   "cell_type": "code",
   "execution_count": 5,
   "metadata": {},
   "outputs": [
    {
     "name": "stdout",
     "output_type": "stream",
     "text": [
      "Epoch 1/10\n",
      "46704/46704 [==============================] - 175s 4ms/step - loss: 19.3391 - root_mean_squared_error: 4.3976 - val_loss: 80.7372 - val_root_mean_squared_error: 8.9854\n",
      "Epoch 2/10\n",
      "46704/46704 [==============================] - 161s 3ms/step - loss: 15.4077 - root_mean_squared_error: 3.9253 - val_loss: 74.4786 - val_root_mean_squared_error: 8.6301\n",
      "Epoch 3/10\n",
      "46704/46704 [==============================] - 161s 3ms/step - loss: 14.5758 - root_mean_squared_error: 3.8178 - val_loss: 68.8635 - val_root_mean_squared_error: 8.2984\n",
      "Epoch 4/10\n",
      "46704/46704 [==============================] - 157s 3ms/step - loss: 14.3259 - root_mean_squared_error: 3.7850 - val_loss: 86.2318 - val_root_mean_squared_error: 9.2861\n",
      "Epoch 5/10\n",
      "46704/46704 [==============================] - 170s 4ms/step - loss: 13.9673 - root_mean_squared_error: 3.7373 - val_loss: 83.4278 - val_root_mean_squared_error: 9.1339\n",
      "Epoch 6/10\n",
      "46704/46704 [==============================] - 177s 4ms/step - loss: 13.8094 - root_mean_squared_error: 3.7161 - val_loss: 72.1513 - val_root_mean_squared_error: 8.4942\n",
      "Epoch 7/10\n",
      "46704/46704 [==============================] - 165s 4ms/step - loss: 13.4656 - root_mean_squared_error: 3.6696 - val_loss: 75.7362 - val_root_mean_squared_error: 8.7027\n",
      "Epoch 8/10\n",
      "46704/46704 [==============================] - 164s 4ms/step - loss: 13.3321 - root_mean_squared_error: 3.6513 - val_loss: 85.7072 - val_root_mean_squared_error: 9.2578\n",
      "Epoch 9/10\n",
      "46704/46704 [==============================] - 154s 3ms/step - loss: 13.0962 - root_mean_squared_error: 3.6189 - val_loss: 54.1717 - val_root_mean_squared_error: 7.3601\n",
      "Epoch 10/10\n",
      "46704/46704 [==============================] - 166s 4ms/step - loss: 13.2519 - root_mean_squared_error: 3.6403 - val_loss: 79.2666 - val_root_mean_squared_error: 8.9032\n"
     ]
    }
   ],
   "source": [
    "model_view = clone_model(model)\n",
    "cp_view = ModelCheckpoint('../model/d-view.keras', save_best_only=True)\n",
    "model_view.compile(loss=MeanSquaredError(), optimizer=Adam(learning_rate=0.0001), metrics=[RootMeanSquaredError()])\n",
    "model_view.fit(X_train, y_train[:, 0], validation_data=(X_val, y_val), epochs=10, callbacks=[cp_view])\n",
    "model_view.save('../model/saved/d-view.keras')\n"
   ]
  },
  {
   "cell_type": "code",
   "execution_count": 6,
   "metadata": {},
   "outputs": [
    {
     "name": "stdout",
     "output_type": "stream",
     "text": [
      "Epoch 1/10\n",
      "46704/46704 [==============================] - 190s 4ms/step - loss: 8.6568 - root_mean_squared_error: 2.9422 - val_loss: 37.2984 - val_root_mean_squared_error: 6.1072\n",
      "Epoch 2/10\n",
      "46704/46704 [==============================] - 164s 4ms/step - loss: 7.9887 - root_mean_squared_error: 2.8264 - val_loss: 38.6631 - val_root_mean_squared_error: 6.2180\n",
      "Epoch 3/10\n",
      "46704/46704 [==============================] - 158s 3ms/step - loss: 7.6732 - root_mean_squared_error: 2.7700 - val_loss: 37.4212 - val_root_mean_squared_error: 6.1173\n",
      "Epoch 4/10\n",
      "46704/46704 [==============================] - 184s 4ms/step - loss: 7.5202 - root_mean_squared_error: 2.7423 - val_loss: 39.3478 - val_root_mean_squared_error: 6.2728\n",
      "Epoch 5/10\n",
      "46704/46704 [==============================] - 165s 4ms/step - loss: 7.4978 - root_mean_squared_error: 2.7382 - val_loss: 39.1054 - val_root_mean_squared_error: 6.2534\n",
      "Epoch 6/10\n",
      "46704/46704 [==============================] - 161s 3ms/step - loss: 7.3321 - root_mean_squared_error: 2.7078 - val_loss: 42.5335 - val_root_mean_squared_error: 6.5218\n",
      "Epoch 7/10\n",
      "46704/46704 [==============================] - 159s 3ms/step - loss: 7.3086 - root_mean_squared_error: 2.7034 - val_loss: 40.2031 - val_root_mean_squared_error: 6.3406\n",
      "Epoch 8/10\n",
      "46704/46704 [==============================] - 168s 4ms/step - loss: 7.2604 - root_mean_squared_error: 2.6945 - val_loss: 43.1082 - val_root_mean_squared_error: 6.5657\n",
      "Epoch 9/10\n",
      "46704/46704 [==============================] - 142s 3ms/step - loss: 7.2076 - root_mean_squared_error: 2.6847 - val_loss: 38.6620 - val_root_mean_squared_error: 6.2179\n",
      "Epoch 10/10\n",
      "46704/46704 [==============================] - 142s 3ms/step - loss: 7.1276 - root_mean_squared_error: 2.6697 - val_loss: 38.4613 - val_root_mean_squared_error: 6.2017\n"
     ]
    }
   ],
   "source": [
    "\n",
    "model_cart = clone_model(model)\n",
    "cp_cart = ModelCheckpoint('../model/d-cart.keras', save_best_only=True)\n",
    "model_cart.compile(loss=MeanSquaredError(), optimizer=Adam(learning_rate=0.0001), metrics=[RootMeanSquaredError()])\n",
    "model_cart.fit(X_train, y_train[:, 1], validation_data=(X_val, y_val), epochs=10, callbacks=[cp_cart])\n",
    "model_cart.save('../model/saved/d-cart.keras')\n"
   ]
  },
  {
   "cell_type": "code",
   "execution_count": 7,
   "metadata": {},
   "outputs": [
    {
     "name": "stdout",
     "output_type": "stream",
     "text": [
      "Epoch 1/10\n",
      "46704/46704 [==============================] - 165s 4ms/step - loss: 7.8477 - root_mean_squared_error: 2.8014 - val_loss: 36.8185 - val_root_mean_squared_error: 6.0678\n",
      "Epoch 2/10\n",
      "46704/46704 [==============================] - 177s 4ms/step - loss: 3.3842 - root_mean_squared_error: 1.8396 - val_loss: 38.2349 - val_root_mean_squared_error: 6.1834\n",
      "Epoch 3/10\n",
      "46704/46704 [==============================] - 164s 4ms/step - loss: 3.3136 - root_mean_squared_error: 1.8203 - val_loss: 37.8864 - val_root_mean_squared_error: 6.1552\n",
      "Epoch 4/10\n",
      "46704/46704 [==============================] - 163s 3ms/step - loss: 3.2586 - root_mean_squared_error: 1.8052 - val_loss: 36.6992 - val_root_mean_squared_error: 6.0580\n",
      "Epoch 5/10\n",
      "46704/46704 [==============================] - 175s 4ms/step - loss: 3.2142 - root_mean_squared_error: 1.7928 - val_loss: 36.2559 - val_root_mean_squared_error: 6.0213\n",
      "Epoch 6/10\n",
      "46704/46704 [==============================] - 176s 4ms/step - loss: 3.2062 - root_mean_squared_error: 1.7906 - val_loss: 36.6884 - val_root_mean_squared_error: 6.0571\n",
      "Epoch 7/10\n",
      "46704/46704 [==============================] - 168s 4ms/step - loss: 3.1858 - root_mean_squared_error: 1.7849 - val_loss: 36.1166 - val_root_mean_squared_error: 6.0097\n",
      "Epoch 8/10\n",
      "46704/46704 [==============================] - 172s 4ms/step - loss: 3.1768 - root_mean_squared_error: 1.7824 - val_loss: 36.6699 - val_root_mean_squared_error: 6.0556\n",
      "Epoch 9/10\n",
      "46704/46704 [==============================] - 154s 3ms/step - loss: 3.1610 - root_mean_squared_error: 1.7779 - val_loss: 36.3830 - val_root_mean_squared_error: 6.0318\n",
      "Epoch 10/10\n",
      "46704/46704 [==============================] - 154s 3ms/step - loss: 3.1527 - root_mean_squared_error: 1.7756 - val_loss: 37.2780 - val_root_mean_squared_error: 6.1056\n"
     ]
    }
   ],
   "source": [
    "\n",
    "model_remove_from_cart = clone_model(model)\n",
    "cp_remove_from_cart = ModelCheckpoint('../model/d-remove_from_cart.keras', save_best_only=True)\n",
    "model_remove_from_cart.compile(loss=MeanSquaredError(), optimizer=Adam(learning_rate=0.0001), metrics=[RootMeanSquaredError()])\n",
    "model_remove_from_cart.fit(X_train, y_train[:, 2], validation_data=(X_val, y_val), epochs=10, callbacks=[cp_remove_from_cart])\n",
    "model_remove_from_cart.save('../model/saved/d-remove_from_cart.keras')\n"
   ]
  },
  {
   "cell_type": "code",
   "execution_count": 8,
   "metadata": {},
   "outputs": [
    {
     "name": "stdout",
     "output_type": "stream",
     "text": [
      "Epoch 1/10\n",
      "46704/46704 [==============================] - 151s 3ms/step - loss: 0.9329 - root_mean_squared_error: 0.9659 - val_loss: 41.9301 - val_root_mean_squared_error: 6.4753\n",
      "Epoch 2/10\n",
      "46704/46704 [==============================] - 144s 3ms/step - loss: 0.7133 - root_mean_squared_error: 0.8446 - val_loss: 41.3955 - val_root_mean_squared_error: 6.4339\n",
      "Epoch 3/10\n",
      "46704/46704 [==============================] - 141s 3ms/step - loss: 0.6988 - root_mean_squared_error: 0.8359 - val_loss: 42.6344 - val_root_mean_squared_error: 6.5295\n",
      "Epoch 4/10\n",
      "46704/46704 [==============================] - 144s 3ms/step - loss: 0.6907 - root_mean_squared_error: 0.8311 - val_loss: 42.5209 - val_root_mean_squared_error: 6.5208\n",
      "Epoch 5/10\n",
      "46704/46704 [==============================] - 143s 3ms/step - loss: 0.6841 - root_mean_squared_error: 0.8271 - val_loss: 44.6612 - val_root_mean_squared_error: 6.6829\n",
      "Epoch 6/10\n",
      "46704/46704 [==============================] - 141s 3ms/step - loss: 0.6833 - root_mean_squared_error: 0.8266 - val_loss: 43.0793 - val_root_mean_squared_error: 6.5635\n",
      "Epoch 7/10\n",
      "46704/46704 [==============================] - 143s 3ms/step - loss: 0.6765 - root_mean_squared_error: 0.8225 - val_loss: 42.7683 - val_root_mean_squared_error: 6.5398\n",
      "Epoch 8/10\n",
      "46704/46704 [==============================] - 143s 3ms/step - loss: 0.6748 - root_mean_squared_error: 0.8215 - val_loss: 43.2163 - val_root_mean_squared_error: 6.5739\n",
      "Epoch 9/10\n",
      "46704/46704 [==============================] - 143s 3ms/step - loss: 0.6707 - root_mean_squared_error: 0.8190 - val_loss: 42.2939 - val_root_mean_squared_error: 6.5034\n",
      "Epoch 10/10\n",
      "46704/46704 [==============================] - 142s 3ms/step - loss: 0.6684 - root_mean_squared_error: 0.8176 - val_loss: 42.3959 - val_root_mean_squared_error: 6.5112\n"
     ]
    }
   ],
   "source": [
    "\n",
    "model_purchase = clone_model(model)\n",
    "cp_purchase = ModelCheckpoint('../model/d-purchase.keras', save_best_only=True)\n",
    "model_purchase.compile(loss=MeanSquaredError(), optimizer=Adam(learning_rate=0.0001), metrics=[RootMeanSquaredError()])\n",
    "model_purchase.fit(X_train, y_train[:, 3], validation_data=(X_val, y_val), epochs=10, callbacks=[cp_purchase])\n",
    "model_purchase.save('../model/saved/d-purchase.keras')\n"
   ]
  },
  {
   "cell_type": "code",
   "execution_count": null,
   "metadata": {
    "metadata": {}
   },
   "outputs": [],
   "source": []
  }
 ],
 "metadata": {
  "kernelspec": {
   "display_name": "datn",
   "language": "python",
   "name": "python3"
  },
  "language_info": {
   "codemirror_mode": {
    "name": "ipython",
    "version": 3
   },
   "file_extension": ".py",
   "mimetype": "text/x-python",
   "name": "python",
   "nbconvert_exporter": "python",
   "pygments_lexer": "ipython3",
   "version": "3.9.19"
  }
 },
 "nbformat": 4,
 "nbformat_minor": 4
}
