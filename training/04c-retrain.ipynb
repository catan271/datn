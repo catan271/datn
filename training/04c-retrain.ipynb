{
    "cells": [
        {
            "cell_type": "code",
            "execution_count": 1,
            "metadata": {},
            "outputs": [
                {
                    "data": {
                        "text/plain": [
                            "True"
                        ]
                    },
                    "execution_count": 1,
                    "metadata": {},
                    "output_type": "execute_result"
                }
            ],
            "source": [
                "%load_ext autoreload\n",
                "%autoreload 2\n",
                "\n",
                "from dotenv import load_dotenv\n",
                "import pandas as pd\n",
                "import numpy as np\n",
                "import os\n",
                "import sys\n",
                "import datetime\n",
                "\n",
                "root_path = os.path.abspath(os.path.join('..'))\n",
                "if root_path not in sys.path:\n",
                "    sys.path.append(root_path)\n",
                "    \n",
                "load_dotenv()"
            ]
        },
        {
            "cell_type": "code",
            "execution_count": 2,
            "metadata": {},
            "outputs": [
                {
                    "data": {
                        "text/plain": [
                            "((1598125, 1, 4),\n",
                            " (1598125, 30, 4),\n",
                            " (1598125, 4),\n",
                            " (263845, 1, 4),\n",
                            " (263845, 30, 4),\n",
                            " (263845, 4))"
                        ]
                    },
                    "execution_count": 2,
                    "metadata": {},
                    "output_type": "execute_result"
                }
            ],
            "source": [
                "# load datasets\n",
                "from utils.utils import date_range, preprocess_c\n",
                "\n",
                "df_train = pd.concat([\n",
                "    pd.read_csv(f'../datasets/d{d.strftime(\"%Y-%m-%d\")}.csv') for d in date_range(\n",
                "        datetime.date(2019, 11, 1), \n",
                "        datetime.date(2020, 2, 1),\n",
                "        datetime.timedelta(days=1),\n",
                "    )\n",
                "])\n",
                "df_val = pd.concat([\n",
                "    pd.read_csv(f'../datasets/d{d.strftime(\"%Y-%m-%d\")}.csv') for d in date_range(\n",
                "        datetime.date(2020, 2, 1), \n",
                "        datetime.date(2020, 2, 15),\n",
                "        datetime.timedelta(days=1),\n",
                "    )\n",
                "])\n",
                "\n",
                "X1_train, X2_train, y_train = preprocess_c(df_train)\n",
                "X1_val, X2_val, y_val = preprocess_c(df_val)\n",
                "\n",
                "X1_train.shape, X2_train.shape, y_train.shape, X1_val.shape, X2_val.shape, y_val.shape"
            ]
        },
        {
            "cell_type": "code",
            "execution_count": 3,
            "metadata": {},
            "outputs": [],
            "source": [
                "from keras.models import load_model, Model\n",
                "from keras.utils import plot_model\n",
                "from keras.callbacks import ModelCheckpoint\n",
                "from keras.losses import MeanSquaredError\n",
                "from keras.metrics import RootMeanSquaredError\n",
                "from keras.optimizers import Adam"
            ]
        },
        {
            "cell_type": "code",
            "execution_count": 4,
            "metadata": {},
            "outputs": [
                {
                    "name": "stdout",
                    "output_type": "stream",
                    "text": [
                        "Epoch 1/3\n",
                        "49942/49942 [==============================] - 130s 3ms/step - loss: 1.0846e-06 - root_mean_squared_error: 0.0010 - val_loss: 6.2182e-06 - val_root_mean_squared_error: 0.0025\n",
                        "Epoch 2/3\n",
                        "49942/49942 [==============================] - 137s 3ms/step - loss: 1.0664e-06 - root_mean_squared_error: 0.0010 - val_loss: 6.2054e-06 - val_root_mean_squared_error: 0.0025\n",
                        "Epoch 3/3\n",
                        "49942/49942 [==============================] - 137s 3ms/step - loss: 1.0462e-06 - root_mean_squared_error: 0.0010 - val_loss: 5.7527e-06 - val_root_mean_squared_error: 0.0024\n"
                    ]
                },
                {
                    "data": {
                        "text/plain": [
                            "<keras.callbacks.History at 0x15bbe8739d0>"
                        ]
                    },
                    "execution_count": 4,
                    "metadata": {},
                    "output_type": "execute_result"
                }
            ],
            "source": [
                "# retrain view\n",
                "model_view: Model = load_model('../model/c-view.keras')\n",
                "cp_view = ModelCheckpoint('../model/c-view.keras', save_best_only=True)\n",
                "model_view.compile(loss=MeanSquaredError(), optimizer=Adam(learning_rate=0.0001), metrics=[RootMeanSquaredError()])\n",
                "model_view.fit([X1_train, X2_train], y_train[:, 0], validation_data=([X1_val, X2_val], y_val[:, 0]), epochs=3, callbacks=[cp_view])"
            ]
        },
        {
            "cell_type": "code",
            "execution_count": 5,
            "metadata": {},
            "outputs": [
                {
                    "name": "stdout",
                    "output_type": "stream",
                    "text": [
                        "Epoch 1/3\n",
                        "49942/49942 [==============================] - 130s 3ms/step - loss: 1.5385e-06 - root_mean_squared_error: 0.0012 - val_loss: 6.5734e-06 - val_root_mean_squared_error: 0.0026\n",
                        "Epoch 2/3\n",
                        "49942/49942 [==============================] - 127s 3ms/step - loss: 1.2113e-06 - root_mean_squared_error: 0.0011 - val_loss: 6.2182e-06 - val_root_mean_squared_error: 0.0025\n",
                        "Epoch 3/3\n",
                        "49942/49942 [==============================] - 128s 3ms/step - loss: 1.1419e-06 - root_mean_squared_error: 0.0011 - val_loss: 6.0969e-06 - val_root_mean_squared_error: 0.0025\n"
                    ]
                },
                {
                    "data": {
                        "text/plain": [
                            "<keras.callbacks.History at 0x15bc8f36f10>"
                        ]
                    },
                    "execution_count": 5,
                    "metadata": {},
                    "output_type": "execute_result"
                }
            ],
            "source": [
                "# retrain cart\n",
                "model_cart: Model = load_model('../model/c-cart.keras')\n",
                "cp_cart = ModelCheckpoint('../model/c-cart.keras', save_best_only=True)\n",
                "model_cart.compile(loss=MeanSquaredError(), optimizer=Adam(learning_rate=0.0001), metrics=[RootMeanSquaredError()])\n",
                "model_cart.fit([X1_train, X2_train], y_train[:, 1], validation_data=([X1_val, X2_val], y_val[:, 0]), epochs=3, callbacks=[cp_cart])"
            ]
        },
        {
            "cell_type": "code",
            "execution_count": 6,
            "metadata": {},
            "outputs": [
                {
                    "name": "stdout",
                    "output_type": "stream",
                    "text": [
                        "Epoch 1/3\n",
                        "49942/49942 [==============================] - 130s 3ms/step - loss: 1.9319e-06 - root_mean_squared_error: 0.0014 - val_loss: 6.2211e-06 - val_root_mean_squared_error: 0.0025\n",
                        "Epoch 2/3\n",
                        "49942/49942 [==============================] - 120s 2ms/step - loss: 1.1639e-06 - root_mean_squared_error: 0.0011 - val_loss: 6.1053e-06 - val_root_mean_squared_error: 0.0025\n",
                        "Epoch 3/3\n",
                        "49942/49942 [==============================] - 127s 3ms/step - loss: 1.1039e-06 - root_mean_squared_error: 0.0011 - val_loss: 6.0114e-06 - val_root_mean_squared_error: 0.0025\n"
                    ]
                },
                {
                    "data": {
                        "text/plain": [
                            "<keras.callbacks.History at 0x15bc8e00700>"
                        ]
                    },
                    "execution_count": 6,
                    "metadata": {},
                    "output_type": "execute_result"
                }
            ],
            "source": [
                "# retrain remove_from_cart\n",
                "model_remove_from_cart: Model = load_model('../model/c-remove_from_cart.keras')\n",
                "cp_remove_from_cart = ModelCheckpoint('../model/c-remove_from_cart.keras', save_best_only=True)\n",
                "model_remove_from_cart.compile(loss=MeanSquaredError(), optimizer=Adam(learning_rate=0.0001), metrics=[RootMeanSquaredError()])\n",
                "model_remove_from_cart.fit([X1_train, X2_train], y_train[:, 2], validation_data=([X1_val, X2_val], y_val[:, 0]), epochs=3, callbacks=[cp_remove_from_cart])"
            ]
        },
        {
            "cell_type": "code",
            "execution_count": 7,
            "metadata": {},
            "outputs": [
                {
                    "name": "stdout",
                    "output_type": "stream",
                    "text": [
                        "Epoch 1/3\n",
                        "49942/49942 [==============================] - 130s 3ms/step - loss: 1.8528e-06 - root_mean_squared_error: 0.0014 - val_loss: 6.6739e-06 - val_root_mean_squared_error: 0.0026\n",
                        "Epoch 2/3\n",
                        "49942/49942 [==============================] - 127s 3ms/step - loss: 1.2029e-06 - root_mean_squared_error: 0.0011 - val_loss: 6.2830e-06 - val_root_mean_squared_error: 0.0025\n",
                        "Epoch 3/3\n",
                        "49942/49942 [==============================] - 128s 3ms/step - loss: 1.1256e-06 - root_mean_squared_error: 0.0011 - val_loss: 6.1904e-06 - val_root_mean_squared_error: 0.0025\n"
                    ]
                },
                {
                    "data": {
                        "text/plain": [
                            "<keras.callbacks.History at 0x15bc8e56460>"
                        ]
                    },
                    "execution_count": 7,
                    "metadata": {},
                    "output_type": "execute_result"
                }
            ],
            "source": [
                "# retrain purchase\n",
                "model_purchase: Model = load_model('../model/c-purchase.keras')\n",
                "cp_purchase = ModelCheckpoint('../model/c-purchase.keras', save_best_only=True)\n",
                "model_purchase.compile(loss=MeanSquaredError(), optimizer=Adam(learning_rate=0.0001), metrics=[RootMeanSquaredError()])\n",
                "model_purchase.fit([X1_train, X2_train], y_train[:, 3], validation_data=([X1_val, X2_val], y_val[:, 0]), epochs=3, callbacks=[cp_purchase])"
            ]
        }
    ],
    "metadata": {
        "kernelspec": {
            "display_name": "datn2",
            "language": "python",
            "name": "python3"
        },
        "language_info": {
            "codemirror_mode": {
                "name": "ipython",
                "version": 3
            },
            "file_extension": ".py",
            "mimetype": "text/x-python",
            "name": "python",
            "nbconvert_exporter": "python",
            "pygments_lexer": "ipython3",
            "version": "3.9.19"
        }
    },
    "nbformat": 4,
    "nbformat_minor": 2
}
