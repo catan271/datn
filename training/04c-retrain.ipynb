{
    "cells": [
        {
            "cell_type": "code",
            "execution_count": 1,
            "metadata": {},
            "outputs": [
                {
                    "data": {
                        "text/plain": [
                            "True"
                        ]
                    },
                    "execution_count": 1,
                    "metadata": {},
                    "output_type": "execute_result"
                }
            ],
            "source": [
                "%load_ext autoreload\n",
                "%autoreload 2\n",
                "\n",
                "from dotenv import load_dotenv\n",
                "import pandas as pd\n",
                "import numpy as np\n",
                "import os\n",
                "import sys\n",
                "import datetime\n",
                "\n",
                "root_path = os.path.abspath(os.path.join('..'))\n",
                "if root_path not in sys.path:\n",
                "    sys.path.append(root_path)\n",
                "    \n",
                "load_dotenv()"
            ]
        },
        {
            "cell_type": "code",
            "execution_count": 2,
            "metadata": {},
            "outputs": [
                {
                    "data": {
                        "text/plain": [
                            "((1598125, 1, 3),\n",
                            " (1598125, 14, 3),\n",
                            " (1598125, 3),\n",
                            " (263845, 1, 3),\n",
                            " (263845, 14, 3),\n",
                            " (263845, 3))"
                        ]
                    },
                    "execution_count": 2,
                    "metadata": {},
                    "output_type": "execute_result"
                }
            ],
            "source": [
                "# load datasets\n",
                "from utils.utils import date_range, preprocess_c\n",
                "\n",
                "df_train = pd.concat([\n",
                "    pd.read_csv(f'../datasets/d{d.strftime(\"%Y-%m-%d\")}.csv') for d in date_range(\n",
                "        datetime.date(2019, 11, 1), \n",
                "        datetime.date(2020, 2, 1),\n",
                "        datetime.timedelta(days=1),\n",
                "    )\n",
                "])\n",
                "df_val = pd.concat([\n",
                "    pd.read_csv(f'../datasets/d{d.strftime(\"%Y-%m-%d\")}.csv') for d in date_range(\n",
                "        datetime.date(2020, 2, 1), \n",
                "        datetime.date(2020, 2, 15),\n",
                "        datetime.timedelta(days=1),\n",
                "    )\n",
                "])\n",
                "\n",
                "X1_train, X2_train, y_train = preprocess_c(df_train)\n",
                "X1_val, X2_val, y_val = preprocess_c(df_val)\n",
                "\n",
                "X1_train.shape, X2_train.shape, y_train.shape, X1_val.shape, X2_val.shape, y_val.shape"
            ]
        },
        {
            "cell_type": "code",
            "execution_count": 3,
            "metadata": {},
            "outputs": [],
            "source": [
                "from keras.models import load_model, Model\n",
                "from keras.utils import plot_model\n",
                "from keras.callbacks import ModelCheckpoint\n",
                "from keras.losses import MeanSquaredError\n",
                "from keras.metrics import RootMeanSquaredError\n",
                "from keras.optimizers import Adam"
            ]
        },
        {
            "cell_type": "code",
            "execution_count": 4,
            "metadata": {},
            "outputs": [
                {
                    "name": "stdout",
                    "output_type": "stream",
                    "text": [
                        "Epoch 1/10\n",
                        "49942/49942 [==============================] - 85s 2ms/step - loss: 2.0695e-06 - root_mean_squared_error: 0.0014 - val_loss: 7.2352e-06 - val_root_mean_squared_error: 0.0027\n",
                        "Epoch 2/10\n",
                        "49942/49942 [==============================] - 93s 2ms/step - loss: 1.9794e-06 - root_mean_squared_error: 0.0014 - val_loss: 6.9384e-06 - val_root_mean_squared_error: 0.0026\n",
                        "Epoch 3/10\n",
                        "49942/49942 [==============================] - 85s 2ms/step - loss: 1.8781e-06 - root_mean_squared_error: 0.0014 - val_loss: 6.6649e-06 - val_root_mean_squared_error: 0.0026\n",
                        "Epoch 4/10\n",
                        "49942/49942 [==============================] - 85s 2ms/step - loss: 1.8366e-06 - root_mean_squared_error: 0.0014 - val_loss: 7.0932e-06 - val_root_mean_squared_error: 0.0027\n",
                        "Epoch 5/10\n",
                        "49942/49942 [==============================] - 87s 2ms/step - loss: 1.7848e-06 - root_mean_squared_error: 0.0013 - val_loss: 8.1543e-06 - val_root_mean_squared_error: 0.0029\n",
                        "Epoch 6/10\n",
                        "49942/49942 [==============================] - 88s 2ms/step - loss: 1.6745e-06 - root_mean_squared_error: 0.0013 - val_loss: 6.5992e-06 - val_root_mean_squared_error: 0.0026\n",
                        "Epoch 7/10\n",
                        "49942/49942 [==============================] - 87s 2ms/step - loss: 1.7004e-06 - root_mean_squared_error: 0.0013 - val_loss: 6.5957e-06 - val_root_mean_squared_error: 0.0026\n",
                        "Epoch 8/10\n",
                        "49942/49942 [==============================] - 87s 2ms/step - loss: 1.6159e-06 - root_mean_squared_error: 0.0013 - val_loss: 6.4721e-06 - val_root_mean_squared_error: 0.0025\n",
                        "Epoch 9/10\n",
                        "49942/49942 [==============================] - 87s 2ms/step - loss: 1.5851e-06 - root_mean_squared_error: 0.0013 - val_loss: 6.4619e-06 - val_root_mean_squared_error: 0.0025\n",
                        "Epoch 10/10\n",
                        "49942/49942 [==============================] - 88s 2ms/step - loss: 1.5775e-06 - root_mean_squared_error: 0.0013 - val_loss: 6.7839e-06 - val_root_mean_squared_error: 0.0026\n"
                    ]
                },
                {
                    "data": {
                        "text/plain": [
                            "<keras.callbacks.History at 0x22ab91bd070>"
                        ]
                    },
                    "execution_count": 4,
                    "metadata": {},
                    "output_type": "execute_result"
                }
            ],
            "source": [
                "# retrain view\n",
                "model_view: Model = load_model('../model/c-view.keras')\n",
                "cp_view = ModelCheckpoint('../model/c-view.keras', save_best_only=True)\n",
                "model_view.compile(loss=MeanSquaredError(), optimizer=Adam(learning_rate=0.0001), metrics=[RootMeanSquaredError()])\n",
                "model_view.fit([X1_train, X2_train], y_train[:, 0], validation_data=([X1_val, X2_val], y_val[:, 0]), epochs=10, callbacks=[cp_view])"
            ]
        },
        {
            "cell_type": "code",
            "execution_count": 5,
            "metadata": {},
            "outputs": [
                {
                    "name": "stdout",
                    "output_type": "stream",
                    "text": [
                        "Epoch 1/10\n",
                        "49942/49942 [==============================] - 88s 2ms/step - loss: 9.9787e-06 - root_mean_squared_error: 0.0032 - val_loss: 1.3923e-05 - val_root_mean_squared_error: 0.0037\n",
                        "Epoch 2/10\n",
                        "49942/49942 [==============================] - 87s 2ms/step - loss: 9.8237e-06 - root_mean_squared_error: 0.0031 - val_loss: 1.1431e-05 - val_root_mean_squared_error: 0.0034\n",
                        "Epoch 3/10\n",
                        "49942/49942 [==============================] - 87s 2ms/step - loss: 9.6502e-06 - root_mean_squared_error: 0.0031 - val_loss: 1.0384e-05 - val_root_mean_squared_error: 0.0032\n",
                        "Epoch 4/10\n",
                        "49942/49942 [==============================] - 87s 2ms/step - loss: 9.4613e-06 - root_mean_squared_error: 0.0031 - val_loss: 1.1035e-05 - val_root_mean_squared_error: 0.0033\n",
                        "Epoch 5/10\n",
                        "49942/49942 [==============================] - 86s 2ms/step - loss: 9.4585e-06 - root_mean_squared_error: 0.0031 - val_loss: 1.0341e-05 - val_root_mean_squared_error: 0.0032\n",
                        "Epoch 6/10\n",
                        "49942/49942 [==============================] - 86s 2ms/step - loss: 9.2781e-06 - root_mean_squared_error: 0.0030 - val_loss: 1.1007e-05 - val_root_mean_squared_error: 0.0033\n",
                        "Epoch 7/10\n",
                        "49942/49942 [==============================] - 83s 2ms/step - loss: 9.1767e-06 - root_mean_squared_error: 0.0030 - val_loss: 1.0424e-05 - val_root_mean_squared_error: 0.0032\n",
                        "Epoch 8/10\n",
                        "49942/49942 [==============================] - 84s 2ms/step - loss: 9.1221e-06 - root_mean_squared_error: 0.0030 - val_loss: 1.0327e-05 - val_root_mean_squared_error: 0.0032\n",
                        "Epoch 9/10\n",
                        "49942/49942 [==============================] - 84s 2ms/step - loss: 9.0301e-06 - root_mean_squared_error: 0.0030 - val_loss: 1.0527e-05 - val_root_mean_squared_error: 0.0032\n",
                        "Epoch 10/10\n",
                        "49942/49942 [==============================] - 84s 2ms/step - loss: 9.0033e-06 - root_mean_squared_error: 0.0030 - val_loss: 1.2631e-05 - val_root_mean_squared_error: 0.0036\n"
                    ]
                },
                {
                    "data": {
                        "text/plain": [
                            "<keras.callbacks.History at 0x22abad25cd0>"
                        ]
                    },
                    "execution_count": 5,
                    "metadata": {},
                    "output_type": "execute_result"
                }
            ],
            "source": [
                "# retrain cart\n",
                "model_cart: Model = load_model('../model/c-cart.keras')\n",
                "cp_cart = ModelCheckpoint('../model/c-cart.keras', save_best_only=True)\n",
                "model_cart.compile(loss=MeanSquaredError(), optimizer=Adam(learning_rate=0.0001), metrics=[RootMeanSquaredError()])\n",
                "model_cart.fit([X1_train, X2_train], y_train[:, 1], validation_data=([X1_val, X2_val], y_val[:, 1]), epochs=10, callbacks=[cp_cart])"
            ]
        },
        {
            "cell_type": "code",
            "execution_count": 6,
            "metadata": {},
            "outputs": [
                {
                    "name": "stdout",
                    "output_type": "stream",
                    "text": [
                        "Epoch 1/10\n",
                        "49942/49942 [==============================] - 86s 2ms/step - loss: 3.7791e-05 - root_mean_squared_error: 0.0061 - val_loss: 2.5931e-05 - val_root_mean_squared_error: 0.0051\n",
                        "Epoch 2/10\n",
                        "49942/49942 [==============================] - 84s 2ms/step - loss: 3.7083e-05 - root_mean_squared_error: 0.0061 - val_loss: 2.5653e-05 - val_root_mean_squared_error: 0.0051\n",
                        "Epoch 3/10\n",
                        "49942/49942 [==============================] - 85s 2ms/step - loss: 3.6665e-05 - root_mean_squared_error: 0.0061 - val_loss: 3.5247e-05 - val_root_mean_squared_error: 0.0059\n",
                        "Epoch 4/10\n",
                        "49942/49942 [==============================] - 84s 2ms/step - loss: 3.6077e-05 - root_mean_squared_error: 0.0060 - val_loss: 2.6202e-05 - val_root_mean_squared_error: 0.0051\n",
                        "Epoch 5/10\n",
                        "49942/49942 [==============================] - 88s 2ms/step - loss: 3.5988e-05 - root_mean_squared_error: 0.0060 - val_loss: 2.5276e-05 - val_root_mean_squared_error: 0.0050\n",
                        "Epoch 6/10\n",
                        "49942/49942 [==============================] - 98s 2ms/step - loss: 3.5463e-05 - root_mean_squared_error: 0.0060 - val_loss: 2.6373e-05 - val_root_mean_squared_error: 0.0051\n",
                        "Epoch 7/10\n",
                        "49942/49942 [==============================] - 95s 2ms/step - loss: 3.5182e-05 - root_mean_squared_error: 0.0059 - val_loss: 3.2994e-05 - val_root_mean_squared_error: 0.0057\n",
                        "Epoch 8/10\n",
                        "49942/49942 [==============================] - 87s 2ms/step - loss: 3.4998e-05 - root_mean_squared_error: 0.0059 - val_loss: 2.7227e-05 - val_root_mean_squared_error: 0.0052\n",
                        "Epoch 9/10\n",
                        "49942/49942 [==============================] - 84s 2ms/step - loss: 3.4719e-05 - root_mean_squared_error: 0.0059 - val_loss: 2.5363e-05 - val_root_mean_squared_error: 0.0050\n",
                        "Epoch 10/10\n",
                        "49942/49942 [==============================] - 85s 2ms/step - loss: 3.4589e-05 - root_mean_squared_error: 0.0059 - val_loss: 2.5258e-05 - val_root_mean_squared_error: 0.0050\n"
                    ]
                },
                {
                    "data": {
                        "text/plain": [
                            "<keras.callbacks.History at 0x22abb453310>"
                        ]
                    },
                    "execution_count": 6,
                    "metadata": {},
                    "output_type": "execute_result"
                }
            ],
            "source": [
                "# retrain purchase\n",
                "model_purchase: Model = load_model('../model/c-purchase.keras')\n",
                "cp_purchase = ModelCheckpoint('../model/c-purchase.keras', save_best_only=True)\n",
                "model_purchase.compile(loss=MeanSquaredError(), optimizer=Adam(learning_rate=0.0001), metrics=[RootMeanSquaredError()])\n",
                "model_purchase.fit([X1_train, X2_train], y_train[:, 2], validation_data=([X1_val, X2_val], y_val[:, 2]), epochs=10, callbacks=[cp_purchase])"
            ]
        }
    ],
    "metadata": {
        "kernelspec": {
            "display_name": "datn2",
            "language": "python",
            "name": "python3"
        },
        "language_info": {
            "codemirror_mode": {
                "name": "ipython",
                "version": 3
            },
            "file_extension": ".py",
            "mimetype": "text/x-python",
            "name": "python",
            "nbconvert_exporter": "python",
            "pygments_lexer": "ipython3",
            "version": "3.9.19"
        }
    },
    "nbformat": 4,
    "nbformat_minor": 2
}
