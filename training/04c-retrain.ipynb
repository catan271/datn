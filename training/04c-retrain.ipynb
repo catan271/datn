{
    "cells": [
        {
            "cell_type": "code",
            "execution_count": 1,
            "metadata": {},
            "outputs": [
                {
                    "data": {
                        "text/plain": [
                            "True"
                        ]
                    },
                    "execution_count": 1,
                    "metadata": {},
                    "output_type": "execute_result"
                }
            ],
            "source": [
                "%load_ext autoreload\n",
                "%autoreload 2\n",
                "\n",
                "from dotenv import load_dotenv\n",
                "import pandas as pd\n",
                "import numpy as np\n",
                "import os\n",
                "import sys\n",
                "import datetime\n",
                "\n",
                "root_path = os.path.abspath(os.path.join('..'))\n",
                "if root_path not in sys.path:\n",
                "    sys.path.append(root_path)\n",
                "    \n",
                "load_dotenv()"
            ]
        },
        {
            "cell_type": "code",
            "execution_count": 2,
            "metadata": {},
            "outputs": [
                {
                    "data": {
                        "text/plain": [
                            "((1598125, 1, 4),\n",
                            " (1598125, 30, 4),\n",
                            " (1598125, 4),\n",
                            " (263845, 1, 4),\n",
                            " (263845, 30, 4),\n",
                            " (263845, 4))"
                        ]
                    },
                    "execution_count": 2,
                    "metadata": {},
                    "output_type": "execute_result"
                }
            ],
            "source": [
                "# load datasets\n",
                "from utils.utils import date_range, preprocess_c\n",
                "\n",
                "df_train = pd.concat([\n",
                "    pd.read_csv(f'../datasets/d{d.strftime(\"%Y-%m-%d\")}.csv') for d in date_range(\n",
                "        datetime.date(2019, 11, 1), \n",
                "        datetime.date(2020, 2, 1),\n",
                "        datetime.timedelta(days=1),\n",
                "    )\n",
                "])\n",
                "df_val = pd.concat([\n",
                "    pd.read_csv(f'../datasets/d{d.strftime(\"%Y-%m-%d\")}.csv') for d in date_range(\n",
                "        datetime.date(2020, 2, 1), \n",
                "        datetime.date(2020, 2, 15),\n",
                "        datetime.timedelta(days=1),\n",
                "    )\n",
                "])\n",
                "\n",
                "X1_train, X2_train, y_train = preprocess_c(df_train)\n",
                "X1_val, X2_val, y_val = preprocess_c(df_val)\n",
                "\n",
                "X1_train.shape, X2_train.shape, y_train.shape, X1_val.shape, X2_val.shape, y_val.shape"
            ]
        },
        {
            "cell_type": "code",
            "execution_count": 3,
            "metadata": {},
            "outputs": [],
            "source": [
                "from keras.models import load_model, Model\n",
                "from keras.utils import plot_model\n",
                "from keras.callbacks import ModelCheckpoint\n",
                "from keras.losses import MeanSquaredError\n",
                "from keras.metrics import RootMeanSquaredError\n",
                "from keras.optimizers import Adam"
            ]
        },
        {
            "cell_type": "code",
            "execution_count": 4,
            "metadata": {},
            "outputs": [
                {
                    "name": "stdout",
                    "output_type": "stream",
                    "text": [
                        "49942/49942 [==============================] - 137s 3ms/step - loss: 5.9658e-06 - root_mean_squared_error: 0.0024 - val_loss: 1.1885e-05 - val_root_mean_squared_error: 0.0034\n"
                    ]
                },
                {
                    "data": {
                        "text/plain": [
                            "<keras.callbacks.History at 0x2c28f8a5c10>"
                        ]
                    },
                    "execution_count": 4,
                    "metadata": {},
                    "output_type": "execute_result"
                }
            ],
            "source": [
                "# retrain view\n",
                "model_view: Model = load_model('../model/c-view.keras')\n",
                "cp_view = ModelCheckpoint('../model/c-view.keras', save_best_only=True)\n",
                "model_view.compile(loss=MeanSquaredError(), optimizer=Adam(learning_rate=0.0001), metrics=[RootMeanSquaredError()])\n",
                "model_view.fit([X1_train, X2_train], y_train[:, 0], validation_data=([X1_val, X2_val], y_val[:, 0]), epochs=10, callbacks=[cp_view])"
            ]
        },
        {
            "cell_type": "code",
            "execution_count": 5,
            "metadata": {},
            "outputs": [
                {
                    "name": "stdout",
                    "output_type": "stream",
                    "text": [
                        "49942/49942 [==============================] - 136s 3ms/step - loss: 2.6611e-05 - root_mean_squared_error: 0.0052 - val_loss: 1.9734e-05 - val_root_mean_squared_error: 0.0044\n"
                    ]
                },
                {
                    "data": {
                        "text/plain": [
                            "<keras.callbacks.History at 0x2c28fdb4430>"
                        ]
                    },
                    "execution_count": 5,
                    "metadata": {},
                    "output_type": "execute_result"
                }
            ],
            "source": [
                "# retrain cart\n",
                "model_cart: Model = load_model('../model/c-cart.keras')\n",
                "cp_cart = ModelCheckpoint('../model/c-cart.keras', save_best_only=True)\n",
                "model_cart.compile(loss=MeanSquaredError(), optimizer=Adam(learning_rate=0.0001), metrics=[RootMeanSquaredError()])\n",
                "model_cart.fit([X1_train, X2_train], y_train[:, 1], validation_data=([X1_val, X2_val], y_val[:, 1]), epochs=10, callbacks=[cp_cart])"
            ]
        },
        {
            "cell_type": "code",
            "execution_count": 7,
            "metadata": {},
            "outputs": [
                {
                    "name": "stdout",
                    "output_type": "stream",
                    "text": [
                        "49942/49942 [==============================] - 141s 3ms/step - loss: 4.6328e-05 - root_mean_squared_error: 0.0068 - val_loss: 2.1020e-05 - val_root_mean_squared_error: 0.0046\n"
                    ]
                },
                {
                    "data": {
                        "text/plain": [
                            "<keras.callbacks.History at 0x2c28fecbbb0>"
                        ]
                    },
                    "execution_count": 7,
                    "metadata": {},
                    "output_type": "execute_result"
                }
            ],
            "source": [
                "# retrain purchase\n",
                "model_purchase: Model = load_model('../model/c-purchase.keras')\n",
                "cp_purchase = ModelCheckpoint('../model/c-purchase.keras', save_best_only=True)\n",
                "model_purchase.compile(loss=MeanSquaredError(), optimizer=Adam(learning_rate=0.0001), metrics=[RootMeanSquaredError()])\n",
                "model_purchase.fit([X1_train, X2_train], y_train[:, 2], validation_data=([X1_val, X2_val], y_val[:, 2]), epochs=10, callbacks=[cp_purchase])"
            ]
        }
    ],
    "metadata": {
        "kernelspec": {
            "display_name": "datn2",
            "language": "python",
            "name": "python3"
        },
        "language_info": {
            "codemirror_mode": {
                "name": "ipython",
                "version": 3
            },
            "file_extension": ".py",
            "mimetype": "text/x-python",
            "name": "python",
            "nbconvert_exporter": "python",
            "pygments_lexer": "ipython3",
            "version": "3.9.19"
        }
    },
    "nbformat": 4,
    "nbformat_minor": 2
}
