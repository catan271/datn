{
 "cells": [
  {
   "cell_type": "code",
   "execution_count": 1,
   "metadata": {
    "metadata": {}
   },
   "outputs": [
    {
     "data": {
      "text/plain": [
       "True"
      ]
     },
     "execution_count": 1,
     "metadata": {},
     "output_type": "execute_result"
    }
   ],
   "source": [
    "%load_ext autoreload\n",
    "%autoreload 2\n",
    "\n",
    "\n",
    "from dotenv import load_dotenv\n",
    "import pandas as pd\n",
    "import os\n",
    "import sys\n",
    "import datetime\n",
    "\n",
    "root_path = os.path.abspath(os.path.join('..'))\n",
    "if root_path not in sys.path:\n",
    "    sys.path.append(root_path)\n",
    "    \n",
    "\n",
    "load_dotenv()"
   ]
  },
  {
   "cell_type": "code",
   "execution_count": 2,
   "metadata": {
    "metadata": {}
   },
   "outputs": [
    {
     "data": {
      "text/plain": [
       "('2.10.1', [])"
      ]
     },
     "execution_count": 2,
     "metadata": {},
     "output_type": "execute_result"
    }
   ],
   "source": [
    "import tensorflow as tf\n",
    "tf.__version__, tf.config.list_physical_devices('GPU')"
   ]
  },
  {
   "cell_type": "code",
   "execution_count": 3,
   "metadata": {
    "metadata": {}
   },
   "outputs": [
    {
     "data": {
      "text/plain": [
       "((283833, 36), (283833, 4), (75767, 36), (75767, 4))"
      ]
     },
     "execution_count": 3,
     "metadata": {},
     "output_type": "execute_result"
    }
   ],
   "source": [
    "from training.utils import date_range, df_to_X_y\n",
    "\n",
    "df_train = pd.concat([\n",
    "    pd.read_csv(f'../datasets/w{d.strftime(\"%Y-%m-%d\")}.csv') for d in date_range(\n",
    "        datetime.date(2019, 11, 25), \n",
    "        datetime.date(2020, 1, 20),\n",
    "        datetime.timedelta(weeks=1),\n",
    "    )\n",
    "])\n",
    "df_val = pd.concat([\n",
    "    pd.read_csv(f'../datasets/w{d.strftime(\"%Y-%m-%d\")}.csv') for d in date_range(\n",
    "        datetime.date(2020, 1, 20), \n",
    "        datetime.date(2020, 2, 3),\n",
    "        datetime.timedelta(weeks=1),\n",
    "    )\n",
    "])\n",
    "\n",
    "X_train, y_train = df_to_X_y(df_train)\n",
    "X_val, y_val = df_to_X_y(df_val)\n",
    "\n",
    "X_train.shape, y_train.shape, X_val.shape, y_val.shape"
   ]
  },
  {
   "cell_type": "code",
   "execution_count": 4,
   "metadata": {
    "metadata": {}
   },
   "outputs": [
    {
     "name": "stdout",
     "output_type": "stream",
     "text": [
      "Model: \"sequential\"\n",
      "_________________________________________________________________\n",
      " Layer (type)                Output Shape              Param #   \n",
      "=================================================================\n",
      " conv1d (Conv1D)             (None, 34, 64)            256       \n",
      "                                                                 \n",
      " flatten (Flatten)           (None, 2176)              0         \n",
      "                                                                 \n",
      " dense (Dense)               (None, 8)                 17416     \n",
      "                                                                 \n",
      " dense_1 (Dense)             (None, 1)                 9         \n",
      "                                                                 \n",
      "=================================================================\n",
      "Total params: 17,681\n",
      "Trainable params: 17,681\n",
      "Non-trainable params: 0\n",
      "_________________________________________________________________\n"
     ]
    }
   ],
   "source": [
    "from keras.models import Sequential, clone_model\n",
    "from keras.layers import *\n",
    "from keras.callbacks import ModelCheckpoint\n",
    "from keras.losses import MeanSquaredError\n",
    "from keras.metrics import RootMeanSquaredError\n",
    "from keras.optimizers import Adam\n",
    "\n",
    "\n",
    "model = Sequential()\n",
    "model.add(InputLayer((36, 1)))\n",
    "model.add(Conv1D(64, kernel_size=3, activation='relu'))\n",
    "model.add(Flatten())\n",
    "model.add(Dense(8, 'relu'))\n",
    "model.add(Dense(1, 'linear'))\n",
    "\n",
    "model.summary()"
   ]
  },
  {
   "cell_type": "code",
   "execution_count": 5,
   "metadata": {
    "metadata": {}
   },
   "outputs": [
    {
     "name": "stdout",
     "output_type": "stream",
     "text": [
      "Epoch 1/10\n",
      "8870/8870 [==============================] - 17s 2ms/step - loss: 786.2346 - root_mean_squared_error: 28.0399 - val_loss: 1664.5541 - val_root_mean_squared_error: 40.7989\n",
      "Epoch 2/10\n",
      "8870/8870 [==============================] - 17s 2ms/step - loss: 357.9881 - root_mean_squared_error: 18.9206 - val_loss: 2107.8413 - val_root_mean_squared_error: 45.9112\n",
      "Epoch 3/10\n",
      "8870/8870 [==============================] - 16s 2ms/step - loss: 323.8746 - root_mean_squared_error: 17.9965 - val_loss: 2030.8599 - val_root_mean_squared_error: 45.0651\n",
      "Epoch 4/10\n",
      "8870/8870 [==============================] - 16s 2ms/step - loss: 327.1884 - root_mean_squared_error: 18.0883 - val_loss: 1065.2374 - val_root_mean_squared_error: 32.6380\n",
      "Epoch 5/10\n",
      "8870/8870 [==============================] - 16s 2ms/step - loss: 329.9218 - root_mean_squared_error: 18.1638 - val_loss: 1500.1304 - val_root_mean_squared_error: 38.7315\n",
      "Epoch 6/10\n",
      "8870/8870 [==============================] - 16s 2ms/step - loss: 294.8007 - root_mean_squared_error: 17.1698 - val_loss: 1573.0745 - val_root_mean_squared_error: 39.6620\n",
      "Epoch 7/10\n",
      "8870/8870 [==============================] - 16s 2ms/step - loss: 290.6670 - root_mean_squared_error: 17.0490 - val_loss: 1433.9174 - val_root_mean_squared_error: 37.8671\n",
      "Epoch 8/10\n",
      "8870/8870 [==============================] - 16s 2ms/step - loss: 302.3546 - root_mean_squared_error: 17.3883 - val_loss: 1531.5360 - val_root_mean_squared_error: 39.1348\n",
      "Epoch 9/10\n",
      "8870/8870 [==============================] - 20s 2ms/step - loss: 311.1510 - root_mean_squared_error: 17.6395 - val_loss: 1610.3064 - val_root_mean_squared_error: 40.1286\n",
      "Epoch 10/10\n",
      "8870/8870 [==============================] - 20s 2ms/step - loss: 316.7505 - root_mean_squared_error: 17.7975 - val_loss: 1649.8943 - val_root_mean_squared_error: 40.6189\n"
     ]
    }
   ],
   "source": [
    "model_view = clone_model(model)\n",
    "cp_view = ModelCheckpoint('../model/w-view.keras', save_best_only=True)\n",
    "model_view.compile(loss=MeanSquaredError(), optimizer=Adam(learning_rate=0.0001), metrics=[RootMeanSquaredError()])\n",
    "model_view.fit(X_train, y_train[:, 0], validation_data=(X_val, y_val), epochs=10, callbacks=[cp_view])\n",
    "model_view.save('../model/saved/w-view.keras')"
   ]
  },
  {
   "cell_type": "code",
   "execution_count": 6,
   "metadata": {},
   "outputs": [
    {
     "name": "stdout",
     "output_type": "stream",
     "text": [
      "Epoch 1/10\n",
      "8870/8870 [==============================] - 18s 2ms/step - loss: 131.0128 - root_mean_squared_error: 11.4461 - val_loss: 800.3040 - val_root_mean_squared_error: 28.2896\n",
      "Epoch 2/10\n",
      "8870/8870 [==============================] - 18s 2ms/step - loss: 106.1104 - root_mean_squared_error: 10.3010 - val_loss: 850.5511 - val_root_mean_squared_error: 29.1642\n",
      "Epoch 3/10\n",
      "8870/8870 [==============================] - 17s 2ms/step - loss: 103.8851 - root_mean_squared_error: 10.1924 - val_loss: 835.6631 - val_root_mean_squared_error: 28.9078\n",
      "Epoch 4/10\n",
      "8870/8870 [==============================] - 17s 2ms/step - loss: 100.1175 - root_mean_squared_error: 10.0059 - val_loss: 827.5233 - val_root_mean_squared_error: 28.7667\n",
      "Epoch 5/10\n",
      "8870/8870 [==============================] - 17s 2ms/step - loss: 96.1083 - root_mean_squared_error: 9.8035 - val_loss: 781.0389 - val_root_mean_squared_error: 27.9471\n",
      "Epoch 6/10\n",
      "8870/8870 [==============================] - 17s 2ms/step - loss: 96.1116 - root_mean_squared_error: 9.8037 - val_loss: 795.1656 - val_root_mean_squared_error: 28.1987\n",
      "Epoch 7/10\n",
      "8870/8870 [==============================] - 17s 2ms/step - loss: 96.5869 - root_mean_squared_error: 9.8279 - val_loss: 844.0371 - val_root_mean_squared_error: 29.0523\n",
      "Epoch 8/10\n",
      "8870/8870 [==============================] - 19s 2ms/step - loss: 95.1682 - root_mean_squared_error: 9.7554 - val_loss: 801.5772 - val_root_mean_squared_error: 28.3121\n",
      "Epoch 9/10\n",
      "8870/8870 [==============================] - 17s 2ms/step - loss: 92.5691 - root_mean_squared_error: 9.6213 - val_loss: 813.2497 - val_root_mean_squared_error: 28.5175\n",
      "Epoch 10/10\n",
      "8870/8870 [==============================] - 17s 2ms/step - loss: 93.4583 - root_mean_squared_error: 9.6674 - val_loss: 803.2714 - val_root_mean_squared_error: 28.3420\n"
     ]
    }
   ],
   "source": [
    "\n",
    "model_cart = clone_model(model)\n",
    "cp_cart = ModelCheckpoint('../model/w-cart.keras', save_best_only=True)\n",
    "model_cart.compile(loss=MeanSquaredError(), optimizer=Adam(learning_rate=0.0001), metrics=[RootMeanSquaredError()])\n",
    "model_cart.fit(X_train, y_train[:, 1], validation_data=(X_val, y_val), epochs=10, callbacks=[cp_cart])\n",
    "model_cart.save('../model/saved/w-cart.keras')"
   ]
  },
  {
   "cell_type": "code",
   "execution_count": 7,
   "metadata": {},
   "outputs": [
    {
     "name": "stdout",
     "output_type": "stream",
     "text": [
      "Epoch 1/10\n",
      "8870/8870 [==============================] - 17s 2ms/step - loss: 2568.5837 - root_mean_squared_error: 50.6812 - val_loss: 824.6478 - val_root_mean_squared_error: 28.7167\n",
      "Epoch 2/10\n",
      "8870/8870 [==============================] - 17s 2ms/step - loss: 32.9596 - root_mean_squared_error: 5.7410 - val_loss: 859.9853 - val_root_mean_squared_error: 29.3255\n",
      "Epoch 3/10\n",
      "8870/8870 [==============================] - 17s 2ms/step - loss: 30.6937 - root_mean_squared_error: 5.5402 - val_loss: 842.7704 - val_root_mean_squared_error: 29.0305\n",
      "Epoch 4/10\n",
      "8870/8870 [==============================] - 17s 2ms/step - loss: 29.2712 - root_mean_squared_error: 5.4103 - val_loss: 768.8834 - val_root_mean_squared_error: 27.7287\n",
      "Epoch 5/10\n",
      "8870/8870 [==============================] - 17s 2ms/step - loss: 30.7130 - root_mean_squared_error: 5.5419 - val_loss: 844.9459 - val_root_mean_squared_error: 29.0680\n",
      "Epoch 6/10\n",
      "8870/8870 [==============================] - 17s 2ms/step - loss: 29.4015 - root_mean_squared_error: 5.4223 - val_loss: 846.9072 - val_root_mean_squared_error: 29.1017\n",
      "Epoch 7/10\n",
      "8870/8870 [==============================] - 17s 2ms/step - loss: 29.1207 - root_mean_squared_error: 5.3964 - val_loss: 850.8561 - val_root_mean_squared_error: 29.1694\n",
      "Epoch 8/10\n",
      "8870/8870 [==============================] - 17s 2ms/step - loss: 28.9261 - root_mean_squared_error: 5.3783 - val_loss: 848.4552 - val_root_mean_squared_error: 29.1283\n",
      "Epoch 9/10\n",
      "8870/8870 [==============================] - 17s 2ms/step - loss: 30.3099 - root_mean_squared_error: 5.5054 - val_loss: 863.5707 - val_root_mean_squared_error: 29.3866\n",
      "Epoch 10/10\n",
      "8870/8870 [==============================] - 17s 2ms/step - loss: 27.6849 - root_mean_squared_error: 5.2616 - val_loss: 822.4025 - val_root_mean_squared_error: 28.6776\n"
     ]
    }
   ],
   "source": [
    "\n",
    "model_remove_from_cart = clone_model(model)\n",
    "cp_remove_from_cart = ModelCheckpoint('../model/w-remove_from_cart.keras', save_best_only=True)\n",
    "model_remove_from_cart.compile(loss=MeanSquaredError(), optimizer=Adam(learning_rate=0.0001), metrics=[RootMeanSquaredError()])\n",
    "model_remove_from_cart.fit(X_train, y_train[:, 2], validation_data=(X_val, y_val), epochs=10, callbacks=[cp_remove_from_cart])\n",
    "model_remove_from_cart.save('../model/saved/w-remove_from_cart.keras')"
   ]
  },
  {
   "cell_type": "code",
   "execution_count": 8,
   "metadata": {},
   "outputs": [
    {
     "name": "stdout",
     "output_type": "stream",
     "text": [
      "Epoch 1/10\n",
      "8870/8870 [==============================] - 18s 2ms/step - loss: 28.6198 - root_mean_squared_error: 5.3497 - val_loss: 980.2920 - val_root_mean_squared_error: 31.3096\n",
      "Epoch 2/10\n",
      "8870/8870 [==============================] - 17s 2ms/step - loss: 7.1688 - root_mean_squared_error: 2.6775 - val_loss: 1021.5852 - val_root_mean_squared_error: 31.9622\n",
      "Epoch 3/10\n",
      "8870/8870 [==============================] - 17s 2ms/step - loss: 6.6706 - root_mean_squared_error: 2.5828 - val_loss: 1018.2416 - val_root_mean_squared_error: 31.9099\n",
      "Epoch 4/10\n",
      "8870/8870 [==============================] - 17s 2ms/step - loss: 6.3870 - root_mean_squared_error: 2.5273 - val_loss: 989.2228 - val_root_mean_squared_error: 31.4519\n",
      "Epoch 5/10\n",
      "8870/8870 [==============================] - 17s 2ms/step - loss: 6.2807 - root_mean_squared_error: 2.5061 - val_loss: 1008.7740 - val_root_mean_squared_error: 31.7612\n",
      "Epoch 6/10\n",
      "8870/8870 [==============================] - 17s 2ms/step - loss: 6.3355 - root_mean_squared_error: 2.5170 - val_loss: 949.4120 - val_root_mean_squared_error: 30.8125\n",
      "Epoch 7/10\n",
      "8870/8870 [==============================] - 17s 2ms/step - loss: 5.9678 - root_mean_squared_error: 2.4429 - val_loss: 1008.4277 - val_root_mean_squared_error: 31.7558\n",
      "Epoch 8/10\n",
      "8870/8870 [==============================] - 18s 2ms/step - loss: 5.9102 - root_mean_squared_error: 2.4311 - val_loss: 1016.1714 - val_root_mean_squared_error: 31.8774\n",
      "Epoch 9/10\n",
      "8870/8870 [==============================] - 17s 2ms/step - loss: 6.3271 - root_mean_squared_error: 2.5154 - val_loss: 992.8629 - val_root_mean_squared_error: 31.5097\n",
      "Epoch 10/10\n",
      "8870/8870 [==============================] - 17s 2ms/step - loss: 6.0620 - root_mean_squared_error: 2.4621 - val_loss: 996.7258 - val_root_mean_squared_error: 31.5710\n"
     ]
    }
   ],
   "source": [
    "\n",
    "model_purchase = clone_model(model)\n",
    "cp_purchase = ModelCheckpoint('../model/w-purchase.keras', save_best_only=True)\n",
    "model_purchase.compile(loss=MeanSquaredError(), optimizer=Adam(learning_rate=0.0001), metrics=[RootMeanSquaredError()])\n",
    "model_purchase.fit(X_train, y_train[:, 3], validation_data=(X_val, y_val), epochs=10, callbacks=[cp_purchase])\n",
    "model_purchase.save('../model/saved/w-purchase.keras')"
   ]
  }
 ],
 "metadata": {
  "kernelspec": {
   "display_name": "datn",
   "language": "python",
   "name": "python3"
  },
  "language_info": {
   "codemirror_mode": {
    "name": "ipython",
    "version": 3
   },
   "file_extension": ".py",
   "mimetype": "text/x-python",
   "name": "python",
   "nbconvert_exporter": "python",
   "pygments_lexer": "ipython3",
   "version": "3.9.19"
  }
 },
 "nbformat": 4,
 "nbformat_minor": 4
}
