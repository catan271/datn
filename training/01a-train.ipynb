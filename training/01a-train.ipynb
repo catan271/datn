{
 "cells": [
  {
   "cell_type": "code",
   "execution_count": 1,
   "metadata": {
    "metadata": {}
   },
   "outputs": [
    {
     "data": {
      "text/plain": [
       "True"
      ]
     },
     "execution_count": 1,
     "metadata": {},
     "output_type": "execute_result"
    }
   ],
   "source": [
    "%load_ext autoreload\n",
    "%autoreload 2\n",
    "\n",
    "\n",
    "from dotenv import load_dotenv\n",
    "import pandas as pd\n",
    "import os\n",
    "import sys\n",
    "import datetime\n",
    "\n",
    "root_path = os.path.abspath(os.path.join('..'))\n",
    "if root_path not in sys.path:\n",
    "    sys.path.append(root_path)\n",
    "    \n",
    "\n",
    "load_dotenv()"
   ]
  },
  {
   "cell_type": "code",
   "execution_count": 2,
   "metadata": {
    "metadata": {}
   },
   "outputs": [
    {
     "data": {
      "text/plain": [
       "('2.10.1', [])"
      ]
     },
     "execution_count": 2,
     "metadata": {},
     "output_type": "execute_result"
    }
   ],
   "source": [
    "import tensorflow as tf\n",
    "tf.__version__, tf.config.list_physical_devices('GPU')"
   ]
  },
  {
   "cell_type": "code",
   "execution_count": 3,
   "metadata": {
    "metadata": {}
   },
   "outputs": [
    {
     "data": {
      "text/plain": [
       "((283833, 36), (283833, 4), (75767, 36), (75767, 4))"
      ]
     },
     "execution_count": 3,
     "metadata": {},
     "output_type": "execute_result"
    }
   ],
   "source": [
    "from training.utils import date_range, df_to_X_y\n",
    "\n",
    "df_train = pd.concat([\n",
    "    pd.read_csv(f'../datasets/w{d.strftime(\"%Y-%m-%d\")}.csv') for d in date_range(\n",
    "        datetime.date(2019, 11, 25), \n",
    "        datetime.date(2020, 1, 20),\n",
    "        datetime.timedelta(weeks=1),\n",
    "    )\n",
    "])\n",
    "df_val = pd.concat([\n",
    "    pd.read_csv(f'../datasets/w{d.strftime(\"%Y-%m-%d\")}.csv') for d in date_range(\n",
    "        datetime.date(2020, 1, 20), \n",
    "        datetime.date(2020, 2, 3),\n",
    "        datetime.timedelta(weeks=1),\n",
    "    )\n",
    "])\n",
    "\n",
    "X_train, y_train = df_to_X_y(df_train)\n",
    "X_val, y_val = df_to_X_y(df_val)\n",
    "\n",
    "X_train.shape, y_train.shape, X_val.shape, y_val.shape"
   ]
  },
  {
   "cell_type": "code",
   "execution_count": 6,
   "metadata": {
    "metadata": {}
   },
   "outputs": [
    {
     "name": "stdout",
     "output_type": "stream",
     "text": [
      "Model: \"sequential_1\"\n",
      "_________________________________________________________________\n",
      " Layer (type)                Output Shape              Param #   \n",
      "=================================================================\n",
      " conv1d_1 (Conv1D)           (None, 34, 64)            256       \n",
      "                                                                 \n",
      " flatten_1 (Flatten)         (None, 2176)              0         \n",
      "                                                                 \n",
      " dense_2 (Dense)             (None, 8)                 17416     \n",
      "                                                                 \n",
      " dense_3 (Dense)             (None, 1)                 9         \n",
      "                                                                 \n",
      "=================================================================\n",
      "Total params: 17,681\n",
      "Trainable params: 17,681\n",
      "Non-trainable params: 0\n",
      "_________________________________________________________________\n"
     ]
    }
   ],
   "source": [
    "from keras.models import Sequential, clone_model\n",
    "from keras.layers import *\n",
    "from keras.callbacks import ModelCheckpoint\n",
    "from keras.losses import MeanSquaredError\n",
    "from keras.metrics import RootMeanSquaredError\n",
    "from keras.optimizers import Adam\n",
    "\n",
    "\n",
    "model = Sequential()\n",
    "model.add(InputLayer((36, 1)))\n",
    "model.add(Conv1D(64, kernel_size=3, activation='relu'))\n",
    "model.add(Flatten())\n",
    "model.add(Dense(8, 'relu'))\n",
    "model.add(Dense(1, 'linear'))\n",
    "\n",
    "model.summary()"
   ]
  },
  {
   "cell_type": "code",
   "execution_count": 7,
   "metadata": {
    "metadata": {}
   },
   "outputs": [
    {
     "name": "stdout",
     "output_type": "stream",
     "text": [
      "Epoch 1/10\n",
      "8870/8870 [==============================] - 17s 2ms/step - loss: 753.0549 - root_mean_squared_error: 27.4418 - val_loss: 1377.7699 - val_root_mean_squared_error: 37.1183\n",
      "Epoch 2/10\n",
      "8870/8870 [==============================] - 18s 2ms/step - loss: 334.2260 - root_mean_squared_error: 18.2818 - val_loss: 1409.8708 - val_root_mean_squared_error: 37.5482\n",
      "Epoch 3/10\n",
      "8870/8870 [==============================] - 20s 2ms/step - loss: 334.1876 - root_mean_squared_error: 18.2808 - val_loss: 1449.3274 - val_root_mean_squared_error: 38.0700\n",
      "Epoch 4/10\n",
      "8870/8870 [==============================] - 20s 2ms/step - loss: 332.8439 - root_mean_squared_error: 18.2440 - val_loss: 1138.5463 - val_root_mean_squared_error: 33.7424\n",
      "Epoch 5/10\n",
      "8870/8870 [==============================] - 23s 3ms/step - loss: 295.5320 - root_mean_squared_error: 17.1910 - val_loss: 1797.5740 - val_root_mean_squared_error: 42.3978\n",
      "Epoch 6/10\n",
      "8870/8870 [==============================] - 20s 2ms/step - loss: 314.0808 - root_mean_squared_error: 17.7223 - val_loss: 1694.8190 - val_root_mean_squared_error: 41.1682\n",
      "Epoch 7/10\n",
      "8870/8870 [==============================] - 19s 2ms/step - loss: 306.3587 - root_mean_squared_error: 17.5031 - val_loss: 1413.8938 - val_root_mean_squared_error: 37.6018\n",
      "Epoch 8/10\n",
      "8870/8870 [==============================] - 19s 2ms/step - loss: 316.7484 - root_mean_squared_error: 17.7974 - val_loss: 1649.8937 - val_root_mean_squared_error: 40.6189\n",
      "Epoch 9/10\n",
      "8870/8870 [==============================] - 19s 2ms/step - loss: 295.0742 - root_mean_squared_error: 17.1777 - val_loss: 2144.0059 - val_root_mean_squared_error: 46.3034\n",
      "Epoch 10/10\n",
      "8870/8870 [==============================] - 18s 2ms/step - loss: 292.8196 - root_mean_squared_error: 17.1120 - val_loss: 1541.7214 - val_root_mean_squared_error: 39.2648\n",
      "Epoch 1/10\n",
      "8870/8870 [==============================] - 21s 2ms/step - loss: 797.5213 - root_mean_squared_error: 28.2404 - val_loss: 831.4808 - val_root_mean_squared_error: 28.8354\n",
      "Epoch 2/10\n",
      "8870/8870 [==============================] - 21s 2ms/step - loss: 109.0697 - root_mean_squared_error: 10.4436 - val_loss: 825.2634 - val_root_mean_squared_error: 28.7274\n",
      "Epoch 3/10\n",
      "8870/8870 [==============================] - 19s 2ms/step - loss: 108.4115 - root_mean_squared_error: 10.4121 - val_loss: 817.2152 - val_root_mean_squared_error: 28.5870\n",
      "Epoch 4/10\n",
      "8870/8870 [==============================] - 18s 2ms/step - loss: 103.2150 - root_mean_squared_error: 10.1595 - val_loss: 853.0206 - val_root_mean_squared_error: 29.2065\n",
      "Epoch 5/10\n",
      "8870/8870 [==============================] - 18s 2ms/step - loss: 112.3397 - root_mean_squared_error: 10.5990 - val_loss: 812.7744 - val_root_mean_squared_error: 28.5092\n",
      "Epoch 6/10\n",
      "8870/8870 [==============================] - 20s 2ms/step - loss: 100.9371 - root_mean_squared_error: 10.0467 - val_loss: 811.2744 - val_root_mean_squared_error: 28.4829\n",
      "Epoch 7/10\n",
      "8870/8870 [==============================] - 21s 2ms/step - loss: 102.9817 - root_mean_squared_error: 10.1480 - val_loss: 780.0373 - val_root_mean_squared_error: 27.9291\n",
      "Epoch 8/10\n",
      "8870/8870 [==============================] - 18s 2ms/step - loss: 96.5273 - root_mean_squared_error: 9.8248 - val_loss: 878.2186 - val_root_mean_squared_error: 29.6348\n",
      "Epoch 9/10\n",
      "8870/8870 [==============================] - 18s 2ms/step - loss: 97.6241 - root_mean_squared_error: 9.8805 - val_loss: 850.2828 - val_root_mean_squared_error: 29.1596\n",
      "Epoch 10/10\n",
      "8870/8870 [==============================] - 18s 2ms/step - loss: 95.9480 - root_mean_squared_error: 9.7953 - val_loss: 790.1639 - val_root_mean_squared_error: 28.1099\n",
      "Epoch 1/10\n",
      "8870/8870 [==============================] - 19s 2ms/step - loss: 34.5470 - root_mean_squared_error: 5.8777 - val_loss: 833.4137 - val_root_mean_squared_error: 28.8689\n",
      "Epoch 2/10\n",
      "8870/8870 [==============================] - 18s 2ms/step - loss: 30.8688 - root_mean_squared_error: 5.5560 - val_loss: 817.8832 - val_root_mean_squared_error: 28.5987\n",
      "Epoch 3/10\n",
      "8870/8870 [==============================] - 18s 2ms/step - loss: 30.1114 - root_mean_squared_error: 5.4874 - val_loss: 810.1605 - val_root_mean_squared_error: 28.4633\n",
      "Epoch 4/10\n",
      "8870/8870 [==============================] - 19s 2ms/step - loss: 29.5919 - root_mean_squared_error: 5.4398 - val_loss: 827.5771 - val_root_mean_squared_error: 28.7676\n",
      "Epoch 5/10\n",
      "8870/8870 [==============================] - 18s 2ms/step - loss: 28.9820 - root_mean_squared_error: 5.3835 - val_loss: 824.3822 - val_root_mean_squared_error: 28.7121\n",
      "Epoch 6/10\n",
      "8870/8870 [==============================] - 19s 2ms/step - loss: 28.9664 - root_mean_squared_error: 5.3820 - val_loss: 831.3622 - val_root_mean_squared_error: 28.8334\n",
      "Epoch 7/10\n",
      "8870/8870 [==============================] - 19s 2ms/step - loss: 28.5523 - root_mean_squared_error: 5.3434 - val_loss: 840.7961 - val_root_mean_squared_error: 28.9965\n",
      "Epoch 8/10\n",
      "8870/8870 [==============================] - 18s 2ms/step - loss: 28.5031 - root_mean_squared_error: 5.3388 - val_loss: 839.4944 - val_root_mean_squared_error: 28.9740\n",
      "Epoch 9/10\n",
      "8870/8870 [==============================] - 22s 2ms/step - loss: 27.7931 - root_mean_squared_error: 5.2719 - val_loss: 890.3469 - val_root_mean_squared_error: 29.8387\n",
      "Epoch 10/10\n",
      "8870/8870 [==============================] - 18s 2ms/step - loss: 28.4099 - root_mean_squared_error: 5.3301 - val_loss: 834.7587 - val_root_mean_squared_error: 28.8922\n",
      "Epoch 1/10\n",
      "8870/8870 [==============================] - 18s 2ms/step - loss: 478.2195 - root_mean_squared_error: 21.8682 - val_loss: 1010.7150 - val_root_mean_squared_error: 31.7917\n",
      "Epoch 2/10\n",
      "8870/8870 [==============================] - 17s 2ms/step - loss: 7.1381 - root_mean_squared_error: 2.6717 - val_loss: 1017.1243 - val_root_mean_squared_error: 31.8924\n",
      "Epoch 3/10\n",
      "8870/8870 [==============================] - 17s 2ms/step - loss: 7.0796 - root_mean_squared_error: 2.6607 - val_loss: 997.7259 - val_root_mean_squared_error: 31.5868\n",
      "Epoch 4/10\n",
      "8870/8870 [==============================] - 17s 2ms/step - loss: 7.0558 - root_mean_squared_error: 2.6563 - val_loss: 1002.2394 - val_root_mean_squared_error: 31.6582\n",
      "Epoch 5/10\n",
      "8870/8870 [==============================] - 18s 2ms/step - loss: 6.4692 - root_mean_squared_error: 2.5435 - val_loss: 992.0823 - val_root_mean_squared_error: 31.4973\n",
      "Epoch 6/10\n",
      "8870/8870 [==============================] - 17s 2ms/step - loss: 6.3317 - root_mean_squared_error: 2.5163 - val_loss: 1046.5569 - val_root_mean_squared_error: 32.3505\n",
      "Epoch 7/10\n",
      "8870/8870 [==============================] - 18s 2ms/step - loss: 6.1428 - root_mean_squared_error: 2.4785 - val_loss: 1003.4092 - val_root_mean_squared_error: 31.6766\n",
      "Epoch 8/10\n",
      "8870/8870 [==============================] - 18s 2ms/step - loss: 6.0101 - root_mean_squared_error: 2.4516 - val_loss: 1004.8821 - val_root_mean_squared_error: 31.6999\n",
      "Epoch 9/10\n",
      "8870/8870 [==============================] - 18s 2ms/step - loss: 5.7643 - root_mean_squared_error: 2.4009 - val_loss: 1015.5637 - val_root_mean_squared_error: 31.8679\n",
      "Epoch 10/10\n",
      "8870/8870 [==============================] - 18s 2ms/step - loss: 5.8038 - root_mean_squared_error: 2.4091 - val_loss: 1047.9752 - val_root_mean_squared_error: 32.3724\n"
     ]
    },
    {
     "data": {
      "text/plain": [
       "<keras.callbacks.History at 0x1816cb15a30>"
      ]
     },
     "execution_count": 7,
     "metadata": {},
     "output_type": "execute_result"
    }
   ],
   "source": [
    "model_view = clone_model(model)\n",
    "cp_view = ModelCheckpoint('../model/w-view.keras', save_best_only=True)\n",
    "model_view.compile(loss=MeanSquaredError(), optimizer=Adam(learning_rate=0.0001), metrics=[RootMeanSquaredError()])\n",
    "model_view.fit(X_train, y_train[:, 0], validation_data=(X_val, y_val), epochs=10, callbacks=[cp_view])\n",
    "\n",
    "model_cart = clone_model(model)\n",
    "cp_cart = ModelCheckpoint('../model/w-cart.keras', save_best_only=True)\n",
    "model_cart.compile(loss=MeanSquaredError(), optimizer=Adam(learning_rate=0.0001), metrics=[RootMeanSquaredError()])\n",
    "model_cart.fit(X_train, y_train[:, 1], validation_data=(X_val, y_val), epochs=10, callbacks=[cp_cart])\n",
    "\n",
    "model_remove_from_cart = clone_model(model)\n",
    "cp_remove_from_cart = ModelCheckpoint('../model/w-remove_from_cart.keras', save_best_only=True)\n",
    "model_remove_from_cart.compile(loss=MeanSquaredError(), optimizer=Adam(learning_rate=0.0001), metrics=[RootMeanSquaredError()])\n",
    "model_remove_from_cart.fit(X_train, y_train[:, 2], validation_data=(X_val, y_val), epochs=10, callbacks=[cp_remove_from_cart])\n",
    "\n",
    "model_purchase = clone_model(model)\n",
    "cp_purchase = ModelCheckpoint('../model/w-purchase.keras', save_best_only=True)\n",
    "model_purchase.compile(loss=MeanSquaredError(), optimizer=Adam(learning_rate=0.0001), metrics=[RootMeanSquaredError()])\n",
    "model_purchase.fit(X_train, y_train[:, 3], validation_data=(X_val, y_val), epochs=10, callbacks=[cp_purchase])"
   ]
  },
  {
   "cell_type": "code",
   "execution_count": 8,
   "metadata": {
    "metadata": {}
   },
   "outputs": [],
   "source": [
    "model_view.save('../model/saved/w-view.keras')\n",
    "model_cart.save('../model/saved/w-cart.keras')\n",
    "model_remove_from_cart.save('../model/saved/w-remove_from_cart.keras')\n",
    "model_purchase.save('../model/saved/w-purchase.keras')"
   ]
  }
 ],
 "metadata": {
  "kernelspec": {
   "display_name": ".venv",
   "language": "python",
   "name": "python3"
  },
  "language_info": {
   "codemirror_mode": {
    "name": "ipython",
    "version": 3
   },
   "file_extension": ".py",
   "mimetype": "text/x-python",
   "name": "python",
   "nbconvert_exporter": "python",
   "pygments_lexer": "ipython3",
   "version": "3.9.19"
  }
 },
 "nbformat": 4,
 "nbformat_minor": 2
}
