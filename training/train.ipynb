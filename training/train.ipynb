{
 "cells": [
  {
   "cell_type": "code",
   "execution_count": 1,
   "metadata": {
    "metadata": {}
   },
   "outputs": [
    {
     "data": {
      "text/plain": [
       "True"
      ]
     },
     "execution_count": 1,
     "metadata": {},
     "output_type": "execute_result"
    }
   ],
   "source": [
    "from dotenv import load_dotenv\n",
    "import pandas as pd\n",
    "import os\n",
    "import sys\n",
    "import datetime\n",
    "\n",
    "root_path = os.path.abspath(os.path.join('..'))\n",
    "if root_path not in sys.path:\n",
    "    sys.path.append(root_path)\n",
    "    \n",
    "\n",
    "load_dotenv()"
   ]
  },
  {
   "cell_type": "code",
   "execution_count": 2,
   "metadata": {
    "metadata": {}
   },
   "outputs": [
    {
     "data": {
      "text/plain": [
       "('2.10.1', [])"
      ]
     },
     "execution_count": 2,
     "metadata": {},
     "output_type": "execute_result"
    }
   ],
   "source": [
    "import tensorflow as tf\n",
    "tf.__version__, tf.config.list_physical_devices('GPU')"
   ]
  },
  {
   "cell_type": "code",
   "execution_count": 3,
   "metadata": {
    "metadata": {}
   },
   "outputs": [],
   "source": [
    "def df_to_X_y(df: pd.DataFrame):\n",
    "    df['days_on_shelf'] = pd.to_datetime(df['date']) - pd.to_datetime(df['release_date'])\n",
    "    df['days_on_shelf'] = df['days_on_shelf'].dt.days.astype('int16')\n",
    "    cols = df.columns.tolist()\n",
    "    cols = cols[:4] + cols[-1:] + cols[4:-1]\n",
    "    df = df[cols]\n",
    "    df.pop('date')\n",
    "    df.pop('release_date')\n",
    "\n",
    "    df_as_np = df.to_numpy()\n",
    "    X = df_as_np[:, 4:]\n",
    "    y = df_as_np[:, :4]\n",
    "    return X, y\n",
    "\n",
    "def date_range(start: datetime.date, end: datetime.date, step: datetime.timedelta):\n",
    "    while start < end:\n",
    "        yield start\n",
    "        start += step"
   ]
  },
  {
   "cell_type": "code",
   "execution_count": 4,
   "metadata": {
    "metadata": {}
   },
   "outputs": [
    {
     "data": {
      "text/plain": [
       "((499639, 22),\n",
       " (499639, 4),\n",
       " (150896, 22),\n",
       " (150896, 4),\n",
       " (157826, 22),\n",
       " (157826, 4))"
      ]
     },
     "execution_count": 4,
     "metadata": {},
     "output_type": "execute_result"
    }
   ],
   "source": [
    "df_train = pd.concat([\n",
    "    pd.read_csv(f'../datasets/{d.strftime(\"%Y-%m-%d\")}.csv') for d in date_range(\n",
    "        datetime.date(2019, 9, 30), \n",
    "        datetime.date(2020, 1, 6),\n",
    "        datetime.timedelta(weeks=1),\n",
    "    )\n",
    "])\n",
    "df_val = pd.concat([\n",
    "    pd.read_csv(f'../datasets/{d.strftime(\"%Y-%m-%d\")}.csv') for d in date_range(\n",
    "        datetime.date(2020, 1, 6), \n",
    "        datetime.date(2020, 2, 3),\n",
    "        datetime.timedelta(weeks=1),\n",
    "    )\n",
    "])\n",
    "df_test = pd.concat([\n",
    "    pd.read_csv(f'../datasets/{d.strftime(\"%Y-%m-%d\")}.csv') for d in date_range(\n",
    "        datetime.date(2020, 2, 3), \n",
    "        datetime.date(2020, 2, 25),\n",
    "        datetime.timedelta(weeks=1),\n",
    "    )\n",
    "])\n",
    "\n",
    "X_train, y_train = df_to_X_y(df_train)\n",
    "X_val, y_val = df_to_X_y(df_val)\n",
    "X_test, y_test = df_to_X_y(df_test)\n",
    "\n",
    "X_train.shape, y_train.shape, X_val.shape, y_val.shape, X_test.shape, y_test.shape"
   ]
  },
  {
   "cell_type": "code",
   "execution_count": 5,
   "metadata": {
    "metadata": {}
   },
   "outputs": [
    {
     "name": "stdout",
     "output_type": "stream",
     "text": [
      "Model: \"sequential\"\n",
      "_________________________________________________________________\n",
      " Layer (type)                Output Shape              Param #   \n",
      "=================================================================\n",
      " lstm (LSTM)                 (None, 64)                16896     \n",
      "                                                                 \n",
      " dense (Dense)               (None, 8)                 520       \n",
      "                                                                 \n",
      " dense_1 (Dense)             (None, 4)                 36        \n",
      "                                                                 \n",
      "=================================================================\n",
      "Total params: 17,452\n",
      "Trainable params: 17,452\n",
      "Non-trainable params: 0\n",
      "_________________________________________________________________\n"
     ]
    }
   ],
   "source": [
    "from keras.models import Sequential\n",
    "from keras.layers import *\n",
    "from keras.callbacks import ModelCheckpoint\n",
    "from keras.losses import MeanSquaredError\n",
    "from keras.metrics import RootMeanSquaredError\n",
    "from keras.optimizers import Adam\n",
    "\n",
    "\n",
    "model = Sequential()\n",
    "model.add(InputLayer((22, 1)))\n",
    "model.add(LSTM(64))\n",
    "model.add(Dense(8, 'relu'))\n",
    "model.add(Dense(4, 'linear'))\n",
    "\n",
    "model.summary()"
   ]
  },
  {
   "cell_type": "code",
   "execution_count": 6,
   "metadata": {
    "metadata": {}
   },
   "outputs": [
    {
     "name": "stdout",
     "output_type": "stream",
     "text": [
      "Epoch 1/10\n",
      "15614/15614 [==============================] - 165s 10ms/step - loss: 535.2994 - root_mean_squared_error: 23.1365 - val_loss: 759.3690 - val_root_mean_squared_error: 27.5567\n",
      "Epoch 2/10\n",
      "15614/15614 [==============================] - 152s 10ms/step - loss: 428.8335 - root_mean_squared_error: 20.7083 - val_loss: 680.6849 - val_root_mean_squared_error: 26.0899\n",
      "Epoch 3/10\n",
      "15614/15614 [==============================] - 151s 10ms/step - loss: 389.3810 - root_mean_squared_error: 19.7327 - val_loss: 650.0763 - val_root_mean_squared_error: 25.4966\n",
      "Epoch 4/10\n",
      "15614/15614 [==============================] - 151s 10ms/step - loss: 360.7973 - root_mean_squared_error: 18.9947 - val_loss: 627.9405 - val_root_mean_squared_error: 25.0587\n",
      "Epoch 5/10\n",
      "15614/15614 [==============================] - 151s 10ms/step - loss: 337.4073 - root_mean_squared_error: 18.3687 - val_loss: 585.2379 - val_root_mean_squared_error: 24.1917\n",
      "Epoch 6/10\n",
      "15614/15614 [==============================] - 157s 10ms/step - loss: 321.9774 - root_mean_squared_error: 17.9437 - val_loss: 563.6566 - val_root_mean_squared_error: 23.7415\n",
      "Epoch 7/10\n",
      "15614/15614 [==============================] - 167s 11ms/step - loss: 309.0504 - root_mean_squared_error: 17.5798 - val_loss: 577.8956 - val_root_mean_squared_error: 24.0395\n",
      "Epoch 8/10\n",
      "15614/15614 [==============================] - 165s 11ms/step - loss: 296.0768 - root_mean_squared_error: 17.2069 - val_loss: 555.3906 - val_root_mean_squared_error: 23.5667\n",
      "Epoch 9/10\n",
      "15614/15614 [==============================] - 170s 11ms/step - loss: 288.5946 - root_mean_squared_error: 16.9881 - val_loss: 537.4179 - val_root_mean_squared_error: 23.1823\n",
      "Epoch 10/10\n",
      "15614/15614 [==============================] - 158s 10ms/step - loss: 283.9981 - root_mean_squared_error: 16.8522 - val_loss: 514.4391 - val_root_mean_squared_error: 22.6812\n"
     ]
    },
    {
     "data": {
      "text/plain": [
       "<keras.callbacks.History at 0x236629033a0>"
      ]
     },
     "execution_count": 6,
     "metadata": {},
     "output_type": "execute_result"
    }
   ],
   "source": [
    "cp = ModelCheckpoint('../model/model1.keras', save_best_only=True)\n",
    "model.compile(loss=MeanSquaredError(), optimizer=Adam(learning_rate=0.0001), metrics=[RootMeanSquaredError()])\n",
    "\n",
    "model.fit(X_train, y_train, validation_data=(X_val, y_val), epochs=10, callbacks=[cp])"
   ]
  },
  {
   "cell_type": "code",
   "execution_count": 9,
   "metadata": {
    "metadata": {}
   },
   "outputs": [
    {
     "name": "stdout",
     "output_type": "stream",
     "text": [
      "4716/4716 [==============================] - 19s 4ms/step\n"
     ]
    }
   ],
   "source": [
    "p = model.predict(X_test)\n",
    "df = pd.DataFrame({ \n",
    "    'predict_view': p[:, 0],\n",
    "    'view': y_test[:, 0],\n",
    "    'predict_cart': p[:, 1],\n",
    "    'cart': y_test[:, 1],\n",
    "    'predict_remove_from_cart': p[:, 2],\n",
    "    'remove_from_cart': y_test[:, 2],\n",
    "    'predict_purchase': p[:, 3],\n",
    "    'purchase': y_test[:, 3],\n",
    "})\n",
    "df.to_csv('test.csv')"
   ]
  }
 ],
 "metadata": {
  "kernelspec": {
   "display_name": ".venv",
   "language": "python",
   "name": "python3"
  },
  "language_info": {
   "codemirror_mode": {
    "name": "ipython",
    "version": 3
   },
   "file_extension": ".py",
   "mimetype": "text/x-python",
   "name": "python",
   "nbconvert_exporter": "python",
   "pygments_lexer": "ipython3",
   "version": "3.9.19"
  }
 },
 "nbformat": 4,
 "nbformat_minor": 2
}
